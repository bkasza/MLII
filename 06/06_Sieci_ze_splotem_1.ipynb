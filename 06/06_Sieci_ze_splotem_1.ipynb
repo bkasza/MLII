{
  "cells": [
    {
      "cell_type": "markdown",
      "metadata": {
        "editable": true,
        "id": "LDZNL4KLXXzA",
        "tags": []
      },
      "source": [
        "## Inicjalizacja środowiska programistycznego"
      ]
    },
    {
      "cell_type": "code",
      "execution_count": 1,
      "metadata": {
        "editable": true,
        "id": "pTFZ5Y39XXzI",
        "tags": []
      },
      "outputs": [
        {
          "name": "stderr",
          "output_type": "stream",
          "text": [
            "2025-04-23 08:10:51.489801: E external/local_xla/xla/stream_executor/cuda/cuda_dnn.cc:9261] Unable to register cuDNN factory: Attempting to register factory for plugin cuDNN when one has already been registered\n",
            "2025-04-23 08:10:51.490601: E external/local_xla/xla/stream_executor/cuda/cuda_fft.cc:607] Unable to register cuFFT factory: Attempting to register factory for plugin cuFFT when one has already been registered\n",
            "2025-04-23 08:10:51.611059: E external/local_xla/xla/stream_executor/cuda/cuda_blas.cc:1515] Unable to register cuBLAS factory: Attempting to register factory for plugin cuBLAS when one has already been registered\n",
            "2025-04-23 08:10:51.941043: I tensorflow/core/platform/cpu_feature_guard.cc:182] This TensorFlow binary is optimized to use available CPU instructions in performance-critical operations.\n",
            "To enable the following instructions: AVX2 FMA, in other operations, rebuild TensorFlow with the appropriate compiler flags.\n"
          ]
        }
      ],
      "source": [
        "#Color printing\n",
        "from termcolor import colored\n",
        "\n",
        "#General data operations library\n",
        "import math\n",
        "import string\n",
        "from datetime import datetime\n",
        "import numpy as np\n",
        "\n",
        "#The tensorflow library\n",
        "import tensorflow  as tf\n",
        "\n",
        "#Plotting libraries\n",
        "import matplotlib as mpl\n",
        "import matplotlib.pyplot as plt\n",
        "\n",
        "#Increase plots font size\n",
        "params = {'legend.fontsize': 'xx-large',\n",
        "          'figure.figsize': (10, 7),\n",
        "         'axes.labelsize': 'xx-large',\n",
        "         'axes.titlesize':'xx-large',\n",
        "         'xtick.labelsize':'xx-large',\n",
        "         'ytick.labelsize':'xx-large'}\n",
        "plt.rcParams.update(params)\n",
        "\n",
        "#append path with python modules\n",
        "import importlib\n",
        "import sys\n",
        "sys.path.insert(0, \"/scratch/modules\")\n",
        "#Private functions\n",
        "import plotting_functions as plf\n",
        "importlib.reload(plf);\n",
        "\n",
        "import emnist_functions as emnist_fcn\n",
        "importlib.reload(emnist_fcn);\n",
        "#Hide GPU\n",
        "#tf.config.set_visible_devices([], 'GPU')"
      ]
    },
    {
      "cell_type": "markdown",
      "metadata": {
        "editable": true,
        "id": "lpYZBj0GXXzL",
        "tags": []
      },
      "source": [
        "<br/><br/>\n",
        "<br/><br/>\n",
        "\n",
        "<h1 align=\"center\">\n",
        " Uczenie maszynowe II\n",
        "</h1>\n",
        "\n",
        "<br/><br/>\n",
        "<br/><br/>\n",
        "<br/><br/>\n",
        "<br/><br/>\n",
        "\n",
        "<h1 align=\"right\">\n",
        "Artur Kalinowski <br>\n",
        "Uniwersytet Warszawski <br>\n",
        "Wydział Fizyki <br>    \n",
        "</h1>"
      ]
    },
    {
      "cell_type": "markdown",
      "metadata": {
        "editable": true,
        "id": "cW3J_uIqXXzM",
        "tags": []
      },
      "source": [
        "# Warstwa splotowa - ang. convlolution layer.\n",
        "\n",
        "Analiza obrazu o rozdzielczości 10M pikseli z użyciem sieci w pełni połączonej wymaga\n",
        "\n",
        "$$\n",
        "{\\huge\n",
        "(10M +1)\\times N_\\text{neuronów}\n",
        "}\n",
        "$$\n",
        "\n",
        "wag już w pierwszej warstwie ukrytej. Taka duża liczba wag jest trudna w treningu. W szczególności jest podatna na przetrenowanie, co widać na przykładzie zbioru MNIST.\n",
        "\n",
        "W 1998 roku zaproponowano architekturę z warstwami współdzielącymi wagi - [LeNet](https://ieeexplore.ieee.org/document/726791).\n",
        "Warstwy ze współdzieleniem wag są obecnie nazywane warstwami splotowymi, ang. `convolution layer`. Sieci wykorzystujące takie warstwy to\n",
        "sieci konwolucyjne, ang. `convolution neural network, CNN`\n",
        "\n",
        "Źródło rysunków: [A guide to convolution arithmetic for deep learning, arXiv:1603.07285](https://arxiv.org/abs/1603.07285)"
      ]
    },
    {
      "cell_type": "markdown",
      "metadata": {
        "editable": true,
        "id": "ktSnD4Q-XXzN",
        "tags": []
      },
      "source": [
        "- **jądro, ang. `kernel/filter`** - zbiór wag wspólny dla całego obrazu. Jądro zwykle ma podstać macierzy kwadratowej.\n",
        "\n",
        "![image.png](attachment:a80d4b84-8908-453f-acf8-614750de2591.png)"
      ]
    },
    {
      "cell_type": "markdown",
      "metadata": {
        "editable": true,
        "id": "4w6qyd-wXXzN",
        "tags": []
      },
      "source": [
        "- **pole recepcyjne** - obszar objęty zbiorem różnych wag. Pole recepcyjne przesuwa się po obrazie\n",
        "\n",
        "![image.png](attachment:6d3f5d70-8c28-48f3-a325-a1b55b4f690b.png)"
      ]
    },
    {
      "cell_type": "markdown",
      "metadata": {
        "editable": true,
        "id": "vUWBmFpMXXzO",
        "tags": []
      },
      "source": [
        "* **krok, ang. stride** - liczba indeksów o jakie przesuwa się pole recepcyjne. Tutaj `stride=1`\n",
        "\n",
        "![image.png](attachment:01324755-a74b-4d50-a0f3-73968d0e61e8.png)\n"
      ]
    },
    {
      "cell_type": "markdown",
      "metadata": {
        "editable": true,
        "id": "BhSIKIefXXzP",
        "tags": []
      },
      "source": [
        "* **wypełnienie, ang. padding** - sposób rozszerzenia obrazu w celu uzyskania pożądanego kształtu wyniku warstwy konwolucyjnej, np. zachowania tego samego kształtu dla kolejnych warstw konwolucyjnych. Tutaj: wypełnienie zerami, ang. `zero padding`.\n",
        "\n",
        "![image.png](attachment:86e8bf6f-92a7-48ba-8368-79b945e99230.png)\n"
      ]
    },
    {
      "cell_type": "markdown",
      "metadata": {
        "editable": true,
        "id": "OO0XOflwXXzQ",
        "tags": []
      },
      "source": [
        "* **dylatacja** - odstęp między elementami pola recepcyjnego. Odstęp wynosi `d-1` - czyli brak odstępu odpowiada `d=1`\n",
        "\n",
        "![image.png](attachment:58c599d0-dd01-42f2-a34d-36fb76798dfc.png)"
      ]
    },
    {
      "cell_type": "markdown",
      "metadata": {
        "editable": true,
        "id": "M3ZbcEjVXXzQ",
        "tags": []
      },
      "source": [
        "![image.png](attachment:bb5d8779-bc80-4845-979f-1a2cf681b8ca.png)"
      ]
    },
    {
      "cell_type": "markdown",
      "metadata": {
        "editable": true,
        "id": "0XgIrlYfXXzR",
        "tags": []
      },
      "source": [
        "Interfejs użytkownika warstwy splotowej w Keras:\n",
        "\n",
        "```Python\n",
        "tf.keras.layers.Conv2D(\n",
        "    filters,                    # liczba filtrów\n",
        "    kernel_size,                # rozmiar filtra: krotka (n,m), lub (n) dla filtrów kwadratowych\n",
        "    strides=(1, 1),             # wartość kroku w obu wymiarach\n",
        "    padding='valid',            # sposób dopełnienia:\n",
        "                                # `valid` - brak dopełnienia\n",
        "                                # `same` - dopełnienie zerami na brzegach, tak by wyjście miało ten sam rozmiar\n",
        "                                #  przestrzenny, co wejście: (batch size, liczba filtrów, H, W).\n",
        "                                # dopełnienie wynosi połowę rozmiaru filtra w odpowiednim kierunku\n",
        "    data_format=None,           # specyfikacja kolejności wymiarów:\n",
        "                                # \"channels_first\" - (batch size, liczba kanałów, H, W)\n",
        "                                # \"channels_last\" - (batch size, H, W, liczba kanałów) <-- domyślne w TF\n",
        "    dilation_rate=(1, 1),       # dylatacja (n,m) - splot bierze co (n-1, m-1) element w polu recepcyjnym\n",
        "    groups=1,                   # liczebność grup kanałów, które mają wspólne wagi.\n",
        "    ...                         # pozostałe, standardowe argumenty warstwy: inicjalizacja wag, regularyzacja, itd.\n",
        ")\n",
        "```\n",
        "\n",
        "**Uwaga:** warstwy w środowisku `Keras` zakładają, że dane wejściowe są podawane w postaci paczek, `batches`."
      ]
    },
    {
      "cell_type": "markdown",
      "metadata": {
        "editable": true,
        "id": "0Tr57mWvXXzR",
        "tags": []
      },
      "source": [
        "**Proszę**:\n",
        "\n",
        "* zbudować warstwę splotową z jednym filtrem o rozmiarze `(3,3)` i pozostałych parametrach z domyślnymi wartościami\n",
        "* podać na jej wejściu rysunek wypełniony jedynkami o rozmiarze `(16,16)` i jednym kanale kolorów\n",
        "* wypisać na ekran kształt wejścia i wyjścia warstwy\n",
        "\n",
        "**Wskazówki:**\n",
        "* uwaga na kształt danych wejściowych : `(batch size, height, width, channels)`"
      ]
    },
    {
      "cell_type": "code",
      "execution_count": 2,
      "metadata": {
        "editable": true,
        "id": "37D0ND7KXXzS",
        "tags": []
      },
      "outputs": [
        {
          "name": "stderr",
          "output_type": "stream",
          "text": [
            "2025-04-23 08:11:05.335805: E external/local_xla/xla/stream_executor/cuda/cuda_driver.cc:274] failed call to cuInit: UNKNOWN ERROR (34)\n"
          ]
        },
        {
          "name": "stdout",
          "output_type": "stream",
          "text": [
            "\u001b[34minput shape\u001b[0m (1, 16, 16, 1)\n",
            "\u001b[34moutput shape\u001b[0m (1, 14, 14, 1)\n"
          ]
        }
      ],
      "source": [
        "data = tf.ones((1, 16, 16, 1))*1.0\n",
        "data = np.full((1, 16, 16, 1), 1.0)\n",
        "nFilters = 1\n",
        "kernel_size = (3,3)\n",
        "layer = tf.keras.layers.Conv2D(filters = nFilters, kernel_size = kernel_size)\n",
        "print(colored(\"input shape\", \"blue\"), data.shape)\n",
        "print(colored(\"output shape\", \"blue\"), layer(data).shape)\n"
      ]
    },
    {
      "cell_type": "markdown",
      "metadata": {
        "editable": true,
        "id": "I1A6ev6SXXzS",
        "tags": []
      },
      "source": [
        "**Proszę**:\n",
        "\n",
        "* zbudować warstwę splotową z jednym filtrem o rozmiarze `(3,3)` i wypełnianiem ustawionym na `same`\n",
        "* podać na jej wejściu wypełniony jedynkami rysunek o rozmiarze `(16,16)` i jednym kanale kolorów\n",
        "* wypisać na ekran kształt wejścia i wyjścia warstwy"
      ]
    },
    {
      "cell_type": "code",
      "execution_count": 40,
      "metadata": {
        "editable": true,
        "id": "FxiClAoyXXzT",
        "tags": []
      },
      "outputs": [
        {
          "name": "stdout",
          "output_type": "stream",
          "text": [
            "\u001b[34minput shape\u001b[0m (1, 16, 16, 5)\n",
            "\u001b[34moutput shape\u001b[0m (1, 16, 16, 2)\n"
          ]
        }
      ],
      "source": [
        "# data = tf.ones((1, 16, 16, 5))*1.0\n",
        "data = np.full((1, 16, 16, 5), 1.0)\n",
        "nFilters = 2\n",
        "kernel_size = (3,3)\n",
        "layer = tf.keras.layers.Conv2D(filters = nFilters, kernel_size = kernel_size, padding = 'same')\n",
        "print(colored(\"input shape\", \"blue\"), data.shape)\n",
        "print(colored(\"output shape\", \"blue\"), layer(data).shape)\n"
      ]
    },
    {
      "cell_type": "markdown",
      "metadata": {
        "editable": true,
        "id": "VEqXTzIMXXzT",
        "tags": []
      },
      "source": [
        "**Proszę:**\n",
        "\n",
        "* wydobyć z warstwy splotowej macierz filtra (czyli wagi warstwy) i wypisać ją na ekran\n",
        "\n",
        "**Wskazówki:**\n",
        "\n",
        "* wagi warsty są inicjalizowane po pierwszym wykonaniu operacji warstwy:\n",
        "```Python\n",
        "layer(data)\n",
        "print(colored(\"kernel shape:\",\"blue\"),layer.weights[0].shape)\n",
        "```\n",
        "* uwaga na kształt danych wejściowych : `(batch, height, width, channels)`\n",
        "* uwaga na kształt macierzy filtrów"
      ]
    },
    {
      "cell_type": "code",
      "execution_count": 42,
      "metadata": {
        "editable": true,
        "id": "Y1Pxy6OhXXzT",
        "tags": []
      },
      "outputs": [
        {
          "name": "stdout",
          "output_type": "stream",
          "text": [
            "\u001b[34mkernel shape:\u001b[0m (3, 3, 5, 2)\n",
            "\u001b[34mweights:\n",
            "\u001b[0m [[-0.21219942 -0.1296205   0.19743136]\n",
            " [-0.17863178  0.06396076 -0.08345397]\n",
            " [-0.1269158  -0.01139504 -0.18008487]]\n"
          ]
        }
      ],
      "source": [
        "# data = tf.ones((1, 16, 16, 1))*1.0\n",
        "data = np.full((1, 16, 16, 5), 1.0)\n",
        "nFilters = 2\n",
        "kernel_size = (3,3)\n",
        "layer = tf.keras.layers.Conv2D(filters = nFilters, kernel_size = kernel_size, padding = 'same')\n",
        "layer(data)\n",
        "print(colored(\"kernel shape:\",\"blue\"),layer.weights[0].shape)\n",
        "print(colored(\"weights:\\n\",\"blue\"),layer.weights[0].numpy()[:, :, 0, 0])\n"
      ]
    },
    {
      "cell_type": "markdown",
      "metadata": {
        "editable": true,
        "id": "roSljmeXXXzU",
        "tags": []
      },
      "source": [
        "**Proszę:**\n",
        "\n",
        "* zadać nowy filtr w postaci:\n",
        "\n",
        "$$\n",
        "\\Large{\n",
        "\\begin{bmatrix}\n",
        "0 & 1 & 0\\\\\n",
        "1 & 0 & 1 \\\\\n",
        "0 & 1 & 0\n",
        "\\end{bmatrix}\n",
        "}\n",
        "$$\n",
        "* uruchomić filtr na macierzy `(3,3)` wypełnionej zerami z oboma wariantami wypełniania: `valid` i `same`\n",
        "\n",
        "**Wskazówki:**\n",
        "* proszę użyć własnej klasy inicjalizującej wagi na zadaną macierz:\n",
        "* TF >=2.16.1: proszę użyć własnej klasy inicjalizującej wagi na zadaną macierz:\n",
        "\n",
        "```Python\n",
        "kernel_initializer = customInitializer(kernel)\n",
        "```\n",
        "\n",
        "* TF <2.16.1: proszę użyć inicjalizatora wag `tf.keras.initializers.Constant(...)`"
      ]
    },
    {
      "cell_type": "code",
      "execution_count": 31,
      "metadata": {},
      "outputs": [
        {
          "data": {
            "text/plain": [
              "'2.15.0'"
            ]
          },
          "execution_count": 31,
          "metadata": {},
          "output_type": "execute_result"
        }
      ],
      "source": [
        "tf.__version__"
      ]
    },
    {
      "cell_type": "code",
      "execution_count": 32,
      "metadata": {
        "editable": true,
        "id": "yjigmgYOXXzU",
        "tags": []
      },
      "outputs": [
        {
          "name": "stdout",
          "output_type": "stream",
          "text": [
            "\u001b[31mtf.keras.Initializer not available\u001b[0m\n",
            "\u001b[34mTF version:\u001b[0m 2.15.0\n"
          ]
        }
      ],
      "source": [
        "try:\n",
        "    class customInitializer(tf.keras.Initializer):\n",
        "        def __init__(self, kernel):\n",
        "            self.kernel = kernel\n",
        "\n",
        "        def __call__(self, shape, dtype=None, **kwargs):\n",
        "            x = tf.reshape(self.kernel, shape)\n",
        "            x= tf.cast(x, dtype)\n",
        "            return x\n",
        "except AttributeError:\n",
        "    print(colored(\"tf.keras.Initializer not available\",\"red\"))\n",
        "    print(colored(\"TF version:\",\"blue\"),tf.__version__)\n",
        "    pass"
      ]
    },
    {
      "cell_type": "code",
      "execution_count": 58,
      "metadata": {
        "editable": true,
        "id": "QXU2_XBYXXzU",
        "tags": []
      },
      "outputs": [
        {
          "data": {
            "text/plain": [
              "array([[2., 3., 2.],\n",
              "       [3., 4., 3.],\n",
              "       [2., 3., 2.]], dtype=float32)"
            ]
          },
          "execution_count": 58,
          "metadata": {},
          "output_type": "execute_result"
        }
      ],
      "source": [
        "\"uwaga tutaj afere krece z chatem, bo mam ta stara wersje\"\n",
        "custom_filter = np.array([[0, 1, 0],\n",
        "                          [1, 0, 1],\n",
        "                          [0, 1, 0]], dtype=np.float32)\n",
        "\n",
        "data = np.full((1, 3, 3, 1), 1.0)\n",
        "# Expand dimensions to match the required shape: (kernel_height, kernel_width, in_channels, out_channels)\n",
        "# Let's say we're using 1 input channel and 1 output filter for simplicity\n",
        "custom_filter = custom_filter[:, :, np.newaxis, np.newaxis]\n",
        "\n",
        "# Use tf.keras.initializers.Constant\n",
        "initializer = tf.keras.initializers.Constant(custom_filter)\n",
        "\n",
        "conv = tf.keras.layers.Conv2D(\n",
        "    filters=1,\n",
        "    kernel_size=(3, 3),\n",
        "    kernel_initializer=initializer,\n",
        "    use_bias=False,\n",
        "    input_shape=(None, None, 1), # height, width, channels\n",
        "    padding = 'same',\n",
        ")\n",
        "conv(data).shape\n",
        "conv(data)[0, :, :, 0].numpy()"
      ]
    },
    {
      "cell_type": "markdown",
      "metadata": {
        "editable": true,
        "id": "O5uK-l57XXzU",
        "tags": []
      },
      "source": [
        "Przygotujmy rysunek o rozmiarze `(32,32)` z losowo umieszczonymi kwadratami `(3,3)`\n",
        "\n",
        "Kształty wygenerujemy z użyciem funkcji `skimage.draw.random_shapes`."
      ]
    },
    {
      "cell_type": "code",
      "execution_count": 65,
      "metadata": {
        "editable": true,
        "id": "NfuqQLnnXXzV",
        "tags": []
      },
      "outputs": [
        {
          "name": "stdout",
          "output_type": "stream",
          "text": [
            "\u001b[34mImage shape:\u001b[0m (32, 32)\n"
          ]
        },
        {
          "data": {
            "image/png": "[encoded data removed]",
            "text/plain": [
              "<Figure size 500x500 with 1 Axes>"
            ]
          },
          "metadata": {},
          "output_type": "display_data"
        }
      ],
      "source": [
        "from skimage.draw import random_shapes\n",
        "result = random_shapes((32, 32), max_shapes=3,\n",
        "                       shape='rectangle',\n",
        "                       min_size = 3,\n",
        "                       max_size = 3,\n",
        "                       intensity_range = (1,1),\n",
        "                       channel_axis=None, rng=0)\n",
        "image, labels = result\n",
        "\n",
        "#Change colors: background - white, shapes - black\n",
        "image = np.where(image==255, 0, image).astype(np.float32)\n",
        "print(colored(\"Image shape:\",\"blue\"),image.shape)\n",
        "\n",
        "fig, axis = plt.subplots(1, 1, figsize=(5,5))\n",
        "axis.imshow(image, cmap='Reds')\n",
        "axis.set_title('Original image');"
      ]
    },
    {
      "cell_type": "markdown",
      "metadata": {
        "editable": true,
        "id": "P0gEa_ikXXzV",
        "tags": []
      },
      "source": [
        "**Proszę:**\n",
        "\n",
        "* przygotować warstwy splotowe z dwoma filtrami **w jednej warstwie**:\n",
        "    * kwadratowym:\n",
        "$$\n",
        "\\Large{\n",
        "\\begin{bmatrix}\n",
        "1 & 1 & 1\\\\\n",
        "1 & 1 & 1 \\\\\n",
        "1 & 1 & 1\n",
        "\\end{bmatrix}\n",
        "}\n",
        "$$    \n",
        "    * liniowym\n",
        "  $$\n",
        "\\Large{\n",
        "\\begin{bmatrix}\n",
        "0 & 1 & 0\\\\\n",
        "0 & 1 & 0 \\\\\n",
        "0 & 1 & 0\n",
        "\\end{bmatrix}\n",
        "}\n",
        "$$"
      ]
    },
    {
      "cell_type": "code",
      "execution_count": null,
      "metadata": {
        "editable": true,
        "id": "m8v8C8puXXzV",
        "tags": []
      },
      "outputs": [],
      "source": [
        "filter_1 = np.ones((3, 3), dtype=np.float32)\n",
        "filter_2 = np.array([0, 1, 0]*3).reshape(3, 3).astype(np.float32)\n",
        "def get_custom_filter(filter):\n",
        "    custom_filter = filter[:, :, np.newaxis, np.newaxis]\n",
        "    return custom_filter\n",
        "\n",
        "data = np.full((1, 3, 3, 1), 1.0)\n",
        "conv_filters = [get_custom_filter(x) for x in [filter_1, filter_2]]\n",
        "conv_filters = np.stack(conv_filters, axis=2)\n",
        "initializer = tf.keras.initializers.Constant(conv_filters)\n"
      ]
    },
    {
      "cell_type": "markdown",
      "metadata": {
        "editable": true,
        "id": "yeJJQWPgXXzW",
        "tags": []
      },
      "source": [
        "**Proszę:**\n",
        "\n",
        "* wykonać operację warstwy na rysunkach z kwadratami\n",
        "* narysować oryginalny rysunek i rysunki powstałe na wyjściu obu filtrów\n",
        "\n",
        "**Wskazówki:**\n",
        "* uwaga na kształt danych wejściowych - trzeba dodać wymiary `batch` i `channel`\n",
        "* macierze dla dwu filtrów można uzyskać przez składanie macierzy dla pojedynczych filtrów:\n",
        "  ```Python\n",
        "  \n",
        "  kernel = np.stack( (rect_kernel, linear_kernel), axis=2)\n",
        "  ```\n",
        "  <br></br>\n",
        "* proszę sprawdzić kształt wyniku zwróconego przez warstwę splotową"
      ]
    },
    {
      "cell_type": "code",
      "execution_count": 101,
      "metadata": {
        "editable": true,
        "id": "gE7wsHsRXXzW",
        "tags": []
      },
      "outputs": [
        {
          "name": "stdout",
          "output_type": "stream",
          "text": [
            "(3, 3, 1, 2)\n"
          ]
        },
        {
          "data": {
            "image/png": "[encoded data removed]",
            "text/plain": [
              "<Figure size 1500x500 with 3 Axes>"
            ]
          },
          "metadata": {},
          "output_type": "display_data"
        }
      ],
      "source": [
        "\n",
        "conv = tf.keras.layers.Conv2D(\n",
        "    filters=2,\n",
        "    kernel_size=(3, 3),\n",
        "    kernel_initializer=initializer,\n",
        "    use_bias=False,\n",
        "    input_shape=(None, None, 1), # height, width, channels\n",
        "    padding = 'same',\n",
        ")\n",
        "\n",
        "out = conv(image[None, :, :, None])\n",
        "fig, axes = plt.subplots(1, 3, figsize=(15,5))\n",
        "axes[0].imshow(out[0, :, :, 0], cmap='Reds', vmin=0, vmax=10)\n",
        "axes[0].set_title('quadratic')\n",
        "axes[1].imshow(out[0, :, :, 1], cmap='Reds', vmin=0, vmax=10)\n",
        "axes[1].set_title('linear')\n",
        "axes[2].imshow(image, cmap='Reds', vmin=0, vmax=10)\n",
        "axes[2].set_title('original image')\n",
        "pass\n",
        "print(conv.weights[0].shape)"
      ]
    },
    {
      "cell_type": "markdown",
      "metadata": {
        "editable": true,
        "id": "geubgOcnXXzX",
        "tags": []
      },
      "source": [
        "**Proszę:**\n",
        "\n",
        "* wypisać na ekran maksymalne wartości pikseli dla kanałów wyjściowego obrazu\n",
        "* narysować wyjściowe obrazy zachowując piksele o wartości powyżej maksymalnej dla kanału z filtrem liniowym. Zachowane piksele proszę ustawić na wartość `1`\n",
        "\n",
        "**Wskazówki:**\n",
        "* maksymalną wartość macierzy można uzyskać przez funkcję `tf.math.reduce_max(...).numpy()`\n",
        "* piksele można ustawić na wartość `1` wypisując warunek logiczny na ich warość:\n",
        "```Python\n",
        "layer_output[0,:,:,0]>threshold\n",
        "```"
      ]
    },
    {
      "cell_type": "code",
      "execution_count": 114,
      "metadata": {
        "editable": true,
        "id": "Ms8IngDIXXzX",
        "tags": []
      },
      "outputs": [
        {
          "name": "stdout",
          "output_type": "stream",
          "text": [
            "\u001b[34mMax value for filter 0:\u001b[0m 9.0\n",
            "\u001b[34mMax value for filter 1:\u001b[0m 3.0\n"
          ]
        },
        {
          "data": {
            "image/png": "[encoded data removed]",
            "text/plain": [
              "<Figure size 1500x500 with 4 Axes>"
            ]
          },
          "metadata": {},
          "output_type": "display_data"
        }
      ],
      "source": [
        "\"maksymalne wartości pikseli\"\n",
        "for i in range(out.shape[-1]):\n",
        "    max_value = tf.reduce_max(out[0, :, :, i]).numpy()\n",
        "    print(colored(f\"Max value for filter {i}:\", \"blue\"), max_value)\n",
        "\n",
        "# Create masks for each filter based on the threshold\n",
        "threshold_1 = tf.math.reduce_max(out[0, :, :, 1]).numpy() \n",
        "\n",
        "mask_0 = out[0, :, :, 0] > threshold_1\n",
        "mask_1 = out[0, :, :, 1] > threshold_1\n",
        "\n",
        "# Apply masks to the output\n",
        "out_mask_0 = tf.where(mask_0, 1.0, 0.0).numpy()\n",
        "out_mask_1 = tf.where(mask_1, 1.0, 0.0).numpy()\n",
        "\n",
        "# Plot the results, wystarczy plotowac maski bo juz jest norma binarna\n",
        "fig, axes = plt.subplots(1, 3, figsize=(15, 5))\n",
        "axes[0].imshow(mask_0, cmap='Reds', vmin=0, vmax=2)\n",
        "axes[0].set_title('Filtered Output - Mask Quadratic')\n",
        "\n",
        "axes[1].imshow(mask_1, cmap='Reds', vmin=0, vmax=2)\n",
        "axes[1].set_title('Filtered Output - Mask Linear')\n",
        "\n",
        "im = axes[2].imshow(image, cmap='Reds', vmin=0, vmax=2) \n",
        "axes[2].set_title('Original Image')\n",
        "fig.colorbar(im, ax=axes[2], orientation='vertical')  \n",
        "\n",
        "plt.show()"
      ]
    },
    {
      "cell_type": "markdown",
      "metadata": {
        "editable": true,
        "id": "kX9E8atKXXzX",
        "tags": []
      },
      "source": [
        "Warstwy splotowe generują nowe obrazy. Zwykle rozdzielczość nowego obrazu jest taka jak obrazu wejściowego, ale liczba kanałów, \"kolorów/kanałów\" wzrasta.\n",
        "Redukcja rozdzielczości jest uzyskiwana przez warstwy łączące, ang. `pooling layers`.\n",
        "\n",
        "Warstwy łączące mają, podobnie jak dla warstwy splotowej, wąskie pole recepcyjne, ale nie mają żadnych wag, czyli parametrów podlegających treningowi - ang. `learning parameters`. Warstwy łączące zawsze wykonują tę samą operację zdefiniowaną dla danej warstwy:"
      ]
    },
    {
      "cell_type": "markdown",
      "metadata": {
        "editable": true,
        "id": "zO3XXwHsXXzX",
        "tags": []
      },
      "source": [
        "* **masksimum, ang. max pooling** - maksymalna wartość w polu recepcyjnym\n",
        "\n",
        "![image.png](attachment:f9b36717-778c-4955-b7c0-41f93f07e974.png)"
      ]
    },
    {
      "cell_type": "markdown",
      "metadata": {
        "editable": true,
        "id": "uwChG5y5XXzX",
        "tags": []
      },
      "source": [
        "* **średnia, ang. average pooling** - średnia wartość w polu recepcyjnym\n",
        "\n",
        "![image.png](attachment:7a09b570-6e1d-4276-af7e-ad1ca87027bb.png)"
      ]
    },
    {
      "cell_type": "markdown",
      "metadata": {
        "editable": true,
        "id": "35Fl_QKIXXzY",
        "tags": []
      },
      "source": [
        "Najbardziej popularna jest warstwa wyciągająca maksimum - `MaxPooling`\n",
        "\n",
        "Interfejs użytkownika warstwy wyciągającej maksimum w Keras:\n",
        "\n",
        "```Python\n",
        "tf.keras.layers.MaxPooling2D(\n",
        "    pool_size=(2, 2),           # rozmiar pola recepcyjnego\n",
        "    strides=None,               # wartość kroku w obu wymiarach\n",
        "    padding='valid',            # sposób dopełnienia:\n",
        "                                # `valid` - brak dopełnienia\n",
        "                                # `same` - dopełnienie zerami na brzegach, tak by wyjście miało ten sam rozmiar\n",
        "                                #  przestrzenny, co wejście: (batch size, liczba filtrów, W, H)\n",
        "    data_format=None,           # specyfikacja kolejności wymiarów:\n",
        "                                # \"channels_first\" - (batch size, liczba kanałów, W, H)\n",
        "                                # \"channels_last\" - (batch size, W, H, liczba kanałów) <-- domyślne w TF\n",
        ")\n",
        "```"
      ]
    },
    {
      "cell_type": "markdown",
      "metadata": {
        "editable": true,
        "id": "xnENydHFXXzY",
        "tags": []
      },
      "source": [
        "**Proszę:**\n",
        "\n",
        "* wykonać operację `MaxPooling2D` na obrazach wyjściowych z warstwy splotowej z filtrami kwadratowym i liniowym\n",
        "* użyć domyślnych parametrów warstwy łączącej\n",
        "* narysować wynik"
      ]
    },
    {
      "cell_type": "code",
      "execution_count": 121,
      "metadata": {
        "editable": true,
        "id": "kcAi-DFfXXzZ",
        "tags": []
      },
      "outputs": [
        {
          "data": {
            "text/plain": [
              "<matplotlib.colorbar.Colorbar at 0x7f99d8b63b90>"
            ]
          },
          "execution_count": 121,
          "metadata": {},
          "output_type": "execute_result"
        },
        {
          "data": {
            "image/png": "[encoded data removed]",
            "text/plain": [
              "<Figure size 1500x500 with 4 Axes>"
            ]
          },
          "metadata": {},
          "output_type": "display_data"
        }
      ],
      "source": [
        "# pool = tf.keras.layers.MaxPooling2D(\n",
        "#     pool_size=(2, 2), strides=None, padding=\"valid\", data_format=None\n",
        "# )\n",
        "pool = tf.keras.layers.MaxPooling2D()\n",
        "out_conv = conv(image[None, :, :, None])\n",
        "out_pooled = pool(out_conv)\n",
        "fig, axes = plt.subplots(1, 3, figsize=(15, 5))\n",
        "axes[0].imshow(out_pooled[0, :, :, 0], cmap=\"Reds\", vmin=0, vmax=10)\n",
        "axes[0].set_title(\"quadratic\")\n",
        "axes[1].imshow(out_pooled[0, :, :, 1], cmap=\"Reds\", vmin=0, vmax=10)\n",
        "axes[1].set_title(\"linear\")\n",
        "im = axes[2].imshow(image, cmap=\"Reds\", vmin=0, vmax=10)\n",
        "axes[2].set_title(\"original image\")\n",
        "fig.colorbar(im, ax=axes[2], orientation=\"vertical\")"
      ]
    },
    {
      "cell_type": "markdown",
      "metadata": {
        "editable": true,
        "id": "BZm5gBLyXXzZ",
        "tags": []
      },
      "source": [
        "Standardowa architektura sieci analizującej obrazy zawiera przekładaniec warstw splotowych i łączących, zakończony warstwami w pełni połączonymi:\n",
        "\n",
        "![image.png](attachment:67324852-8771-4ff8-ab5f-9d41eac41319.png)"
      ]
    },
    {
      "cell_type": "markdown",
      "metadata": {
        "editable": true,
        "id": "gvEECKUdXXzZ",
        "tags": []
      },
      "source": [
        "Zbiór obrazów uzyskany przez poszczególne filtry nazywany jest mapą cech, ang. `feature map`. Filtry są nazywane cechami, `features`."
      ]
    },
    {
      "cell_type": "markdown",
      "metadata": {
        "editable": true,
        "id": "_Wy8Qe_PXXzZ",
        "tags": []
      },
      "source": [
        "## Klasa tf.keras.Sequential\n",
        "\n",
        "Model składający się z sekwencji warstw może być stworzony przy użyciu klasy `tf.keras.Sequential`:\n",
        "```Python\n",
        "tf.keras.Sequential(\n",
        "    layers=None, # lista warstw modelu\n",
        "    name=None    # nazwa modelu\n",
        ")\n",
        "```"
      ]
    },
    {
      "cell_type": "markdown",
      "metadata": {
        "editable": true,
        "id": "O12BfU_xXXza",
        "tags": []
      },
      "source": [
        "### Składanie modelu warstwa po warstwie:"
      ]
    },
    {
      "cell_type": "code",
      "execution_count": 119,
      "metadata": {
        "editable": true,
        "id": "bx0-vJOCXXza",
        "tags": []
      },
      "outputs": [
        {
          "name": "stdout",
          "output_type": "stream",
          "text": [
            "Model: \"test_1\"\n",
            "_________________________________________________________________\n",
            " Layer (type)                Output Shape              Param #   \n",
            "=================================================================\n",
            " dense (Dense)               (None, 8)                 136       \n",
            "                                                                 \n",
            " dense_1 (Dense)             (None, 16)                144       \n",
            "                                                                 \n",
            "=================================================================\n",
            "Total params: 280 (1.09 KB)\n",
            "Trainable params: 280 (1.09 KB)\n",
            "Non-trainable params: 0 (0.00 Byte)\n",
            "_________________________________________________________________\n"
          ]
        }
      ],
      "source": [
        "model = tf.keras.Sequential(name=\"test_1\")\n",
        "model.add(tf.keras.Input(shape=(16,)))\n",
        "model.add(tf.keras.layers.Dense(8))\n",
        "model.add(tf.keras.layers.Dense(16))\n",
        "model.summary()"
      ]
    },
    {
      "cell_type": "markdown",
      "metadata": {
        "editable": true,
        "id": "XKHuBD-nXXzm",
        "tags": []
      },
      "source": [
        "### Definicja wielu warstw w jednym kroku:"
      ]
    },
    {
      "cell_type": "code",
      "execution_count": 120,
      "metadata": {
        "editable": true,
        "id": "xmXv7tQeXXzn",
        "tags": []
      },
      "outputs": [
        {
          "name": "stdout",
          "output_type": "stream",
          "text": [
            "Model: \"test_2\"\n",
            "_________________________________________________________________\n",
            " Layer (type)                Output Shape              Param #   \n",
            "=================================================================\n",
            " dense_2 (Dense)             (None, 16)                272       \n",
            "                                                                 \n",
            " dense_3 (Dense)             (None, 8)                 136       \n",
            "                                                                 \n",
            "=================================================================\n",
            "Total params: 408 (1.59 KB)\n",
            "Trainable params: 408 (1.59 KB)\n",
            "Non-trainable params: 0 (0.00 Byte)\n",
            "_________________________________________________________________\n"
          ]
        }
      ],
      "source": [
        "model = tf.keras.Sequential(layers = [tf.keras.Input(shape=(16,)),\n",
        "                                      tf.keras.layers.Dense(16),\n",
        "                                      tf.keras.layers.Dense(8)],\n",
        "                             name=\"test_2\")\n",
        "model.summary()"
      ]
    },
    {
      "cell_type": "markdown",
      "metadata": {
        "editable": true,
        "id": "djbmwuj5XXzn",
        "tags": []
      },
      "source": [
        "**Proszę:**\n",
        "\n",
        "Zbudować, korzystająć z `tf.keras.Sequential()`, sieć splotową o nazwie `CNN_Digits`` i następującej strukturze:\n",
        "\n",
        "* kształt danych wejściowych: `(28,28,1)`\n",
        "* 3$\\times$ blok:\n",
        "    * warstwa `Conv2D`, `64` filtry, rozmiar filtra `3`, funkcja aktywacji: `ReLU`, padding: `same`\n",
        "    * wartwa `MaxPooling`, rozmiar filtra `2`\n",
        "* warstwa spłaszczająca:\n",
        "```Python\n",
        "\n",
        "tf.keras.layers.Flatten()\n",
        "```"
      ]
    },
    {
      "cell_type": "markdown",
      "metadata": {
        "editable": true,
        "id": "8i3HWs68XXzn",
        "tags": []
      },
      "source": [
        "* warstwa gęsta, `128` neuronów, funkcja aktywacji: `ReLU`\n",
        "* warstwa opuszczająca, z częstością `0.5`\n",
        "* warstwa gęsta, `64` neuronów, funkcja aktywacji: `ReLU`\n",
        "* warstwa opuszczająca, z częstością `0.5`\n",
        "* warstwa wyjściowa dobrana do zagadnienia: **Klasyfikacja ręcznie pisanych cyfr**"
      ]
    },
    {
      "cell_type": "markdown",
      "metadata": {
        "editable": true,
        "id": "nIHH0VM8XXzo",
        "tags": []
      },
      "source": [
        "Oczekiwany wynik:\n",
        "\n",
        "![image.png](attachment:4e3bc582-ce9b-446e-8a90-f5dc412984a7.png)"
      ]
    },
    {
      "cell_type": "code",
      "execution_count": 17,
      "metadata": {},
      "outputs": [
        {
          "name": "stdout",
          "output_type": "stream",
          "text": [
            "Model: \"CNN_Digits\"\n",
            "_________________________________________________________________\n",
            " Layer (type)                Output Shape              Param #   \n",
            "=================================================================\n",
            " conv2d_13 (Conv2D)          (None, 28, 28, 64)        640       \n",
            "                                                                 \n",
            " max_pooling2d_12 (MaxPooli  (None, 14, 14, 64)        0         \n",
            " ng2D)                                                           \n",
            "                                                                 \n",
            " conv2d_14 (Conv2D)          (None, 14, 14, 64)        36928     \n",
            "                                                                 \n",
            " max_pooling2d_13 (MaxPooli  (None, 7, 7, 64)          0         \n",
            " ng2D)                                                           \n",
            "                                                                 \n",
            " conv2d_15 (Conv2D)          (None, 7, 7, 64)          36928     \n",
            "                                                                 \n",
            " max_pooling2d_14 (MaxPooli  (None, 3, 3, 64)          0         \n",
            " ng2D)                                                           \n",
            "                                                                 \n",
            " flatten_4 (Flatten)         (None, 576)               0         \n",
            "                                                                 \n",
            " dense_12 (Dense)            (None, 128)               73856     \n",
            "                                                                 \n",
            " dropout_8 (Dropout)         (None, 128)               0         \n",
            "                                                                 \n",
            " dense_13 (Dense)            (None, 64)                8256      \n",
            "                                                                 \n",
            " dropout_9 (Dropout)         (None, 64)                0         \n",
            "                                                                 \n",
            " dense_14 (Dense)            (None, 10)                650       \n",
            "                                                                 \n",
            "=================================================================\n",
            "Total params: 157258 (614.29 KB)\n",
            "Trainable params: 157258 (614.29 KB)\n",
            "Non-trainable params: 0 (0.00 Byte)\n",
            "_________________________________________________________________\n"
          ]
        }
      ],
      "source": [
        "model = tf.keras.Sequential(layers = [tf.keras.Input(shape=(28,28, 1)),\n",
        "                              tf.keras.layers.Conv2D(64, (3), activation='relu', padding='same'),\n",
        "                              tf.keras.layers.MaxPooling2D((2)),\n",
        "                              tf.keras.layers.Conv2D(64, (3), activation='relu', padding='same'),\n",
        "                              tf.keras.layers.MaxPooling2D((2)),\n",
        "                              tf.keras.layers.Conv2D(64, (3), activation='relu', padding='same'),\n",
        "                              tf.keras.layers.MaxPooling2D((2)),\n",
        "                              tf.keras.layers.Flatten(),\n",
        "                              tf.keras.layers.Dense(128, activation='ReLU'),\n",
        "                              tf.keras.layers.Dropout(0.5),\n",
        "                              tf.keras.layers.Dense(64, activation='ReLU'),\n",
        "                              tf.keras.layers.Dropout(0.5),\n",
        "                              tf.keras.layers.Dense(10, activation='softmax')],\n",
        "                     name=\"CNN_Digits\")\n",
        "model.summary()\n"
      ]
    },
    {
      "cell_type": "markdown",
      "metadata": {
        "editable": true,
        "id": "C5vRKJUrXXzo",
        "tags": []
      },
      "source": [
        "**Proszę:**\n",
        "\n",
        "* załadować zbiór `emnist-digits-test` i podzielić go na części uczącą i testową w proporcjach `3:1`\n",
        "* wypisać nma ekran kształ danych"
      ]
    },
    {
      "cell_type": "code",
      "execution_count": 18,
      "metadata": {
        "editable": true,
        "id": "-_FSh5rfXXzo",
        "tags": []
      },
      "outputs": [],
      "source": [
        "import sys\n",
        "# sys.path.append(\"../modules\")\n",
        "sys.path.insert(0, \"/scratch/modules\")\n",
        "\n",
        "import emnist_functions as emnist_fcn\n",
        "\n",
        "features, labels = emnist_fcn.getEMNIST(\"emnist-digits-test\", \"/scratch/modules/gzip\")\n",
        "features.shape\n",
        "nTrainExamples = 10000\n",
        "nValExamples = 30000\n",
        "x_train = features[:nTrainExamples]\n",
        "y_train = labels[:nTrainExamples]\n",
        "\n",
        "x_val = features[-nValExamples:]\n",
        "y_val = labels[-nValExamples:]"
      ]
    },
    {
      "cell_type": "code",
      "execution_count": 21,
      "metadata": {
        "editable": true,
        "id": "76AyLBxBXXzo",
        "tags": []
      },
      "outputs": [
        {
          "name": "stdout",
          "output_type": "stream",
          "text": [
            "Epoch 1/20\n",
            "157/157 [==============================] - 37s 211ms/step - loss: 0.7448 - Accuracy: 0.7641 - val_loss: 0.1556 - val_Accuracy: 0.9580\n",
            "Epoch 2/20\n",
            "157/157 [==============================] - 31s 197ms/step - loss: 0.3879 - Accuracy: 0.8900 - val_loss: 0.1084 - val_Accuracy: 0.9708\n",
            "Epoch 3/20\n",
            "157/157 [==============================] - 29s 185ms/step - loss: 0.2729 - Accuracy: 0.9255 - val_loss: 0.1106 - val_Accuracy: 0.9721\n",
            "Epoch 4/20\n",
            "157/157 [==============================] - 29s 185ms/step - loss: 0.1993 - Accuracy: 0.9499 - val_loss: 0.0937 - val_Accuracy: 0.9767\n",
            "Epoch 5/20\n",
            "157/157 [==============================] - 32s 204ms/step - loss: 0.1520 - Accuracy: 0.9597 - val_loss: 0.1025 - val_Accuracy: 0.9746\n",
            "Epoch 6/20\n",
            "157/157 [==============================] - 28s 179ms/step - loss: 0.1298 - Accuracy: 0.9643 - val_loss: 0.0709 - val_Accuracy: 0.9826\n",
            "Epoch 7/20\n",
            "157/157 [==============================] - 28s 176ms/step - loss: 0.1072 - Accuracy: 0.9707 - val_loss: 0.0636 - val_Accuracy: 0.9855\n",
            "Epoch 8/20\n",
            "157/157 [==============================] - 27s 173ms/step - loss: 0.1102 - Accuracy: 0.9713 - val_loss: 0.0662 - val_Accuracy: 0.9834\n",
            "Epoch 9/20\n",
            "157/157 [==============================] - 28s 179ms/step - loss: 0.0832 - Accuracy: 0.9794 - val_loss: 0.0626 - val_Accuracy: 0.9858\n",
            "Epoch 10/20\n",
            "157/157 [==============================] - 27s 172ms/step - loss: 0.0696 - Accuracy: 0.9817 - val_loss: 0.0567 - val_Accuracy: 0.9872\n",
            "Epoch 11/20\n",
            "157/157 [==============================] - 34s 217ms/step - loss: 0.0714 - Accuracy: 0.9819 - val_loss: 0.0700 - val_Accuracy: 0.9864\n",
            "Epoch 12/20\n",
            "157/157 [==============================] - 32s 205ms/step - loss: 0.0623 - Accuracy: 0.9840 - val_loss: 0.0889 - val_Accuracy: 0.9838\n",
            "Epoch 13/20\n",
            "157/157 [==============================] - 27s 173ms/step - loss: 0.0681 - Accuracy: 0.9820 - val_loss: 0.0611 - val_Accuracy: 0.9890\n",
            "Epoch 14/20\n",
            "157/157 [==============================] - 27s 171ms/step - loss: 0.0394 - Accuracy: 0.9885 - val_loss: 0.0782 - val_Accuracy: 0.9870\n",
            "Epoch 15/20\n",
            "157/157 [==============================] - 28s 177ms/step - loss: 0.0437 - Accuracy: 0.9869 - val_loss: 0.0640 - val_Accuracy: 0.9878\n"
          ]
        },
        {
          "data": {
            "text/plain": [
              "<keras.src.engine.sequential.Sequential at 0x7efb08761bd0>"
            ]
          },
          "execution_count": 21,
          "metadata": {},
          "output_type": "execute_result"
        },
        {
          "data": {
            "image/png": "[encoded data removed]",
            "text/plain": [
              "<Figure size 700x300 with 2 Axes>"
            ]
          },
          "metadata": {},
          "output_type": "display_data"
        }
      ],
      "source": [
        "emnist_fcn.trainModel(model, x_train, y_train, x_val, y_val, nEpochs=20)"
      ]
    },
    {
      "cell_type": "markdown",
      "metadata": {
        "editable": true,
        "id": "KniIKplMXXzp",
        "tags": []
      },
      "source": [
        "* użyć funkcji  `trainModel(model, features, labels, nEpochs=200)` z modułu `emnist_functions`. Funkcja powinna wykonywać\n",
        "  kroki związane z treningiem:\n",
        "    * ustalenie harmonogramu współczynnika uczenia\n",
        "    * ustalenie wczesnego zatrzymania trenowania na podstawie monitoringu funkcji straty na zbiorze walidacyjnych\n",
        "        * jako zbioru walidacyjnego używać 10% danych wydzielonych ze zbioru uczącego przez ustawienie parametru\n",
        "       ```Python\n",
        "       \n",
        "        validation_split=0.1\n",
        "        \n",
        "        ```\n",
        "       w wywołaniu metody  `model.fit()`\n",
        "    * rysowanie zmiany funkcji straty w kolejnych epokach\n",
        "    * wypisanie na ekran wydajności modelu na zbiorze uczącym\n",
        "* przeprowadzić trening i sprawdzenie wydajności sieci `CNN_Digits` na zbiorze testowym"
      ]
    },
    {
      "cell_type": "code",
      "execution_count": null,
      "metadata": {
        "editable": true,
        "id": "3UZibeKGXXzp",
        "tags": []
      },
      "outputs": [],
      "source": [
        "%%time\n",
        "...rozwiązanie...\n",
        "pass"
      ]
    },
    {
      "cell_type": "markdown",
      "metadata": {
        "editable": true,
        "id": "-sUYFJaiXXzp",
        "tags": []
      },
      "source": [
        "**Proszę:**\n",
        "\n",
        "* narysować osiem losowych przykładów ze zbioru testowego, w których odpowiedź modelu **nie** jest poprawna"
      ]
    },
    {
      "cell_type": "code",
      "execution_count": null,
      "metadata": {
        "editable": true,
        "id": "Y0DYl5cmXXzp",
        "tags": []
      },
      "outputs": [
        {
          "name": "stdout",
          "output_type": "stream",
          "text": [
            "938/938 [==============================] - 19s 20ms/step\n"
          ]
        },
        {
          "data": {
            "image/png": "[encoded data removed]",
            "text/plain": [
              "<Figure size 1200x600 with 4 Axes>"
            ]
          },
          "metadata": {},
          "output_type": "display_data"
        }
      ],
      "source": [
        "y_pred_val = np.argmax(model.predict(x_val), axis=1)\n",
        "mask  = y_val != y_pred_val\n",
        "emnist_fcn.plotMNIST(x_val[mask], y_val[mask], y_pred_val[mask])"
      ]
    },
    {
      "cell_type": "markdown",
      "metadata": {
        "editable": true,
        "id": "2F9rWxSTXXzq",
        "tags": []
      },
      "source": [
        "# Zadanie domowe\n",
        "\n",
        "Trening klasyfikatora **konwolucyjnego** na zbiorze wielkich liter i cyfr ze zbioru `emnist-byclass-train`.\n",
        "\n",
        "**Proszę:**\n",
        "\n",
        "* wczytrać zbióry `emnist-byclass-train` i `emnist-byclass-test`(uwaga pliki są duże i długo ładują się na Colab!)\n",
        "* wybrać przykłady o numerze klasy mniejszym niż 36, czyli cyfry i wielkie litery\n",
        "* zdefiniować i przeprowadzić trening modelu. **Do definicji kodelu użyć klasy Sequential.**\n",
        "* wypisać na ekran dokładność, `accuracy`, modelu na zbiorach treningowym i testowym\n",
        "* dla zbiorów treningowego i testowego narysować macierze pomyłek z odpowiednimi etykietami na osiach\n",
        "* wskazać klasy które słabo się separują\n",
        "* odkodować komunikat zapisany w pliku [encoded.npz](http://studenci.fuw.edu.pl/~akalinow/encoded.npz)\n",
        "    * plik zawiera macierz o kształcie `(-1,28,28)` którą można wczytać następująco:\n",
        "    ```Python\n",
        "    \n",
        "    fileName = \"encoded.npz\"\n",
        "    with open(fileName, 'rb') as file:\n",
        "        encoded = np.load(file)\n",
        "    ```\n",
        "* odkodowany komunikat wypisać na ekran w postaci napisu:\n",
        "```\n",
        "Decoded message is: HELLO WORLD\n",
        "\n",
        "```\n",
        "\n",
        "**UWAGA**: Kod musi używać funkcji zdefiniowanych w module `emnist_functions`\n",
        "i działać z przygotowanymi poniżej komórkami. Należy zdefiniować następujące funkcje:\n",
        "  \n",
        "* ```emnist_functions.getEMNIST(datasetName, datasetPath)``` - funkcja łądująca dane\n",
        "* ```emnist_functions.preprocessData(x,y)``` - funkcja wybierająca podzbiór wielkich liter i cyfr\n",
        "* ```emnist_functions.getConvModel(...)``` - funkcja zwracająca model do treningu.\n",
        "* ```emnist_functions.trainModel(...)``` - funkcja trenująca i rysująca historię funkcji straty\n",
        "* ```emnist_functions.plotTrainHistory(history)```\n",
        "* ```emnist_functions.plotMNIST_CM(y_train,y_pred, label)``` - funkcja rysująca macierz pomyłek. Parametr `label` to napis \"Training\" lub \"Validation\"\n",
        "* ```emnist_functions.decodeMessage(model, encoded)``` - funkcja dekodująca komunikat\n",
        "* moduł `emnist_functions` powinien zawierać zmienne definiujące sieć:\n",
        "  \n",
        "  ```Python\n",
        "  inputShape = ...\n",
        "  nNeurons = ...\n",
        "  lastClassNumber = 36\n",
        "  nOutputNeurons = ...\n",
        "  nEpochs = ...\n",
        "  ```"
      ]
    },
    {
      "cell_type": "code",
      "execution_count": null,
      "metadata": {
        "editable": true,
        "id": "4O6hnR9_XXzq",
        "tags": []
      },
      "outputs": [],
      "source": [
        "#Input data loading\n",
        "import emnist_functions as emnist_fcn\n",
        "importlib.reload(emnist_fcn);\n",
        "\n",
        "datasetName = \"emnist-byclass-train\"\n",
        "datasetPath = \"../data/EMNIST/gzip/\"\n",
        "lastClassNumber = emnist_fcn.lastClassNumber\n",
        "\n",
        "x, y = emnist_fcn.getEMNIST(datasetName, datasetPath)\n",
        "print(colored(\"Training dataset\",\"green\"))\n",
        "x_train, y_train = emnist_fcn.preprocessData(x,y)\n",
        "\n",
        "datasetName = \"emnist-byclass-test\"\n",
        "datasetPath = \"../data/EMNIST/gzip/\"\n",
        "x, y = emnist_fcn.getEMNIST(datasetName, datasetPath)\n",
        "print(colored(\"Test dataset\",\"green\"))\n",
        "x_test, y_test = emnist_fcn.preprocessData(x,y)"
      ]
    },
    {
      "cell_type": "code",
      "execution_count": null,
      "metadata": {
        "editable": true,
        "id": "78X0wm88XXzr",
        "tags": []
      },
      "outputs": [],
      "source": [
        "#model definition\n",
        "import emnist_functions as emnist_fcn\n",
        "importlib.reload(emnist_fcn);\n",
        "\n",
        "inputShape = emnist_fcn.inputShapeConv\n",
        "nOutputNeurons = emnist_fcn.nOutputNeurons\n",
        "model = emnist_fcn.getConvModel(inputShape, nOutputNeurons)\n",
        "nOutputNeurons = emnist_fcn.nOutputNeurons\n",
        "model.summary()"
      ]
    },
    {
      "cell_type": "code",
      "execution_count": null,
      "metadata": {
        "editable": true,
        "id": "BzVdYbhIXXzr",
        "tags": []
      },
      "outputs": [],
      "source": [
        "%%time\n",
        "#model training\n",
        "nEpochs = emnist_fcn.nEpochs\n",
        "model = emnist_fcn.trainModel(model, x_train, y_train, nEpochs=nEpochs)\n",
        "\n",
        "print(colored(\"Evaluation on test dataset:\",\"blue\"))\n",
        "model.evaluate(x_test, y_test);"
      ]
    },
    {
      "cell_type": "code",
      "execution_count": null,
      "metadata": {
        "editable": true,
        "id": "U1icpEe_XXzr",
        "tags": []
      },
      "outputs": [],
      "source": [
        "#evaluation\n",
        "importlib.reload(emnist_fcn);\n",
        "y_pred = tf.argmax(model.predict(x_train, batch_size=128, verbose=0), axis=1)\n",
        "emnist_fcn.plotMNIST_CM(y_train, y_pred,\"Training\")\n",
        "\n",
        "y_pred = tf.argmax(model.predict(x_test,batch_size=128, verbose=0), axis=1)\n",
        "emnist_fcn.plotMNIST_CM(y_test, y_pred,\"Testing\")"
      ]
    },
    {
      "cell_type": "code",
      "execution_count": null,
      "metadata": {
        "editable": true,
        "id": "C8GnsHczXXzs",
        "tags": []
      },
      "outputs": [],
      "source": [
        "#message decoding\n",
        "importlib.reload(emnist_fcn);\n",
        "fileName = \"../data/encoded.npz\"\n",
        "with open(fileName, 'rb') as file:\n",
        "    encoded = np.load(file)\n",
        "\n",
        "emnist_fcn.decodeMessage(model, encoded)"
      ]
    },
    {
      "cell_type": "code",
      "execution_count": null,
      "metadata": {
        "id": "18uewvl7XXzt"
      },
      "outputs": [],
      "source": []
    }
  ],
  "metadata": {
    "colab": {
      "provenance": []
    },
    "kernelspec": {
      "display_name": "Python 3 (ipykernel)",
      "language": "python",
      "name": "python3"
    },
    "language_info": {
      "codemirror_mode": {
        "name": "ipython",
        "version": 3
      },
      "file_extension": ".py",
      "mimetype": "text/x-python",
      "name": "python",
      "nbconvert_exporter": "python",
      "pygments_lexer": "ipython3",
      "version": "3.11.0rc1"
    },
    "rise": {
      "center": false,
      "controls": false,
      "footer": "<h3>Letnia Szkoła<br>Fizyki 2023</h3>",
      "header": "<h1>Hello</h1>",
      "progress": "true",
      "slideNumber": "c/t",
      "transition": "none"
    }
  },
  "nbformat": 4,
  "nbformat_minor": 0
}
