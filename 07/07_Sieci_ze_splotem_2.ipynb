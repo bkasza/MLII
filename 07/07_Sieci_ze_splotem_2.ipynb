{
  "cells": [
    {
      "cell_type": "markdown",
      "metadata": {
        "editable": true,
        "tags": [],
        "id": "srk9R_5mtKOu"
      },
      "source": [
        "## Inicjalizacja środowiska programistycznego"
      ]
    },
    {
      "cell_type": "code",
      "execution_count": null,
      "metadata": {
        "editable": true,
        "tags": [],
        "id": "gZSLl-wstKOz"
      },
      "outputs": [],
      "source": [
        "#Color printing\n",
        "from termcolor import colored\n",
        "\n",
        "#General data operations library\n",
        "import math\n",
        "import string\n",
        "from datetime import datetime\n",
        "import numpy as np\n",
        "\n",
        "#The tensorflow library\n",
        "import os\n",
        "os.environ[\"TF_CPP_MIN_LOG_LEVEL\"] = \"1\"\n",
        "import tensorflow  as tf\n",
        "\n",
        "#Plotting libraries\n",
        "import matplotlib as mpl\n",
        "import matplotlib.pyplot as plt\n",
        "\n",
        "#Increase plots font size\n",
        "params = {'legend.fontsize': 'xx-large',\n",
        "          'figure.figsize': (10, 7),\n",
        "         'axes.labelsize': 'xx-large',\n",
        "         'axes.titlesize':'xx-large',\n",
        "         'xtick.labelsize':'xx-large',\n",
        "         'ytick.labelsize':'xx-large'}\n",
        "plt.rcParams.update(params)\n",
        "\n",
        "#append path with python modules\n",
        "import importlib\n",
        "import sys\n",
        "sys.path.append(\"../modules\")\n",
        "\n",
        "#Private functions\n",
        "import plotting_functions as plf\n",
        "importlib.reload(plf);\n",
        "\n",
        "import emnist_functions as emnist_fcn\n",
        "importlib.reload(emnist_fcn);"
      ]
    },
    {
      "cell_type": "markdown",
      "metadata": {
        "editable": true,
        "tags": [],
        "id": "x5PGt4YptKO2"
      },
      "source": [
        "<br/><br/>\n",
        "<br/><br/>\n",
        "\n",
        "<h1 align=\"center\">\n",
        " Uczenie maszynowe II\n",
        "</h1>\n",
        "\n",
        "<br/><br/>\n",
        "<br/><br/>\n",
        "<br/><br/>\n",
        "<br/><br/>\n",
        "\n",
        "<h1 align=\"right\">\n",
        "Artur Kalinowski <br>\n",
        "Uniwersytet Warszawski <br>\n",
        "Wydział Fizyki <br>    \n",
        "</h1>"
      ]
    },
    {
      "cell_type": "markdown",
      "metadata": {
        "editable": true,
        "tags": [],
        "id": "R6zFkhoxtKO3"
      },
      "source": [
        "# Transponowana warstwa splotowa\n",
        "\n",
        "Architektury używające warstw splotowych i łączących prowadzą zwykle do redukcji rozmiaru obrazu, ang. `downsampling`,\n",
        "w kolejnych warstwach sieci. Warstwy, które prowadzą do zwiększenia rozmiaru obrazu to warstwy ekspansji, ang. `upsampling layers`.\n",
        "Najbardziej popularną warstwą ekspansji jest transponowana warstwa splotowa, ang. `transposed convlolution layer`.\n",
        "\n",
        "\n",
        "Źródło rysunków: [A guide to convolution arithmetic for deep learning, arXiv:1603.07285](https://arxiv.org/abs/1603.07285)"
      ]
    },
    {
      "cell_type": "markdown",
      "metadata": {
        "editable": true,
        "tags": [],
        "id": "OHUNqtG_tKO3"
      },
      "source": [
        "Standardowa reprezentacja splotu, jako okna z wagami przesuwającego się po obrazie:\n",
        "\n",
        "![image.png](attachment:db6bc85f-24a0-4bad-9f1f-00daa624229b.png)"
      ]
    },
    {
      "cell_type": "markdown",
      "metadata": {
        "editable": true,
        "tags": [],
        "id": "NTxlNr0mtKO4"
      },
      "source": [
        "Macierzowa reprezentacja splotu. Obraz wejściowy w tej reprezentacji jest spłaszczony do wektora:\n",
        "\n",
        "![image.png](attachment:d4d0f120-60ec-49f1-8906-c329ef465de1.png)\n",
        "\n",
        "Wędrujące okno może być zastąpione pojedynczą operacją mnożenia macierzy reprezentującej wagi dla wszystkich elementów obrazu.\n",
        "Dla przykładu powyżej macierz reprezentująca wszystkie wagi splotu ma postać:\n",
        "\n",
        "![image.png](attachment:8a974149-ba67-4146-9b50-36be2f367de6.png)"
      ]
    },
    {
      "cell_type": "markdown",
      "metadata": {
        "editable": true,
        "tags": [],
        "id": "bj-RmTNAtKO5"
      },
      "source": [
        "Operacja splotu sprowadza się więc do mnożenia macierzy:\n",
        "\n",
        "$$\n",
        "{\\huge\n",
        "r = C \\times d\n",
        "}\n",
        "$$\n",
        "**r** - wynik splotu o kształcie (4,1)\n",
        "\n",
        "**C** - macierz splotu, o kształcie (4,16)\n",
        "\n",
        "**d** - wektor danych o kształcie (16,1)\n",
        "\n",
        "\n",
        "Macierz wynikowa w tym przykładzie ma kształt `(4,1)` i można ją zamienić na macierz o kształcie `(2,2)`, takim jakiego oczekujuemy dla\n",
        "wyniku splotu w tym przykładzie."
      ]
    },
    {
      "cell_type": "markdown",
      "metadata": {
        "editable": true,
        "tags": [],
        "id": "d-6ffXNetKO5"
      },
      "source": [
        "Macierz $C^{T}$ możemy traktować jako macierz operacji transpozycji która przeprowadza wektory o kształcie `(4,1)` w wektory o kształcie `(16,1)`\n",
        "\n",
        "$$\n",
        "{\\huge\n",
        "r' = C^{T} \\times r\n",
        "}\n",
        "$$\n",
        "**r'** - wynik splotu o kształcie (16,1)\n",
        "\n",
        "$\\mathbf{C^{T}}$ - macierz splotu o kształcie (4,16)\n",
        "\n",
        "**r** - wektor danych o kształcie (4,1)\n",
        "\n",
        "W ten sposób uzyskaliśmy skalowanie w górę - z wektora o rozmiarze `(4,1)` uzyskaliśmy wektor o rozmiarze `(16,1)`\n",
        "\n",
        "**Uwaga:** transponowany splot nie odtwarza oryginalnej macierzy danych, ponieważ w ogólności\n",
        "\n",
        "\n",
        "$$\n",
        "{\\huge\n",
        "C^{T} \\cdot C \\neq 1_{16 \\times 16}\n",
        "}\n",
        "$$\n",
        "**Po operacji splotu transponowanego odzyskujemy jedynie oryginalny kształt.**"
      ]
    },
    {
      "cell_type": "markdown",
      "metadata": {
        "editable": true,
        "tags": [],
        "id": "-5A53tzMtKO6"
      },
      "source": [
        "Splot transponowany może być też reprezentowany jako standardowy splot z odpowiednim wypełnianiem zerami.\n",
        "\n",
        "![image.png](attachment:02252792-cf0b-4d03-ba72-7d6aa4dbb1f1.png)"
      ]
    },
    {
      "cell_type": "markdown",
      "metadata": {
        "editable": true,
        "tags": [],
        "id": "7J0aKbp2tKO7"
      },
      "source": [
        "Interfejs użytkownika warstwy konwolucyjnej w Keras:\n",
        "```Python\n",
        "tf.keras.layers.Conv2DTranspose(\n",
        "    filters,             # liczba filtrów\n",
        "    kernel_size,         # rozmiar filtra: krotka (n,m), lub (n) dla filtrów kwadratowych\n",
        "    strides=(1, 1),      # wartość kroku w obu wymiarach\n",
        "    padding='valid',     # sposób dopełnienia:\n",
        "                         # `valid` - brak dopełnienia\n",
        "                         # `same` - dopełnienie zerami na brzegach, w rozmiarze połowy\n",
        "                         # dopełnienie wynosi połowę rozmiaru filtra w odpowiednim kierunku\n",
        "    output_padding=None, # dopełnienie na brzegach wynikowego obrazu\n",
        ")\n",
        "```"
      ]
    },
    {
      "cell_type": "markdown",
      "metadata": {
        "editable": true,
        "tags": [],
        "id": "zxMlxOGwtKO7"
      },
      "source": [
        " **Proszę**:\n",
        "\n",
        "* zbudować warstwę transponowaną splotową z jednym filtrem o rozmiarze `(3,3)` i pozostałych parametrach z domyślnymi wartościami\n",
        "* podać na jej wejściu rysunek o rozmiarze `(2,2)` wypełniony jedynkami\n",
        "* wypisać na ekran kształt wejścia i wyjścia warstwy"
      ]
    },
    {
      "cell_type": "code",
      "execution_count": null,
      "metadata": {
        "editable": true,
        "tags": [],
        "id": "vk6wCEjWtKO7"
      },
      "outputs": [],
      "source": [
        "...rozwiązanie...\n",
        "pass"
      ]
    },
    {
      "cell_type": "markdown",
      "metadata": {
        "editable": true,
        "tags": [],
        "id": "UJ3MMx_htKO8"
      },
      "source": [
        " **Proszę**:\n",
        "\n",
        "* zbudować warstwę transponowaną splotową z filtrami o rozmiarze `(3,3)` i pozostałych parametrami tak dobranymi, by uzyskać\n",
        "  transformację obrazu `(2,2,1)` na `(8,8,3)`, gdzie ostatnia wartość oznacza liczbę kanałów\n",
        "* wypisać na ekran kształt wejścia i wyjścia warstwy\n",
        "\n",
        "**Wskazówka:** proszę zajrzeć do dokumentacji [tf.keras.layers.Conv2DTranspose](https://www.tensorflow.org/api_docs/python/tf/keras/layers/Conv2DTranspose), by sprawdzić wzór na rozmiar wyniku warstwy Conv2DTranspose."
      ]
    },
    {
      "cell_type": "code",
      "execution_count": null,
      "metadata": {
        "editable": true,
        "tags": [],
        "id": "2GtVA8fWtKO8"
      },
      "outputs": [],
      "source": [
        "...rozwiązanie...\n",
        "pass"
      ]
    },
    {
      "cell_type": "markdown",
      "metadata": {
        "editable": true,
        "tags": [],
        "id": "L3NXpfXLtKO8"
      },
      "source": [
        "Standardowe parametry zwiększające rozmiar danych o czynnik dwa to:\n",
        "\n",
        "```Python\n",
        "tf.keras.layers.Conv2DTranspose(strides=2, padding='same')\n",
        "```"
      ]
    },
    {
      "cell_type": "markdown",
      "metadata": {
        "editable": true,
        "tags": [],
        "id": "3sC3kCgctKO8"
      },
      "source": [
        "### Zagadnienie: sieć generująca obrazy okręgów z danych wejściowych w postaci trójki:\n",
        "\n",
        "$$\n",
        "\\Large{(x, y, R)}\n",
        "$$\n",
        "\n",
        "* obrazy wyjściowe powinny mieć rozdzielczość 16$\\times$16\n",
        "* środki okręgów powinny się zawierać w płaszczyźnie docelowego obrazu\n",
        "* dane do treningu będą pochodziły z losowo generowanych okręgów\n",
        "* rozważymy dwie architektury: w pełni połączoną i splotową"
      ]
    },
    {
      "cell_type": "markdown",
      "metadata": {
        "editable": true,
        "tags": [],
        "id": "PUY2ZjDvtKO8"
      },
      "source": [
        "**Proszę:**\n",
        "\n",
        "* napisać funkcję `discGenerator(res=16)` która będzie generowała pary `(features, label)`:\n",
        "    * `features`  - parametry okręgów\n",
        "    * `labels`  - obrazy o rozdzielczości $res \\times res$\n",
        "* parametry okręgów powinny być losowe:\n",
        "    * współrzędne środka w zakresie `[0,res]`\n",
        "    * promień w zakresie `[0,res/2]`\n",
        "* kod powinien używać funkcji a pakietu TensorFlow, np. `tf.random.uniform` wszędzie gdzie to możliwe\n",
        "* okręgi można generować z użyciem funkcji `skimage.draw.disk` (co niestety łamie wymaganie używania jedynie funkcji pakietu TensorFlow)\n",
        "* funkcja powinna zwracać wartości z użyciem słowa kluczowego `yield` (taka funkcja jest [generatorem](https://book.pythontips.com/en/latest/generators.html)):\n",
        "```Python\n",
        "\n",
        "def discGenerator(res=16):\n",
        "    ...\n",
        "    yield  features, label\n",
        "```\n",
        "* funkcja może być sprawdzona w następujący sposób:\n",
        "```Python\n",
        "\n",
        "x = next(discGenerator())\n",
        "print(colored(\"Features shape:\",\"blue\"), x[0].shape)\n",
        "print(colored(\"Labels shape:\",\"blue\"), x[1].shape)\n",
        "```\n",
        "\n",
        "**Uwaga:**\n",
        "* parametr `res` musi mieć wartość domyślną"
      ]
    },
    {
      "cell_type": "code",
      "execution_count": null,
      "metadata": {
        "editable": true,
        "tags": [],
        "id": "sDCDEIdMtKO9"
      },
      "outputs": [],
      "source": [
        "def discGenerator(res=16):\n",
        "...rozwiązanie...\n",
        "x = next(discGenerator())\n",
        "print(colored(\"Features shape:\",\"blue\"), x[0].shape)\n",
        "print(colored(\"Labels shape:\",\"blue\"), x[1].shape)"
      ]
    },
    {
      "cell_type": "markdown",
      "metadata": {
        "editable": true,
        "tags": [],
        "id": "wDFj9HdqtKO9"
      },
      "source": [
        "**Proszę**:\n",
        "* stworzyć macierze cech i etykiet:\n",
        "```Python\n",
        "features = []\n",
        "labels = []\n",
        "```\n",
        "i wypełnić je 1024 przykładami wygenerowanymi przez generator `discGenerator()`\n",
        "\n",
        "* wpisać na ekran kształty cech i etykiet"
      ]
    },
    {
      "cell_type": "code",
      "execution_count": null,
      "metadata": {
        "editable": true,
        "tags": [],
        "id": "bEqKN4zBtKO9"
      },
      "outputs": [],
      "source": [
        "features = []\n",
        "labels = []\n",
        "res = 16\n",
        "...rozwiązanie...\n",
        "pass"
      ]
    },
    {
      "cell_type": "markdown",
      "metadata": {
        "editable": true,
        "tags": [],
        "id": "2PnwaxBotKO9"
      },
      "source": [
        "**Proszę:**\n",
        "\n",
        "* zdefiniować sieć w pełni połączoną: `model_fc` która może generować obrazy okręgów.\n",
        "* sieć powinna mieć odpowiednie kształty wejścia i wyjścia\n",
        "* wystarczy by sieć miałą trzy warstwy ukryte\n",
        "* wartości wyjściowych pikseli powinny się zawierać w zakresie `[0,1]`\n",
        "* wypisać na ekran podsumowanie modelu"
      ]
    },
    {
      "cell_type": "code",
      "execution_count": null,
      "metadata": {
        "editable": true,
        "tags": [],
        "id": "pNQh5BthtKO9"
      },
      "outputs": [],
      "source": [
        "...rozwiązanie...\n",
        "pass"
      ]
    },
    {
      "cell_type": "markdown",
      "metadata": {
        "editable": true,
        "tags": [],
        "id": "5gBnVoM6tKO-"
      },
      "source": [
        "**Proszę:**\n",
        "* zdefiniować sieć `model_cnn` z transponowanymi warstwami splotowymi: `model_cnn` która realizuje to samo zadanie co sieć z poprzedniej komórki\n",
        "* wypisać na ekran podsumowanie modelu\n",
        "\n",
        "**Wskazówka:** w przypadku sieci splotowej można użyć jednej warstwy gęstej do zwiększenia rozmiaru początkowego obrazu:\n",
        "```Python\n",
        "\n",
        "  tf.keras.layers.Dense(4, activation='relu',\n",
        "                        bias_initializer=tf.keras.initializers.RandomUniform(minval=-1, maxval=1),\n",
        "                        kernel_initializer=\"HeNormal\"),\n",
        "  tf.keras.layers.Reshape((2,2,1)),\n",
        "```"
      ]
    },
    {
      "cell_type": "code",
      "execution_count": null,
      "metadata": {
        "editable": true,
        "tags": [],
        "id": "S8-Xf6K8tKO-"
      },
      "outputs": [],
      "source": [
        "...rozwiązanie...\n",
        "pass"
      ]
    },
    {
      "cell_type": "markdown",
      "metadata": {
        "editable": true,
        "tags": [],
        "id": "IGv6b6-8tKO-"
      },
      "source": [
        "**Proszę:**\n",
        "\n",
        "* przeprowadzić trening sieci `model_fc` na `500` epokach z rozmiarem paczki ustawionym na `32`\n",
        "* narysować zmianę funkcji straty w funkcji numeru epoki na zbiorze treningowym i walidacyjnym\n",
        "* jako zbioru walidacyjnego użyć `10%` zbioru podanego jako treningowy\n",
        "* kod trenujący powinien być zawarty w funkcji `trainModel(model, nEpochs)` i zawierać:\n",
        "    * harmonogram zmiany współczynnika uczenia\n",
        "    * wywołanie wczesnego zatrzymania (sprawdzić wyniki bez zatrzymania)\n",
        "    * rysowane historii funkcji straty\n",
        "    * jako funkcji straty proszę użyć entropii krzyżowej: `binary_crossentropy` - każdy z pikseli należy do jednej z dwu klas: `biały/czarny`\n",
        "* wypisać na ekran wartość funkcji straty wytrenowanego modelu na zbiorze treningowym"
      ]
    },
    {
      "cell_type": "code",
      "execution_count": null,
      "metadata": {
        "editable": true,
        "tags": [],
        "id": "WOkAIsSutKO-"
      },
      "outputs": [],
      "source": [
        "%%time\n",
        "...rozwiązanie...\n",
        "nEpochs = 500\n",
        "trainModel(model_fc, nEpochs)"
      ]
    },
    {
      "cell_type": "markdown",
      "metadata": {
        "editable": true,
        "tags": [],
        "id": "GFA41_GJtKO_"
      },
      "source": [
        "**Proszę:**\n",
        "\n",
        "* napisać funkcję `plotGenerated(model, params)`, która rysuje panel z czterema obrazy wygenerowanymi przez sieć\n",
        "  dla zadanego parametrów\n",
        "* rysunki powinny zawierać okręgi narysowane z nominalnymi wartościami parametrów\n",
        "* wywołać funkcję `plotGenerated(model, params)` dla modelu `model_fc` i parametrów:\n",
        "\n",
        "$$\n",
        "\\Large{(x, y, R)} = (0,0,10), (16,0,10), (8,8,5), (8,8,1)\n",
        "$$"
      ]
    },
    {
      "cell_type": "code",
      "execution_count": null,
      "metadata": {
        "editable": true,
        "tags": [],
        "id": "G5-FMRR-tKO_"
      },
      "outputs": [],
      "source": [
        "...rozwiązanie...\n",
        "\n",
        "params = np.array( [(0,0,10), (16,0,10), (8,8,5), (8,8,1)] )\n",
        "plotGenerated(model_fc, params)"
      ]
    },
    {
      "cell_type": "markdown",
      "metadata": {
        "editable": true,
        "tags": [],
        "id": "aLP6tssktKO_"
      },
      "source": [
        "**Proszę:**\n",
        "\n",
        "* przeprowadzić trening sieci `model_cnn` z tymi samymi ustawieniami co dla sieci `model_dnn`\n",
        "* narysować wygenerowane obrazy dla tych samych parametrów, co w przypadku sieci w pełni połączonej\n"
      ]
    },
    {
      "cell_type": "code",
      "execution_count": null,
      "metadata": {
        "editable": true,
        "tags": [],
        "id": "IrqKx25wtKO_"
      },
      "outputs": [],
      "source": [
        "%%time\n",
        "...rozwiązanie...\n",
        "pass"
      ]
    },
    {
      "cell_type": "markdown",
      "metadata": {
        "editable": true,
        "tags": [],
        "id": "aQvpRQdktKPA"
      },
      "source": [
        "# Architektura autokodera\n",
        "\n",
        "Sieć ze splotem nie trenuje się zbyt dobrze. Powodem może być niewłaściwa reprezentacja okręgu przez trzy liczby: `(x,y,R)`.\n",
        "Może istnieje jakaś reprezentacja, która będzie szybciej prowadziła do uzyskania dobrego modelu?\n",
        "\n",
        "Zamiast samodzielnie eksperymentować z różnymi reprezentacjami skonstruujemy sieć, która sama znajdzie reprezentację- **autokoder**, ang. `autoencoder, AE`.\n",
        "\n",
        "Architektura AE składa się z dwu części:\n",
        "\n",
        "**sieci kodującej** - sieci która z danych wejściowych tworzy reprezentację o zadanym rozmiarze. Przestrzeń do której prowadzi sieć kodująca jest nazywana przestrzenią ukrytą, ang. `hidden space` lub `bottleneck` - ponieważ to jest miejsce gdzie liczba parametrów opisujących zagadnienie jest zwykle najmniejsza.\n",
        "\n",
        "**sieci dekodującej** - sieci która z reprezentacji w przestrzeni ukrytej odtwarza oryginalną postać danych wejściowych\n",
        "\n",
        "W czasie treningu obrazy z dekodera są porównywane z danymi wejściowymi. Wagi są zmieniane tak, by minimalizować różnicę między nimi."
      ]
    },
    {
      "cell_type": "markdown",
      "metadata": {
        "editable": true,
        "tags": [],
        "id": "IBfOaGDHtKPA"
      },
      "source": [
        "![image.png](attachment:137ea920-9e45-4daf-a448-29a4fd15ca49.png)"
      ]
    },
    {
      "cell_type": "markdown",
      "metadata": {
        "editable": true,
        "tags": [],
        "id": "IkElCZ-ctKPA"
      },
      "source": [
        "**Proszę:**\n",
        "\n",
        "* stworzyć model `encoder` - konwolucyjną sieć kodującą wykonującą operację kodowana, czyli zmiany kształtu danych\n",
        "$$\n",
        "\\Large{    \n",
        "(16,16,1) \\rightarrow (2,2,1)\n",
        "}\n",
        "$$\n",
        "* proszę użyć klasy `tf.keras.Sequential`\n",
        "* proszę wypisać na ekran podsumowanie modelu"
      ]
    },
    {
      "cell_type": "code",
      "execution_count": null,
      "metadata": {
        "editable": true,
        "tags": [],
        "id": "KiethUvptKPA"
      },
      "outputs": [],
      "source": [
        "...rozwiązanie...\n",
        "pass"
      ]
    },
    {
      "cell_type": "markdown",
      "metadata": {
        "editable": true,
        "tags": [],
        "id": "bVRB3UQqtKPA"
      },
      "source": [
        "**Proszę:**\n",
        "\n",
        "* stworzyć model `decoder` - sieć dekodującą wykonującą operację odkodowana, czyli zmiany kształtu danych\n",
        "$$\n",
        "\\Large{    \n",
        "(2,2,1) \\rightarrow (16,16,1)\n",
        "}\n",
        "$$\n",
        "* proszę użyć klasy `tf.keras.Sequential`\n",
        "* proszę użyć transponowanych splotowych warstw z tymi samymi ustawieniami jak w sieci kodującej\n",
        "* proszę wypisać na ekran podsumowanie modelu"
      ]
    },
    {
      "cell_type": "code",
      "execution_count": null,
      "metadata": {
        "editable": true,
        "tags": [],
        "id": "6eJy8C3ZtKPA"
      },
      "outputs": [],
      "source": [
        "...rozwiązanie...\n",
        "pass"
      ]
    },
    {
      "cell_type": "markdown",
      "metadata": {
        "editable": true,
        "tags": [],
        "id": "f18tzUVYtKPB"
      },
      "source": [
        "**Proszę:**\n",
        "\n",
        "* utworzyć  `model_cnn_ae` - autokoder -  sieć sekwencyjną która składa się z sieci kodującej, i dekodującej:\n",
        "```Python\n",
        "\n",
        "[encoder, decoder]\n",
        "\n",
        "```\n",
        "* wywołać model na jednym przykładzie korzystając z funkcji `predict`\n",
        "```Python\n",
        "\n",
        "model_cnn_ae.predict(...)\n",
        "```\n",
        "* wypisać na ekran podsumowanie modelu\n",
        "\n",
        "**Uwaga:**\n",
        "* model przyjmuje paczki, więc dane wejściowe muszą mieć odpowiedni wymiar, nawet jeśli podajemy pojedynczy przykład\n",
        "* co jest teraz danymi wejściowymi do modelu?"
      ]
    },
    {
      "cell_type": "code",
      "execution_count": null,
      "metadata": {
        "editable": true,
        "tags": [],
        "id": "i2FLxSjDtKPB"
      },
      "outputs": [],
      "source": [
        "...rozwiązanie...\n",
        "pass"
      ]
    },
    {
      "cell_type": "markdown",
      "metadata": {
        "editable": true,
        "tags": [],
        "id": "xxgVupb2tKPB"
      },
      "source": [
        "**Proszę:**\n",
        "\n",
        "* przeprowadzić trening autokodera\n",
        "* użyć ustawień treningu jak dla poprzednich modeli"
      ]
    },
    {
      "cell_type": "code",
      "execution_count": null,
      "metadata": {
        "editable": true,
        "tags": [],
        "id": "h6Ts7_uotKPF"
      },
      "outputs": [],
      "source": [
        "%%time\n",
        "...rozwiązanie...\n",
        "pass"
      ]
    },
    {
      "cell_type": "markdown",
      "metadata": {
        "editable": true,
        "tags": [],
        "id": "fLWrzIPEtKPF"
      },
      "source": [
        "**Proszę:**\n",
        "\n",
        "* wypisać na ekran parametry pierwszego przykładu ze zbioru danych\n",
        "* uruchomić koder na obrazie z pierwszego przykładu\n",
        "* wypisać na ekran zakodowaną postać obrazu"
      ]
    },
    {
      "cell_type": "code",
      "execution_count": null,
      "metadata": {
        "editable": true,
        "tags": [],
        "id": "TfNkeGtUtKPG"
      },
      "outputs": [],
      "source": [
        "...rozwiązanie...\n",
        "pass"
      ]
    },
    {
      "cell_type": "markdown",
      "metadata": {
        "editable": true,
        "tags": [],
        "id": "jmIQJqz8tKPG"
      },
      "source": [
        "**Proszę:**\n",
        "\n",
        "* napisać funkcję `plotDecoded(model)` która rysuje rysunki uzyskane z modelu `model_cnn_ae` dla czterech losowych przykładów z danych treningowych:\n",
        "    * parametry z przykładów treningowych są kodowane przez `encoder`\n",
        "    * zakodowane parametry są odkodowywane przez `decoder`\n",
        "* rysunki powinny być podpisane wartościami parametrów\n",
        "* rysunki powinny zawierać okręgi narysowane z nominalnymi wartościami parametrów"
      ]
    },
    {
      "cell_type": "code",
      "execution_count": null,
      "metadata": {
        "editable": true,
        "tags": [],
        "id": "_ZZ5Nk57tKPG"
      },
      "outputs": [],
      "source": [
        "...rozwiązanie...\n",
        "plotDecoded(model_cnn_ae)"
      ]
    },
    {
      "cell_type": "markdown",
      "metadata": {
        "editable": true,
        "tags": [],
        "id": "b7-MnKTKtKPG"
      },
      "source": [
        "# Zadanie domowe\n",
        "\n",
        "Skonstruować sieć, która będzie generowała obrazy okręgów o rozdzielczości `(256, 256)`.\n",
        "\n",
        "\n",
        "**Proszę:**\n",
        "\n",
        "* wygenerować 1024 przykłady obrazów okręgów o rozdzielczości `(256,256)` o losowych parametrach:\n",
        "    * współrzędne środka w zakresie [0,N]\n",
        "    * promień w zakresie [0,N/2]\n",
        "     \n",
        "* skonstruować **sieć w pełni połączoną** generującą obrazy z trójki:\n",
        "$$\n",
        "\\Large{(x, y, R)}\n",
        "$$\n",
        "\n",
        "* skonstruować **sieć autokodującą** z wymiarem ukrytym o kształcie `(4,4,1)`\n",
        "* przeprowadzić trening obu sieci\n",
        "* narysować obrazy dla czterepch pierwszych przykładów ze zbioru treningowego\n",
        "* zwrócić uwagę na rozmiar modeli"
      ]
    },
    {
      "cell_type": "code",
      "execution_count": null,
      "metadata": {
        "editable": true,
        "tags": [],
        "id": "qBLTSH3ytKPG"
      },
      "outputs": [],
      "source": [
        "##Data generation\n",
        "...rozwiązanie...\n",
        "print(colored(\"Features shape:\",\"blue\"),features.shape)\n",
        "print(colored(\"Labels shape:\",\"blue\"),labels.shape)"
      ]
    },
    {
      "cell_type": "code",
      "execution_count": null,
      "metadata": {
        "editable": true,
        "tags": [],
        "id": "4x7iuRVLtKPG"
      },
      "outputs": [],
      "source": [
        "%%time\n",
        "## autoencoder model\n",
        "...rozwiązanie...\n",
        "#Evaluation\n",
        "plotDecoded(model_cnn_ae)"
      ]
    },
    {
      "cell_type": "code",
      "execution_count": null,
      "metadata": {
        "editable": true,
        "tags": [],
        "id": "Tyk1bG92tKPH"
      },
      "outputs": [],
      "source": [
        "%%time\n",
        "##fully connected model\n",
        "...rozwiązanie...\n",
        "#model evaluation\n",
        "params = features[0:4]\n",
        "plotGenerated(model_fc, params)"
      ]
    }
  ],
  "metadata": {
    "colab": {
      "provenance": []
    },
    "kernelspec": {
      "display_name": "Python 3 (ipykernel)",
      "language": "python",
      "name": "python3"
    },
    "language_info": {
      "codemirror_mode": {
        "name": "ipython",
        "version": 3
      },
      "file_extension": ".py",
      "mimetype": "text/x-python",
      "name": "python",
      "nbconvert_exporter": "python",
      "pygments_lexer": "ipython3",
      "version": "3.11.0rc1"
    },
    "rise": {
      "center": false,
      "controls": false,
      "footer": "<h3>Letnia Szkoła<br>Fizyki 2023</h3>",
      "header": "<h1>Hello</h1>",
      "progress": "true",
      "slideNumber": "c/t",
      "transition": "none"
    }
  },
  "nbformat": 4,
  "nbformat_minor": 0
}