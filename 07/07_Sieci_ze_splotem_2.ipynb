{
  "cells": [
    {
      "cell_type": "markdown",
      "metadata": {
        "editable": true,
        "id": "U4q6zjZMEJiB",
        "tags": []
      },
      "source": [
        "## Inicjalizacja środowiska programistycznego"
      ]
    },
    {
      "cell_type": "code",
      "execution_count": 4,
      "metadata": {
        "colab": {
          "base_uri": "https://localhost:8080/"
        },
        "editable": true,
        "id": "gWPwKTbXEJiE",
        "outputId": "f8de205c-2050-4eb7-a5d3-94e9e6c038cf",
        "tags": []
      },
      "outputs": [
        {
          "name": "stdout",
          "output_type": "stream",
          "text": [
            "Collecting idx2numpy\n",
            "  Downloading idx2numpy-1.2.3.tar.gz (6.8 kB)\n",
            "  Preparing metadata (setup.py) ... \u001b[?25l\u001b[?25hdone\n",
            "Requirement already satisfied: numpy in /usr/local/lib/python3.11/dist-packages (from idx2numpy) (2.0.2)\n",
            "Requirement already satisfied: six in /usr/local/lib/python3.11/dist-packages (from idx2numpy) (1.17.0)\n",
            "Building wheels for collected packages: idx2numpy\n",
            "  Building wheel for idx2numpy (setup.py) ... \u001b[?25l\u001b[?25hdone\n",
            "  Created wheel for idx2numpy: filename=idx2numpy-1.2.3-py3-none-any.whl size=7903 sha256=dd7402c993c6c838c4ab95509dcd39d8f737ec15fba56cf6d3d351f8ab6b3978\n",
            "  Stored in directory: /root/.cache/pip/wheels/87/e5/e7/70fc742b3645ddf9d392f766feccbcc95cb3a3c806f8588af0\n",
            "Successfully built idx2numpy\n",
            "Installing collected packages: idx2numpy\n",
            "Successfully installed idx2numpy-1.2.3\n"
          ]
        }
      ],
      "source": [
        "#Color printing\n",
        "from termcolor import colored\n",
        "\n",
        "#General data operations library\n",
        "import math\n",
        "import string\n",
        "from datetime import datetime\n",
        "import numpy as np\n",
        "\n",
        "#The tensorflow library\n",
        "import os\n",
        "os.environ[\"TF_CPP_MIN_LOG_LEVEL\"] = \"1\"\n",
        "import tensorflow  as tf\n",
        "\n",
        "#Plotting libraries\n",
        "import matplotlib as mpl\n",
        "import matplotlib.pyplot as plt\n",
        "\n",
        "#Increase plots font size\n",
        "params = {'legend.fontsize': 'xx-large',\n",
        "          'figure.figsize': (10, 7),\n",
        "         'axes.labelsize': 'xx-large',\n",
        "         'axes.titlesize':'xx-large',\n",
        "         'xtick.labelsize':'xx-large',\n",
        "         'ytick.labelsize':'xx-large'}\n",
        "plt.rcParams.update(params)\n",
        "\n",
        "#append path with python modules\n",
        "import importlib\n",
        "import sys\n",
        "# sys.path.append(\"../modules\")\n",
        "!pip install idx2numpy\n",
        "#Private functions\n",
        "import plotting_functions as plf\n",
        "importlib.reload(plf);\n",
        "\n",
        "import emnist_functions as emnist_fcn\n",
        "importlib.reload(emnist_fcn);"
      ]
    },
    {
      "cell_type": "markdown",
      "metadata": {
        "editable": true,
        "id": "GTJjd_OrEJiI",
        "tags": []
      },
      "source": [
        "<br/><br/>\n",
        "<br/><br/>\n",
        "\n",
        "<h1 align=\"center\">\n",
        " Uczenie maszynowe II\n",
        "</h1>\n",
        "\n",
        "<br/><br/>\n",
        "<br/><br/>\n",
        "<br/><br/>\n",
        "<br/><br/>\n",
        "\n",
        "<h1 align=\"right\">\n",
        "Artur Kalinowski <br>\n",
        "Uniwersytet Warszawski <br>\n",
        "Wydział Fizyki <br>    \n",
        "</h1>"
      ]
    },
    {
      "cell_type": "markdown",
      "metadata": {
        "editable": true,
        "id": "_pIszmrSEJiJ",
        "tags": []
      },
      "source": [
        "# Transponowana warstwa splotowa\n",
        "\n",
        "Architektury używające warstw splotowych i łączących prowadzą zwykle do redukcji rozmiaru obrazu, ang. `downsampling`,\n",
        "w kolejnych warstwach sieci. Warstwy, które prowadzą do zwiększenia rozmiaru obrazu to warstwy ekspansji, ang. `upsampling layers`.\n",
        "Najbardziej popularną warstwą ekspansji jest transponowana warstwa splotowa, ang. `transposed convlolution layer`.\n",
        "\n",
        "\n",
        "Źródło rysunków: [A guide to convolution arithmetic for deep learning, arXiv:1603.07285](https://arxiv.org/abs/1603.07285)"
      ]
    },
    {
      "cell_type": "markdown",
      "metadata": {
        "editable": true,
        "id": "hiD7ainKEJiK",
        "tags": []
      },
      "source": [
        "Standardowa reprezentacja splotu, jako okna z wagami przesuwającego się po obrazie:\n",
        "\n",
        "![image.png](attachment:db6bc85f-24a0-4bad-9f1f-00daa624229b.png)"
      ]
    },
    {
      "cell_type": "markdown",
      "metadata": {
        "editable": true,
        "id": "xHoVWDbtEJiK",
        "tags": []
      },
      "source": [
        "Macierzowa reprezentacja splotu. Obraz wejściowy w tej reprezentacji jest spłaszczony do wektora:\n",
        "\n",
        "![image.png](attachment:d4d0f120-60ec-49f1-8906-c329ef465de1.png)\n",
        "\n",
        "Wędrujące okno może być zastąpione pojedynczą operacją mnożenia macierzy reprezentującej wagi dla wszystkich elementów obrazu.\n",
        "Dla przykładu powyżej macierz reprezentująca wszystkie wagi splotu ma postać:\n",
        "\n",
        "![image.png](attachment:8a974149-ba67-4146-9b50-36be2f367de6.png)"
      ]
    },
    {
      "cell_type": "markdown",
      "metadata": {
        "editable": true,
        "id": "vwbEPzo0EJiK",
        "tags": []
      },
      "source": [
        "Operacja splotu sprowadza się więc do mnożenia macierzy:\n",
        "\n",
        "$$\n",
        "{\\huge\n",
        "r = C \\times d\n",
        "}\n",
        "$$\n",
        "**r** - wynik splotu o kształcie (4,1)\n",
        "\n",
        "**C** - macierz splotu, o kształcie (4,16)\n",
        "\n",
        "**d** - wektor danych o kształcie (16,1)\n",
        "\n",
        "\n",
        "Macierz wynikowa w tym przykładzie ma kształt `(4,1)` i można ją zamienić na macierz o kształcie `(2,2)`, takim jakiego oczekujuemy dla\n",
        "wyniku splotu w tym przykładzie."
      ]
    },
    {
      "cell_type": "markdown",
      "metadata": {
        "editable": true,
        "id": "wCDQ-nn1EJiK",
        "tags": []
      },
      "source": [
        "Macierz $C^{T}$ możemy traktować jako macierz operacji transpozycji która przeprowadza wektory o kształcie `(4,1)` w wektory o kształcie `(16,1)`\n",
        "\n",
        "$$\n",
        "{\\huge\n",
        "r' = C^{T} \\times r\n",
        "}\n",
        "$$\n",
        "**r'** - wynik splotu o kształcie (16,1)\n",
        "\n",
        "$\\mathbf{C^{T}}$ - macierz splotu o kształcie (4,16)\n",
        "\n",
        "**r** - wektor danych o kształcie (4,1)\n",
        "\n",
        "W ten sposób uzyskaliśmy skalowanie w górę - z wektora o rozmiarze `(4,1)` uzyskaliśmy wektor o rozmiarze `(16,1)`\n",
        "\n",
        "**Uwaga:** transponowany splot nie odtwarza oryginalnej macierzy danych, ponieważ w ogólności\n",
        "\n",
        "\n",
        "$$\n",
        "{\\huge\n",
        "C^{T} \\cdot C \\neq 1_{16 \\times 16}\n",
        "}\n",
        "$$\n",
        "**Po operacji splotu transponowanego odzyskujemy jedynie oryginalny kształt.**"
      ]
    },
    {
      "cell_type": "markdown",
      "metadata": {
        "editable": true,
        "id": "5NhX75QdEJiL",
        "tags": []
      },
      "source": [
        "Splot transponowany może być też reprezentowany jako standardowy splot z odpowiednim wypełnianiem zerami.\n",
        "\n",
        "![image.png](attachment:02252792-cf0b-4d03-ba72-7d6aa4dbb1f1.png)"
      ]
    },
    {
      "cell_type": "markdown",
      "metadata": {
        "editable": true,
        "id": "07ITazusEJiL",
        "tags": []
      },
      "source": [
        "Interfejs użytkownika warstwy konwolucyjnej w Keras:\n",
        "```Python\n",
        "tf.keras.layers.Conv2DTranspose(\n",
        "    filters,             # liczba filtrów\n",
        "    kernel_size,         # rozmiar filtra: krotka (n,m), lub (n) dla filtrów kwadratowych\n",
        "    strides=(1, 1),      # wartość kroku w obu wymiarach\n",
        "    padding='valid',     # sposób dopełnienia:\n",
        "                         # `valid` - brak dopełnienia\n",
        "                         # `same` - dopełnienie zerami na brzegach, w rozmiarze połowy\n",
        "                         # dopełnienie wynosi połowę rozmiaru filtra w odpowiednim kierunku\n",
        "    output_padding=None, # dopełnienie na brzegach wynikowego obrazu\n",
        ")\n",
        "```"
      ]
    },
    {
      "cell_type": "markdown",
      "metadata": {
        "editable": true,
        "id": "5gOkfCQjEJiM",
        "tags": []
      },
      "source": [
        " **Proszę**:\n",
        "\n",
        "* zbudować warstwę transponowaną splotową z jednym filtrem o rozmiarze `(3,3)` i pozostałych parametrach z domyślnymi wartościami\n",
        "* podać na jej wejściu rysunek o rozmiarze `(2,2)` wypełniony jedynkami\n",
        "* wypisać na ekran kształt wejścia i wyjścia warstwy"
      ]
    },
    {
      "cell_type": "code",
      "execution_count": 8,
      "metadata": {
        "colab": {
          "base_uri": "https://localhost:8080/"
        },
        "editable": true,
        "id": "NvQHN6HqEJiM",
        "outputId": "293459f2-3819-429d-d677-e86ac6738449",
        "tags": []
      },
      "outputs": [
        {
          "name": "stdout",
          "output_type": "stream",
          "text": [
            "fig shape (1, 2, 2, 1)\n",
            "out shape (1, 4, 4, 1)\n"
          ]
        }
      ],
      "source": [
        "filters = 1\n",
        "kernel_size = (3,3)\n",
        "fig = np.ones((1, 2, 2, 1))\n",
        "layer = tf.keras.layers.Conv2DTranspose(\n",
        "    filters,             # liczba filtrów\n",
        "    kernel_size,         # rozmiar filtra: krotka (n,m), lub (n) dla filtrów kwadratowych\n",
        "    strides=(1, 1),      # wartość kroku w obu wymiarach\n",
        "    padding='valid',     # sposób dopełnienia:\n",
        "                         # `valid` - brak dopełnienia\n",
        "                         # `same` - dopełnienie zerami na brzegach, w rozmiarze połowy\n",
        "                         # dopełnienie wynosi połowę rozmiaru filtra w odpowiednim kierunku\n",
        "    output_padding=None, # dopełnienie na brzegach wynikowego obrazu\n",
        ")\n",
        "print(\"fig shape\", fig.shape)\n",
        "print(\"out shape\", layer(fig).shape)\n"
      ]
    },
    {
      "cell_type": "markdown",
      "metadata": {
        "editable": true,
        "id": "XX-EUpJKEJiM",
        "tags": []
      },
      "source": [
        " **Proszę**:\n",
        "\n",
        "* zbudować warstwę transponowaną splotową z filtrami o rozmiarze `(3,3)` i pozostałych parametrami tak dobranymi, by uzyskać\n",
        "  transformację obrazu `(2,2,1)` na `(8,8,3)`, gdzie ostatnia wartość oznacza liczbę kanałów\n",
        "* wypisać na ekran kształt wejścia i wyjścia warstwy\n",
        "\n",
        "**Wskazówka:** proszę zajrzeć do dokumentacji [tf.keras.layers.Conv2DTranspose](https://www.tensorflow.org/api_docs/python/tf/keras/layers/Conv2DTranspose), by sprawdzić wzór na rozmiar wyniku warstwy Conv2DTranspose."
      ]
    },
    {
      "cell_type": "code",
      "execution_count": 19,
      "metadata": {
        "colab": {
          "base_uri": "https://localhost:8080/"
        },
        "editable": true,
        "id": "S3yVL3HYEJiN",
        "outputId": "2ffce391-dd23-4f09-f8a5-f73a19aba464",
        "tags": []
      },
      "outputs": [
        {
          "name": "stdout",
          "output_type": "stream",
          "text": [
            "fig shape (1, 2, 2, 1)\n",
            "out shape (1, 8, 8, 2)\n"
          ]
        }
      ],
      "source": [
        "filters = 2\n",
        "kernel_size = (3,3)\n",
        "fig = np.ones((1, 2, 2, 1))\n",
        "layer = tf.keras.layers.Conv2DTranspose(\n",
        "    filters,             # liczba filtrów\n",
        "    kernel_size,         # rozmiar filtra: krotka (n,m), lub (n) dla filtrów kwadratowych\n",
        "    strides=4,      # wartość kroku w obu wymiarach\n",
        "    padding='valid',     # sposób dopełnienia:\n",
        "                         # `valid` - brak dopełnienia\n",
        "                         # `same` - dopełnienie zerami na brzegach, w rozmiarze połowy\n",
        "                         # dopełnienie wynosi połowę rozmiaru filtra w odpowiednim kierunku\n",
        "    output_padding=None, # dopełnienie na brzegach wynikowego obrazu\n",
        ")\n",
        "print(\"fig shape\", fig.shape)\n",
        "print(\"out shape\", layer(fig).shape)\n"
      ]
    },
    {
      "cell_type": "markdown",
      "metadata": {
        "editable": true,
        "id": "FpW_fWQgEJiN",
        "tags": []
      },
      "source": [
        "Standardowe parametry zwiększające rozmiar danych o czynnik dwa to:\n",
        "\n",
        "```Python\n",
        "tf.keras.layers.Conv2DTranspose(strides=2, padding='same')\n",
        "```"
      ]
    },
    {
      "cell_type": "markdown",
      "metadata": {
        "editable": true,
        "id": "5WpGfUOmEJiN",
        "tags": []
      },
      "source": [
        "### Zagadnienie: sieć generująca obrazy okręgów z danych wejściowych w postaci trójki:\n",
        "\n",
        "$$\n",
        "\\Large{(x, y, R)}\n",
        "$$\n",
        "\n",
        "* obrazy wyjściowe powinny mieć rozdzielczość 16$\\times$16\n",
        "* środki okręgów powinny się zawierać w płaszczyźnie docelowego obrazu\n",
        "* dane do treningu będą pochodziły z losowo generowanych okręgów\n",
        "* rozważymy dwie architektury: w pełni połączoną i splotową"
      ]
    },
    {
      "cell_type": "markdown",
      "metadata": {
        "editable": true,
        "id": "hgfdMIweEJiO",
        "tags": []
      },
      "source": [
        "**Proszę:**\n",
        "\n",
        "* napisać funkcję `discGenerator(res=16)` która będzie generowała pary `(features, label)`:\n",
        "    * `features`  - parametry okręgów\n",
        "    * `labels`  - obrazy o rozdzielczości $res \\times res$\n",
        "* parametry okręgów powinny być losowe:\n",
        "    * współrzędne środka w zakresie `[0,res]`\n",
        "    * promień w zakresie `[0,res/2]`\n",
        "* kod powinien używać funkcji a pakietu TensorFlow, np. `tf.random.uniform` wszędzie gdzie to możliwe\n",
        "* okręgi można generować z użyciem funkcji `skimage.draw.disk` (co niestety łamie wymaganie używania jedynie funkcji pakietu TensorFlow)\n",
        "* funkcja powinna zwracać wartości z użyciem słowa kluczowego `yield` (taka funkcja jest [generatorem](https://book.pythontips.com/en/latest/generators.html)):\n",
        "```Python\n",
        "\n",
        "def discGenerator(res=16):\n",
        "    ...\n",
        "    yield  features, label\n",
        "```\n",
        "* funkcja może być sprawdzona w następujący sposób:\n",
        "```Python\n",
        "\n",
        "x = next(discGenerator())\n",
        "print(colored(\"Features shape:\",\"blue\"), x[0].shape)\n",
        "print(colored(\"Labels shape:\",\"blue\"), x[1].shape)\n",
        "```\n",
        "\n",
        "**Uwaga:**\n",
        "* parametr `res` musi mieć wartość domyślną"
      ]
    },
    {
      "cell_type": "code",
      "execution_count": 27,
      "metadata": {
        "colab": {
          "base_uri": "https://localhost:8080/"
        },
        "editable": true,
        "id": "UDIH8ZPWEJiO",
        "outputId": "edbcc9ec-73ae-4de8-a5f6-0cfe3ccd342e",
        "tags": []
      },
      "outputs": [
        {
          "name": "stdout",
          "output_type": "stream",
          "text": [
            "Features shape: (3,)\n",
            "Labels shape: (16, 16, 1)\n"
          ]
        }
      ],
      "source": [
        "import skimage\n",
        "\n",
        "def discGenerator(res=16):\n",
        "  while True:\n",
        "    # Losowe parametry okręgu\n",
        "    x = tf.random.uniform(shape=(), minval=0, maxval=res, dtype=tf.float64)\n",
        "    y = tf.random.uniform(shape=(), minval=0, maxval=res, dtype=tf.float64)\n",
        "    R = tf.random.uniform(shape=(), minval=0, maxval=res//2, dtype=tf.float64)\n",
        "\n",
        "    # Generowanie obrazu okręgu\n",
        "    label = np.zeros((res, res, 1), dtype=np.float32)\n",
        "    rr, cc = skimage.draw.disk((x, y), R, shape=label.shape[:2])\n",
        "    label[rr, cc] = 1\n",
        "    label = tf.reshape(label, (res, res, 1))\n",
        "    features = tf.stack([tf.cast(x, tf.float32), tf.cast(y, tf.float32), tf.cast(R, tf.float32)])\n",
        "\n",
        "    yield features, label\n",
        "x = next(discGenerator())\n",
        "print(colored(\"Features shape:\",\"blue\"), x[0].shape)\n",
        "print(colored(\"Labels shape:\",\"blue\"), x[1].shape)"
      ]
    },
    {
      "cell_type": "markdown",
      "metadata": {
        "editable": true,
        "id": "vWbDQeerEJiO",
        "tags": []
      },
      "source": [
        "**Proszę**:\n",
        "* stworzyć macierze cech i etykiet:\n",
        "```Python\n",
        "features = []\n",
        "labels = []\n",
        "```\n",
        "i wypełnić je 1024 przykładami wygenerowanymi przez generator `discGenerator()`\n",
        "\n",
        "* wpisać na ekran kształty cech i etykiet"
      ]
    },
    {
      "cell_type": "code",
      "execution_count": 28,
      "metadata": {
        "colab": {
          "base_uri": "https://localhost:8080/"
        },
        "editable": true,
        "id": "Fz7ukPtEEJiO",
        "outputId": "2675a23a-0a24-479f-8dd7-68e9405cf1c5",
        "tags": []
      },
      "outputs": [
        {
          "name": "stdout",
          "output_type": "stream",
          "text": [
            "(1024, 3)\n",
            "(1024, 16, 16, 1)\n"
          ]
        }
      ],
      "source": [
        "features = []\n",
        "labels = []\n",
        "res = 16\n",
        "for i in range(1024):\n",
        "  x = next(discGenerator(res))\n",
        "  features.append(x[0])\n",
        "  labels.append(x[1])\n",
        "features = np.array(features).reshape(-1, 3)\n",
        "labels = np.array(labels).reshape(-1, res, res, 1)\n",
        "\n",
        "print(features.shape)\n",
        "print(labels.shape)"
      ]
    },
    {
      "cell_type": "markdown",
      "metadata": {
        "editable": true,
        "id": "LLDu60i1EJiP",
        "tags": []
      },
      "source": [
        "**Proszę:**\n",
        "\n",
        "* zdefiniować sieć w pełni połączoną: `model_fc` która może generować obrazy okręgów.\n",
        "* sieć powinna mieć odpowiednie kształty wejścia i wyjścia\n",
        "* wystarczy by sieć miałą trzy warstwy ukryte\n",
        "* wartości wyjściowych pikseli powinny się zawierać w zakresie `[0,1]`\n",
        "* wypisać na ekran podsumowanie modelu"
      ]
    },
    {
      "cell_type": "code",
      "execution_count": 41,
      "metadata": {
        "colab": {
          "base_uri": "https://localhost:8080/",
          "height": 257
        },
        "editable": true,
        "id": "hxg5tJTlEJiP",
        "outputId": "594016a6-fc19-4b6e-8893-011b3b7cf636",
        "tags": []
      },
      "outputs": [
        {
          "data": {
            "text/html": [
              "<pre style=\"white-space:pre;overflow-x:auto;line-height:normal;font-family:Menlo,'DejaVu Sans Mono',consolas,'Courier New',monospace\"><span style=\"font-weight: bold\">Model: \"sequential_7\"</span>\n",
              "</pre>\n"
            ],
            "text/plain": [
              "\u001b[1mModel: \"sequential_7\"\u001b[0m\n"
            ]
          },
          "metadata": {},
          "output_type": "display_data"
        },
        {
          "data": {
            "text/html": [
              "<pre style=\"white-space:pre;overflow-x:auto;line-height:normal;font-family:Menlo,'DejaVu Sans Mono',consolas,'Courier New',monospace\">┏━━━━━━━━━━━━━━━━━━━━━━━━━━━━━━━━━┳━━━━━━━━━━━━━━━━━━━━━━━━┳━━━━━━━━━━━━━━━┓\n",
              "┃<span style=\"font-weight: bold\"> Layer (type)                    </span>┃<span style=\"font-weight: bold\"> Output Shape           </span>┃<span style=\"font-weight: bold\">       Param # </span>┃\n",
              "┡━━━━━━━━━━━━━━━━━━━━━━━━━━━━━━━━━╇━━━━━━━━━━━━━━━━━━━━━━━━╇━━━━━━━━━━━━━━━┩\n",
              "│ dense_18 (<span style=\"color: #0087ff; text-decoration-color: #0087ff\">Dense</span>)                │ (<span style=\"color: #00d7ff; text-decoration-color: #00d7ff\">None</span>, <span style=\"color: #00af00; text-decoration-color: #00af00\">16</span>)             │            <span style=\"color: #00af00; text-decoration-color: #00af00\">64</span> │\n",
              "├─────────────────────────────────┼────────────────────────┼───────────────┤\n",
              "│ dense_19 (<span style=\"color: #0087ff; text-decoration-color: #0087ff\">Dense</span>)                │ (<span style=\"color: #00d7ff; text-decoration-color: #00d7ff\">None</span>, <span style=\"color: #00af00; text-decoration-color: #00af00\">128</span>)            │         <span style=\"color: #00af00; text-decoration-color: #00af00\">2,176</span> │\n",
              "├─────────────────────────────────┼────────────────────────┼───────────────┤\n",
              "│ dense_20 (<span style=\"color: #0087ff; text-decoration-color: #0087ff\">Dense</span>)                │ (<span style=\"color: #00d7ff; text-decoration-color: #00d7ff\">None</span>, <span style=\"color: #00af00; text-decoration-color: #00af00\">256</span>)            │        <span style=\"color: #00af00; text-decoration-color: #00af00\">33,024</span> │\n",
              "├─────────────────────────────────┼────────────────────────┼───────────────┤\n",
              "│ reshape_8 (<span style=\"color: #0087ff; text-decoration-color: #0087ff\">Reshape</span>)             │ (<span style=\"color: #00d7ff; text-decoration-color: #00d7ff\">None</span>, <span style=\"color: #00af00; text-decoration-color: #00af00\">16</span>, <span style=\"color: #00af00; text-decoration-color: #00af00\">16</span>, <span style=\"color: #00af00; text-decoration-color: #00af00\">1</span>)      │             <span style=\"color: #00af00; text-decoration-color: #00af00\">0</span> │\n",
              "└─────────────────────────────────┴────────────────────────┴───────────────┘\n",
              "</pre>\n"
            ],
            "text/plain": [
              "┏━━━━━━━━━━━━━━━━━━━━━━━━━━━━━━━━━┳━━━━━━━━━━━━━━━━━━━━━━━━┳━━━━━━━━━━━━━━━┓\n",
              "┃\u001b[1m \u001b[0m\u001b[1mLayer (type)                   \u001b[0m\u001b[1m \u001b[0m┃\u001b[1m \u001b[0m\u001b[1mOutput Shape          \u001b[0m\u001b[1m \u001b[0m┃\u001b[1m \u001b[0m\u001b[1m      Param #\u001b[0m\u001b[1m \u001b[0m┃\n",
              "┡━━━━━━━━━━━━━━━━━━━━━━━━━━━━━━━━━╇━━━━━━━━━━━━━━━━━━━━━━━━╇━━━━━━━━━━━━━━━┩\n",
              "│ dense_18 (\u001b[38;5;33mDense\u001b[0m)                │ (\u001b[38;5;45mNone\u001b[0m, \u001b[38;5;34m16\u001b[0m)             │            \u001b[38;5;34m64\u001b[0m │\n",
              "├─────────────────────────────────┼────────────────────────┼───────────────┤\n",
              "│ dense_19 (\u001b[38;5;33mDense\u001b[0m)                │ (\u001b[38;5;45mNone\u001b[0m, \u001b[38;5;34m128\u001b[0m)            │         \u001b[38;5;34m2,176\u001b[0m │\n",
              "├─────────────────────────────────┼────────────────────────┼───────────────┤\n",
              "│ dense_20 (\u001b[38;5;33mDense\u001b[0m)                │ (\u001b[38;5;45mNone\u001b[0m, \u001b[38;5;34m256\u001b[0m)            │        \u001b[38;5;34m33,024\u001b[0m │\n",
              "├─────────────────────────────────┼────────────────────────┼───────────────┤\n",
              "│ reshape_8 (\u001b[38;5;33mReshape\u001b[0m)             │ (\u001b[38;5;45mNone\u001b[0m, \u001b[38;5;34m16\u001b[0m, \u001b[38;5;34m16\u001b[0m, \u001b[38;5;34m1\u001b[0m)      │             \u001b[38;5;34m0\u001b[0m │\n",
              "└─────────────────────────────────┴────────────────────────┴───────────────┘\n"
            ]
          },
          "metadata": {},
          "output_type": "display_data"
        },
        {
          "data": {
            "text/html": [
              "<pre style=\"white-space:pre;overflow-x:auto;line-height:normal;font-family:Menlo,'DejaVu Sans Mono',consolas,'Courier New',monospace\"><span style=\"font-weight: bold\"> Total params: </span><span style=\"color: #00af00; text-decoration-color: #00af00\">35,264</span> (137.75 KB)\n",
              "</pre>\n"
            ],
            "text/plain": [
              "\u001b[1m Total params: \u001b[0m\u001b[38;5;34m35,264\u001b[0m (137.75 KB)\n"
            ]
          },
          "metadata": {},
          "output_type": "display_data"
        },
        {
          "data": {
            "text/html": [
              "<pre style=\"white-space:pre;overflow-x:auto;line-height:normal;font-family:Menlo,'DejaVu Sans Mono',consolas,'Courier New',monospace\"><span style=\"font-weight: bold\"> Trainable params: </span><span style=\"color: #00af00; text-decoration-color: #00af00\">35,264</span> (137.75 KB)\n",
              "</pre>\n"
            ],
            "text/plain": [
              "\u001b[1m Trainable params: \u001b[0m\u001b[38;5;34m35,264\u001b[0m (137.75 KB)\n"
            ]
          },
          "metadata": {},
          "output_type": "display_data"
        },
        {
          "data": {
            "text/html": [
              "<pre style=\"white-space:pre;overflow-x:auto;line-height:normal;font-family:Menlo,'DejaVu Sans Mono',consolas,'Courier New',monospace\"><span style=\"font-weight: bold\"> Non-trainable params: </span><span style=\"color: #00af00; text-decoration-color: #00af00\">0</span> (0.00 B)\n",
              "</pre>\n"
            ],
            "text/plain": [
              "\u001b[1m Non-trainable params: \u001b[0m\u001b[38;5;34m0\u001b[0m (0.00 B)\n"
            ]
          },
          "metadata": {},
          "output_type": "display_data"
        }
      ],
      "source": [
        "bias = tf.keras.initializers.RandomUniform(minval = -1, maxval = 1)\n",
        "model_fc = tf.keras.models.Sequential([\n",
        "    tf.keras.Input(shape=(3,)),\n",
        "    tf.keras.layers.Dense(16, activation='relu', input_shape=(3,), kernel_initializer='HeNormal', bias_initializer=bias),  # Warstwa wejściowa (3 cechy: x, y, R)\n",
        "    tf.keras.layers.Dense(128, activation='relu', kernel_initializer='HeNormal', bias_initializer=bias),  # Pierwsza warstwa ukryta\n",
        "    tf.keras.layers.Dense(256, activation='sigmoid', kernel_initializer=\"HeNormal\", bias_initializer = bias), # Druga warstwa ukryta\n",
        "    # tf.keras.layers.Dense(res * res, activation='sigmoid'),  # Warstwa wyjściowa (res*res pikseli)\n",
        "    tf.keras.layers.Reshape((res, res, 1))  # Zmiana kształtu na (res, res, 1)\n",
        "])\n",
        "\n",
        "# Wypisanie podsumowania modelu\n",
        "model_fc.summary()"
      ]
    },
    {
      "cell_type": "markdown",
      "metadata": {
        "editable": true,
        "id": "hhsKeukmEJiP",
        "tags": []
      },
      "source": [
        "**Proszę:**\n",
        "* zdefiniować sieć `model_cnn` z transponowanymi warstwami splotowymi: `model_cnn` która realizuje to samo zadanie co sieć z poprzedniej komórki\n",
        "* wypisać na ekran podsumowanie modelu\n",
        "\n",
        "**Wskazówka:** w przypadku sieci splotowej można użyć jednej warstwy gęstej do zwiększenia rozmiaru początkowego obrazu:\n",
        "```Python\n",
        "\n",
        "  tf.keras.layers.Dense(4, activation='relu',\n",
        "                        bias_initializer=tf.keras.initializers.RandomUniform(minval=-1, maxval=1),\n",
        "                        kernel_initializer=\"HeNormal\"),\n",
        "  tf.keras.layers.Reshape((2,2,1)),\n",
        "```"
      ]
    },
    {
      "cell_type": "code",
      "execution_count": 39,
      "metadata": {
        "colab": {
          "base_uri": "https://localhost:8080/",
          "height": 369
        },
        "editable": true,
        "id": "MBnmf8GJEJiP",
        "outputId": "454182ae-b65d-4bf2-b893-95c86e45bfb0",
        "tags": []
      },
      "outputs": [
        {
          "data": {
            "text/html": [
              "<pre style=\"white-space:pre;overflow-x:auto;line-height:normal;font-family:Menlo,'DejaVu Sans Mono',consolas,'Courier New',monospace\"><span style=\"font-weight: bold\">Model: \"sequential_5\"</span>\n",
              "</pre>\n"
            ],
            "text/plain": [
              "\u001b[1mModel: \"sequential_5\"\u001b[0m\n"
            ]
          },
          "metadata": {},
          "output_type": "display_data"
        },
        {
          "data": {
            "text/html": [
              "<pre style=\"white-space:pre;overflow-x:auto;line-height:normal;font-family:Menlo,'DejaVu Sans Mono',consolas,'Courier New',monospace\">┏━━━━━━━━━━━━━━━━━━━━━━━━━━━━━━━━━┳━━━━━━━━━━━━━━━━━━━━━━━━┳━━━━━━━━━━━━━━━┓\n",
              "┃<span style=\"font-weight: bold\"> Layer (type)                    </span>┃<span style=\"font-weight: bold\"> Output Shape           </span>┃<span style=\"font-weight: bold\">       Param # </span>┃\n",
              "┡━━━━━━━━━━━━━━━━━━━━━━━━━━━━━━━━━╇━━━━━━━━━━━━━━━━━━━━━━━━╇━━━━━━━━━━━━━━━┩\n",
              "│ dense_14 (<span style=\"color: #0087ff; text-decoration-color: #0087ff\">Dense</span>)                │ (<span style=\"color: #00d7ff; text-decoration-color: #00d7ff\">None</span>, <span style=\"color: #00af00; text-decoration-color: #00af00\">4</span>)              │            <span style=\"color: #00af00; text-decoration-color: #00af00\">16</span> │\n",
              "├─────────────────────────────────┼────────────────────────┼───────────────┤\n",
              "│ reshape_6 (<span style=\"color: #0087ff; text-decoration-color: #0087ff\">Reshape</span>)             │ (<span style=\"color: #00d7ff; text-decoration-color: #00d7ff\">None</span>, <span style=\"color: #00af00; text-decoration-color: #00af00\">2</span>, <span style=\"color: #00af00; text-decoration-color: #00af00\">2</span>, <span style=\"color: #00af00; text-decoration-color: #00af00\">1</span>)        │             <span style=\"color: #00af00; text-decoration-color: #00af00\">0</span> │\n",
              "├─────────────────────────────────┼────────────────────────┼───────────────┤\n",
              "│ conv2d_transpose_22             │ (<span style=\"color: #00d7ff; text-decoration-color: #00d7ff\">None</span>, <span style=\"color: #00af00; text-decoration-color: #00af00\">4</span>, <span style=\"color: #00af00; text-decoration-color: #00af00\">4</span>, <span style=\"color: #00af00; text-decoration-color: #00af00\">64</span>)       │         <span style=\"color: #00af00; text-decoration-color: #00af00\">1,088</span> │\n",
              "│ (<span style=\"color: #0087ff; text-decoration-color: #0087ff\">Conv2DTranspose</span>)               │                        │               │\n",
              "├─────────────────────────────────┼────────────────────────┼───────────────┤\n",
              "│ conv2d_transpose_23             │ (<span style=\"color: #00d7ff; text-decoration-color: #00d7ff\">None</span>, <span style=\"color: #00af00; text-decoration-color: #00af00\">8</span>, <span style=\"color: #00af00; text-decoration-color: #00af00\">8</span>, <span style=\"color: #00af00; text-decoration-color: #00af00\">32</span>)       │        <span style=\"color: #00af00; text-decoration-color: #00af00\">18,464</span> │\n",
              "│ (<span style=\"color: #0087ff; text-decoration-color: #0087ff\">Conv2DTranspose</span>)               │                        │               │\n",
              "├─────────────────────────────────┼────────────────────────┼───────────────┤\n",
              "│ conv2d_transpose_24             │ (<span style=\"color: #00d7ff; text-decoration-color: #00d7ff\">None</span>, <span style=\"color: #00af00; text-decoration-color: #00af00\">16</span>, <span style=\"color: #00af00; text-decoration-color: #00af00\">16</span>, <span style=\"color: #00af00; text-decoration-color: #00af00\">32</span>)     │         <span style=\"color: #00af00; text-decoration-color: #00af00\">9,248</span> │\n",
              "│ (<span style=\"color: #0087ff; text-decoration-color: #0087ff\">Conv2DTranspose</span>)               │                        │               │\n",
              "├─────────────────────────────────┼────────────────────────┼───────────────┤\n",
              "│ conv2d_1 (<span style=\"color: #0087ff; text-decoration-color: #0087ff\">Conv2D</span>)               │ (<span style=\"color: #00d7ff; text-decoration-color: #00d7ff\">None</span>, <span style=\"color: #00af00; text-decoration-color: #00af00\">16</span>, <span style=\"color: #00af00; text-decoration-color: #00af00\">16</span>, <span style=\"color: #00af00; text-decoration-color: #00af00\">1</span>)      │            <span style=\"color: #00af00; text-decoration-color: #00af00\">33</span> │\n",
              "└─────────────────────────────────┴────────────────────────┴───────────────┘\n",
              "</pre>\n"
            ],
            "text/plain": [
              "┏━━━━━━━━━━━━━━━━━━━━━━━━━━━━━━━━━┳━━━━━━━━━━━━━━━━━━━━━━━━┳━━━━━━━━━━━━━━━┓\n",
              "┃\u001b[1m \u001b[0m\u001b[1mLayer (type)                   \u001b[0m\u001b[1m \u001b[0m┃\u001b[1m \u001b[0m\u001b[1mOutput Shape          \u001b[0m\u001b[1m \u001b[0m┃\u001b[1m \u001b[0m\u001b[1m      Param #\u001b[0m\u001b[1m \u001b[0m┃\n",
              "┡━━━━━━━━━━━━━━━━━━━━━━━━━━━━━━━━━╇━━━━━━━━━━━━━━━━━━━━━━━━╇━━━━━━━━━━━━━━━┩\n",
              "│ dense_14 (\u001b[38;5;33mDense\u001b[0m)                │ (\u001b[38;5;45mNone\u001b[0m, \u001b[38;5;34m4\u001b[0m)              │            \u001b[38;5;34m16\u001b[0m │\n",
              "├─────────────────────────────────┼────────────────────────┼───────────────┤\n",
              "│ reshape_6 (\u001b[38;5;33mReshape\u001b[0m)             │ (\u001b[38;5;45mNone\u001b[0m, \u001b[38;5;34m2\u001b[0m, \u001b[38;5;34m2\u001b[0m, \u001b[38;5;34m1\u001b[0m)        │             \u001b[38;5;34m0\u001b[0m │\n",
              "├─────────────────────────────────┼────────────────────────┼───────────────┤\n",
              "│ conv2d_transpose_22             │ (\u001b[38;5;45mNone\u001b[0m, \u001b[38;5;34m4\u001b[0m, \u001b[38;5;34m4\u001b[0m, \u001b[38;5;34m64\u001b[0m)       │         \u001b[38;5;34m1,088\u001b[0m │\n",
              "│ (\u001b[38;5;33mConv2DTranspose\u001b[0m)               │                        │               │\n",
              "├─────────────────────────────────┼────────────────────────┼───────────────┤\n",
              "│ conv2d_transpose_23             │ (\u001b[38;5;45mNone\u001b[0m, \u001b[38;5;34m8\u001b[0m, \u001b[38;5;34m8\u001b[0m, \u001b[38;5;34m32\u001b[0m)       │        \u001b[38;5;34m18,464\u001b[0m │\n",
              "│ (\u001b[38;5;33mConv2DTranspose\u001b[0m)               │                        │               │\n",
              "├─────────────────────────────────┼────────────────────────┼───────────────┤\n",
              "│ conv2d_transpose_24             │ (\u001b[38;5;45mNone\u001b[0m, \u001b[38;5;34m16\u001b[0m, \u001b[38;5;34m16\u001b[0m, \u001b[38;5;34m32\u001b[0m)     │         \u001b[38;5;34m9,248\u001b[0m │\n",
              "│ (\u001b[38;5;33mConv2DTranspose\u001b[0m)               │                        │               │\n",
              "├─────────────────────────────────┼────────────────────────┼───────────────┤\n",
              "│ conv2d_1 (\u001b[38;5;33mConv2D\u001b[0m)               │ (\u001b[38;5;45mNone\u001b[0m, \u001b[38;5;34m16\u001b[0m, \u001b[38;5;34m16\u001b[0m, \u001b[38;5;34m1\u001b[0m)      │            \u001b[38;5;34m33\u001b[0m │\n",
              "└─────────────────────────────────┴────────────────────────┴───────────────┘\n"
            ]
          },
          "metadata": {},
          "output_type": "display_data"
        },
        {
          "data": {
            "text/html": [
              "<pre style=\"white-space:pre;overflow-x:auto;line-height:normal;font-family:Menlo,'DejaVu Sans Mono',consolas,'Courier New',monospace\"><span style=\"font-weight: bold\"> Total params: </span><span style=\"color: #00af00; text-decoration-color: #00af00\">28,849</span> (112.69 KB)\n",
              "</pre>\n"
            ],
            "text/plain": [
              "\u001b[1m Total params: \u001b[0m\u001b[38;5;34m28,849\u001b[0m (112.69 KB)\n"
            ]
          },
          "metadata": {},
          "output_type": "display_data"
        },
        {
          "data": {
            "text/html": [
              "<pre style=\"white-space:pre;overflow-x:auto;line-height:normal;font-family:Menlo,'DejaVu Sans Mono',consolas,'Courier New',monospace\"><span style=\"font-weight: bold\"> Trainable params: </span><span style=\"color: #00af00; text-decoration-color: #00af00\">28,849</span> (112.69 KB)\n",
              "</pre>\n"
            ],
            "text/plain": [
              "\u001b[1m Trainable params: \u001b[0m\u001b[38;5;34m28,849\u001b[0m (112.69 KB)\n"
            ]
          },
          "metadata": {},
          "output_type": "display_data"
        },
        {
          "data": {
            "text/html": [
              "<pre style=\"white-space:pre;overflow-x:auto;line-height:normal;font-family:Menlo,'DejaVu Sans Mono',consolas,'Courier New',monospace\"><span style=\"font-weight: bold\"> Non-trainable params: </span><span style=\"color: #00af00; text-decoration-color: #00af00\">0</span> (0.00 B)\n",
              "</pre>\n"
            ],
            "text/plain": [
              "\u001b[1m Non-trainable params: \u001b[0m\u001b[38;5;34m0\u001b[0m (0.00 B)\n"
            ]
          },
          "metadata": {},
          "output_type": "display_data"
        }
      ],
      "source": [
        "model_cnn = tf.keras.models.Sequential([\n",
        "  tf.keras.Input(shape=(3,)),\n",
        "  tf.keras.layers.Dense(4, activation='relu',\n",
        "                        bias_initializer=tf.keras.initializers.RandomUniform(minval=-1, maxval=1),\n",
        "                        kernel_initializer=\"HeNormal\"),\n",
        "  tf.keras.layers.Reshape((2,2,1)),\n",
        "  tf.keras.layers.Conv2DTranspose(filters=64, kernel_size=4, strides=2, padding='same', activation='relu'),\n",
        "  tf.keras.layers.Conv2DTranspose(filters=32, kernel_size=3, strides=2, padding='same', activation='relu'),\n",
        "  tf.keras.layers.Conv2DTranspose(filters=32, kernel_size=3, strides=2, padding='same', activation='relu'),\n",
        "  tf.keras.layers.Conv2D(filters=1, kernel_size=1, strides=1, padding='same', activation='sigmoid', kernel_initializer='HeNormal')\n",
        "])\n",
        "\n",
        "# Wypisanie podsumowania modelu\n",
        "model_cnn.summary()"
      ]
    },
    {
      "cell_type": "markdown",
      "metadata": {
        "editable": true,
        "id": "-vRG2t_2EJiQ",
        "tags": []
      },
      "source": [
        "**Proszę:**\n",
        "\n",
        "* przeprowadzić trening sieci `model_fc` na `500` epokach z rozmiarem paczki ustawionym na `32`\n",
        "* narysować zmianę funkcji straty w funkcji numeru epoki na zbiorze treningowym i walidacyjnym\n",
        "* jako zbioru walidacyjnego użyć `10%` zbioru podanego jako treningowy\n",
        "* kod trenujący powinien być zawarty w funkcji `trainModel(model, nEpochs)` i zawierać:\n",
        "    * harmonogram zmiany współczynnika uczenia\n",
        "    * wywołanie wczesnego zatrzymania (sprawdzić wyniki bez zatrzymania)\n",
        "    * rysowane historii funkcji straty\n",
        "    * jako funkcji straty proszę użyć entropii krzyżowej: `binary_crossentropy` - każdy z pikseli należy do jednej z dwu klas: `biały/czarny`\n",
        "* wypisać na ekran wartość funkcji straty wytrenowanego modelu na zbiorze treningowym"
      ]
    },
    {
      "cell_type": "code",
      "execution_count": 42,
      "metadata": {
        "colab": {
          "base_uri": "https://localhost:8080/",
          "height": 1000
        },
        "editable": true,
        "id": "ps33J5kXEJiQ",
        "outputId": "acf4cd56-3e16-48c7-b1e2-8f52f416c85b",
        "tags": []
      },
      "outputs": [
        {
          "name": "stdout",
          "output_type": "stream",
          "text": [
            "Epoch 1/500\n",
            "\u001b[1m29/29\u001b[0m \u001b[32m━━━━━━━━━━━━━━━━━━━━\u001b[0m\u001b[37m\u001b[0m \u001b[1m2s\u001b[0m 31ms/step - loss: 3.5441 - val_loss: 1.0381\n",
            "Epoch 2/500\n",
            "\u001b[1m29/29\u001b[0m \u001b[32m━━━━━━━━━━━━━━━━━━━━\u001b[0m\u001b[37m\u001b[0m \u001b[1m0s\u001b[0m 4ms/step - loss: 0.8682 - val_loss: 0.6169\n",
            "Epoch 3/500\n",
            "\u001b[1m29/29\u001b[0m \u001b[32m━━━━━━━━━━━━━━━━━━━━\u001b[0m\u001b[37m\u001b[0m \u001b[1m0s\u001b[0m 5ms/step - loss: 0.5756 - val_loss: 0.4697\n",
            "Epoch 4/500\n",
            "\u001b[1m29/29\u001b[0m \u001b[32m━━━━━━━━━━━━━━━━━━━━\u001b[0m\u001b[37m\u001b[0m \u001b[1m0s\u001b[0m 5ms/step - loss: 0.4442 - val_loss: 0.4091\n",
            "Epoch 5/500\n",
            "\u001b[1m29/29\u001b[0m \u001b[32m━━━━━━━━━━━━━━━━━━━━\u001b[0m\u001b[37m\u001b[0m \u001b[1m0s\u001b[0m 4ms/step - loss: 0.3921 - val_loss: 0.3821\n",
            "Epoch 6/500\n",
            "\u001b[1m29/29\u001b[0m \u001b[32m━━━━━━━━━━━━━━━━━━━━\u001b[0m\u001b[37m\u001b[0m \u001b[1m0s\u001b[0m 4ms/step - loss: 0.3733 - val_loss: 0.3649\n",
            "Epoch 7/500\n",
            "\u001b[1m29/29\u001b[0m \u001b[32m━━━━━━━━━━━━━━━━━━━━\u001b[0m\u001b[37m\u001b[0m \u001b[1m0s\u001b[0m 4ms/step - loss: 0.3327 - val_loss: 0.3522\n",
            "Epoch 8/500\n",
            "\u001b[1m29/29\u001b[0m \u001b[32m━━━━━━━━━━━━━━━━━━━━\u001b[0m\u001b[37m\u001b[0m \u001b[1m0s\u001b[0m 4ms/step - loss: 0.3399 - val_loss: 0.3495\n",
            "Epoch 9/500\n",
            "\u001b[1m29/29\u001b[0m \u001b[32m━━━━━━━━━━━━━━━━━━━━\u001b[0m\u001b[37m\u001b[0m \u001b[1m0s\u001b[0m 4ms/step - loss: 0.3276 - val_loss: 0.3449\n",
            "Epoch 10/500\n",
            "\u001b[1m29/29\u001b[0m \u001b[32m━━━━━━━━━━━━━━━━━━━━\u001b[0m\u001b[37m\u001b[0m \u001b[1m0s\u001b[0m 4ms/step - loss: 0.3160 - val_loss: 0.3342\n",
            "Epoch 11/500\n",
            "\u001b[1m29/29\u001b[0m \u001b[32m━━━━━━━━━━━━━━━━━━━━\u001b[0m\u001b[37m\u001b[0m \u001b[1m0s\u001b[0m 7ms/step - loss: 0.3089 - val_loss: 0.3325\n",
            "Epoch 12/500\n",
            "\u001b[1m29/29\u001b[0m \u001b[32m━━━━━━━━━━━━━━━━━━━━\u001b[0m\u001b[37m\u001b[0m \u001b[1m0s\u001b[0m 6ms/step - loss: 0.3159 - val_loss: 0.3268\n",
            "Epoch 13/500\n",
            "\u001b[1m29/29\u001b[0m \u001b[32m━━━━━━━━━━━━━━━━━━━━\u001b[0m\u001b[37m\u001b[0m \u001b[1m0s\u001b[0m 7ms/step - loss: 0.2971 - val_loss: 0.3242\n",
            "Epoch 14/500\n",
            "\u001b[1m29/29\u001b[0m \u001b[32m━━━━━━━━━━━━━━━━━━━━\u001b[0m\u001b[37m\u001b[0m \u001b[1m0s\u001b[0m 5ms/step - loss: 0.2984 - val_loss: 0.3204\n",
            "Epoch 15/500\n",
            "\u001b[1m29/29\u001b[0m \u001b[32m━━━━━━━━━━━━━━━━━━━━\u001b[0m\u001b[37m\u001b[0m \u001b[1m0s\u001b[0m 6ms/step - loss: 0.2950 - val_loss: 0.3186\n",
            "Epoch 16/500\n",
            "\u001b[1m29/29\u001b[0m \u001b[32m━━━━━━━━━━━━━━━━━━━━\u001b[0m\u001b[37m\u001b[0m \u001b[1m0s\u001b[0m 7ms/step - loss: 0.2916 - val_loss: 0.3148\n",
            "Epoch 17/500\n",
            "\u001b[1m29/29\u001b[0m \u001b[32m━━━━━━━━━━━━━━━━━━━━\u001b[0m\u001b[37m\u001b[0m \u001b[1m0s\u001b[0m 7ms/step - loss: 0.2832 - val_loss: 0.3115\n",
            "Epoch 18/500\n",
            "\u001b[1m29/29\u001b[0m \u001b[32m━━━━━━━━━━━━━━━━━━━━\u001b[0m\u001b[37m\u001b[0m \u001b[1m0s\u001b[0m 4ms/step - loss: 0.2791 - val_loss: 0.3105\n",
            "Epoch 19/500\n",
            "\u001b[1m29/29\u001b[0m \u001b[32m━━━━━━━━━━━━━━━━━━━━\u001b[0m\u001b[37m\u001b[0m \u001b[1m0s\u001b[0m 5ms/step - loss: 0.2908 - val_loss: 0.3083\n",
            "Epoch 20/500\n",
            "\u001b[1m29/29\u001b[0m \u001b[32m━━━━━━━━━━━━━━━━━━━━\u001b[0m\u001b[37m\u001b[0m \u001b[1m0s\u001b[0m 4ms/step - loss: 0.2744 - val_loss: 0.3070\n",
            "Epoch 21/500\n",
            "\u001b[1m29/29\u001b[0m \u001b[32m━━━━━━━━━━━━━━━━━━━━\u001b[0m\u001b[37m\u001b[0m \u001b[1m0s\u001b[0m 4ms/step - loss: 0.2744 - val_loss: 0.3056\n",
            "Epoch 22/500\n",
            "\u001b[1m29/29\u001b[0m \u001b[32m━━━━━━━━━━━━━━━━━━━━\u001b[0m\u001b[37m\u001b[0m \u001b[1m0s\u001b[0m 4ms/step - loss: 0.2708 - val_loss: 0.3063\n",
            "Epoch 23/500\n",
            "\u001b[1m29/29\u001b[0m \u001b[32m━━━━━━━━━━━━━━━━━━━━\u001b[0m\u001b[37m\u001b[0m \u001b[1m0s\u001b[0m 4ms/step - loss: 0.2683 - val_loss: 0.3017\n",
            "Epoch 24/500\n",
            "\u001b[1m29/29\u001b[0m \u001b[32m━━━━━━━━━━━━━━━━━━━━\u001b[0m\u001b[37m\u001b[0m \u001b[1m0s\u001b[0m 4ms/step - loss: 0.2659 - val_loss: 0.2982\n",
            "Epoch 25/500\n",
            "\u001b[1m29/29\u001b[0m \u001b[32m━━━━━━━━━━━━━━━━━━━━\u001b[0m\u001b[37m\u001b[0m \u001b[1m0s\u001b[0m 4ms/step - loss: 0.2667 - val_loss: 0.2961\n",
            "Epoch 26/500\n",
            "\u001b[1m29/29\u001b[0m \u001b[32m━━━━━━━━━━━━━━━━━━━━\u001b[0m\u001b[37m\u001b[0m \u001b[1m0s\u001b[0m 4ms/step - loss: 0.2562 - val_loss: 0.2970\n",
            "Epoch 27/500\n",
            "\u001b[1m29/29\u001b[0m \u001b[32m━━━━━━━━━━━━━━━━━━━━\u001b[0m\u001b[37m\u001b[0m \u001b[1m0s\u001b[0m 5ms/step - loss: 0.2659 - val_loss: 0.2939\n",
            "Epoch 28/500\n",
            "\u001b[1m29/29\u001b[0m \u001b[32m━━━━━━━━━━━━━━━━━━━━\u001b[0m\u001b[37m\u001b[0m \u001b[1m0s\u001b[0m 4ms/step - loss: 0.2701 - val_loss: 0.2902\n",
            "Epoch 29/500\n",
            "\u001b[1m29/29\u001b[0m \u001b[32m━━━━━━━━━━━━━━━━━━━━\u001b[0m\u001b[37m\u001b[0m \u001b[1m0s\u001b[0m 4ms/step - loss: 0.2681 - val_loss: 0.2928\n",
            "Epoch 30/500\n",
            "\u001b[1m29/29\u001b[0m \u001b[32m━━━━━━━━━━━━━━━━━━━━\u001b[0m\u001b[37m\u001b[0m \u001b[1m0s\u001b[0m 4ms/step - loss: 0.2685 - val_loss: 0.2908\n",
            "Epoch 31/500\n",
            "\u001b[1m29/29\u001b[0m \u001b[32m━━━━━━━━━━━━━━━━━━━━\u001b[0m\u001b[37m\u001b[0m \u001b[1m0s\u001b[0m 4ms/step - loss: 0.2621 - val_loss: 0.2864\n",
            "Epoch 32/500\n",
            "\u001b[1m29/29\u001b[0m \u001b[32m━━━━━━━━━━━━━━━━━━━━\u001b[0m\u001b[37m\u001b[0m \u001b[1m0s\u001b[0m 4ms/step - loss: 0.2491 - val_loss: 0.2886\n",
            "Epoch 33/500\n",
            "\u001b[1m29/29\u001b[0m \u001b[32m━━━━━━━━━━━━━━━━━━━━\u001b[0m\u001b[37m\u001b[0m \u001b[1m0s\u001b[0m 4ms/step - loss: 0.2604 - val_loss: 0.2854\n",
            "Epoch 34/500\n",
            "\u001b[1m29/29\u001b[0m \u001b[32m━━━━━━━━━━━━━━━━━━━━\u001b[0m\u001b[37m\u001b[0m \u001b[1m0s\u001b[0m 4ms/step - loss: 0.2476 - val_loss: 0.2802\n",
            "Epoch 35/500\n",
            "\u001b[1m29/29\u001b[0m \u001b[32m━━━━━━━━━━━━━━━━━━━━\u001b[0m\u001b[37m\u001b[0m \u001b[1m0s\u001b[0m 5ms/step - loss: 0.2442 - val_loss: 0.2801\n",
            "Epoch 36/500\n",
            "\u001b[1m29/29\u001b[0m \u001b[32m━━━━━━━━━━━━━━━━━━━━\u001b[0m\u001b[37m\u001b[0m \u001b[1m0s\u001b[0m 4ms/step - loss: 0.2400 - val_loss: 0.2790\n",
            "Epoch 37/500\n",
            "\u001b[1m29/29\u001b[0m \u001b[32m━━━━━━━━━━━━━━━━━━━━\u001b[0m\u001b[37m\u001b[0m \u001b[1m0s\u001b[0m 4ms/step - loss: 0.2408 - val_loss: 0.2779\n",
            "Epoch 38/500\n",
            "\u001b[1m29/29\u001b[0m \u001b[32m━━━━━━━━━━━━━━━━━━━━\u001b[0m\u001b[37m\u001b[0m \u001b[1m0s\u001b[0m 4ms/step - loss: 0.2547 - val_loss: 0.2756\n",
            "Epoch 39/500\n",
            "\u001b[1m29/29\u001b[0m \u001b[32m━━━━━━━━━━━━━━━━━━━━\u001b[0m\u001b[37m\u001b[0m \u001b[1m0s\u001b[0m 5ms/step - loss: 0.2396 - val_loss: 0.2766\n",
            "Epoch 40/500\n",
            "\u001b[1m29/29\u001b[0m \u001b[32m━━━━━━━━━━━━━━━━━━━━\u001b[0m\u001b[37m\u001b[0m \u001b[1m0s\u001b[0m 4ms/step - loss: 0.2379 - val_loss: 0.2741\n",
            "Epoch 41/500\n",
            "\u001b[1m29/29\u001b[0m \u001b[32m━━━━━━━━━━━━━━━━━━━━\u001b[0m\u001b[37m\u001b[0m \u001b[1m0s\u001b[0m 6ms/step - loss: 0.2376 - val_loss: 0.2736\n",
            "Epoch 42/500\n",
            "\u001b[1m29/29\u001b[0m \u001b[32m━━━━━━━━━━━━━━━━━━━━\u001b[0m\u001b[37m\u001b[0m \u001b[1m0s\u001b[0m 4ms/step - loss: 0.2392 - val_loss: 0.2739\n",
            "Epoch 43/500\n",
            "\u001b[1m29/29\u001b[0m \u001b[32m━━━━━━━━━━━━━━━━━━━━\u001b[0m\u001b[37m\u001b[0m \u001b[1m0s\u001b[0m 4ms/step - loss: 0.2356 - val_loss: 0.2733\n",
            "Epoch 44/500\n",
            "\u001b[1m29/29\u001b[0m \u001b[32m━━━━━━━━━━━━━━━━━━━━\u001b[0m\u001b[37m\u001b[0m \u001b[1m0s\u001b[0m 4ms/step - loss: 0.2464 - val_loss: 0.2686\n",
            "Epoch 45/500\n",
            "\u001b[1m29/29\u001b[0m \u001b[32m━━━━━━━━━━━━━━━━━━━━\u001b[0m\u001b[37m\u001b[0m \u001b[1m0s\u001b[0m 4ms/step - loss: 0.2290 - val_loss: 0.2686\n",
            "Epoch 46/500\n",
            "\u001b[1m29/29\u001b[0m \u001b[32m━━━━━━━━━━━━━━━━━━━━\u001b[0m\u001b[37m\u001b[0m \u001b[1m0s\u001b[0m 4ms/step - loss: 0.2353 - val_loss: 0.2693\n",
            "Epoch 47/500\n",
            "\u001b[1m29/29\u001b[0m \u001b[32m━━━━━━━━━━━━━━━━━━━━\u001b[0m\u001b[37m\u001b[0m \u001b[1m0s\u001b[0m 5ms/step - loss: 0.2365 - val_loss: 0.2678\n",
            "Epoch 48/500\n",
            "\u001b[1m29/29\u001b[0m \u001b[32m━━━━━━━━━━━━━━━━━━━━\u001b[0m\u001b[37m\u001b[0m \u001b[1m0s\u001b[0m 4ms/step - loss: 0.2312 - val_loss: 0.2633\n",
            "Epoch 49/500\n",
            "\u001b[1m29/29\u001b[0m \u001b[32m━━━━━━━━━━━━━━━━━━━━\u001b[0m\u001b[37m\u001b[0m \u001b[1m0s\u001b[0m 4ms/step - loss: 0.2240 - val_loss: 0.2626\n",
            "Epoch 50/500\n",
            "\u001b[1m29/29\u001b[0m \u001b[32m━━━━━━━━━━━━━━━━━━━━\u001b[0m\u001b[37m\u001b[0m \u001b[1m0s\u001b[0m 5ms/step - loss: 0.2285 - val_loss: 0.2622\n",
            "Epoch 51/500\n",
            "\u001b[1m29/29\u001b[0m \u001b[32m━━━━━━━━━━━━━━━━━━━━\u001b[0m\u001b[37m\u001b[0m \u001b[1m0s\u001b[0m 4ms/step - loss: 0.2322 - val_loss: 0.2606\n",
            "Epoch 52/500\n",
            "\u001b[1m29/29\u001b[0m \u001b[32m━━━━━━━━━━━━━━━━━━━━\u001b[0m\u001b[37m\u001b[0m \u001b[1m0s\u001b[0m 4ms/step - loss: 0.2258 - val_loss: 0.2611\n",
            "Epoch 53/500\n",
            "\u001b[1m29/29\u001b[0m \u001b[32m━━━━━━━━━━━━━━━━━━━━\u001b[0m\u001b[37m\u001b[0m \u001b[1m0s\u001b[0m 4ms/step - loss: 0.2293 - val_loss: 0.2600\n",
            "Epoch 54/500\n",
            "\u001b[1m29/29\u001b[0m \u001b[32m━━━━━━━━━━━━━━━━━━━━\u001b[0m\u001b[37m\u001b[0m \u001b[1m0s\u001b[0m 4ms/step - loss: 0.2290 - val_loss: 0.2572\n",
            "Epoch 55/500\n",
            "\u001b[1m29/29\u001b[0m \u001b[32m━━━━━━━━━━━━━━━━━━━━\u001b[0m\u001b[37m\u001b[0m \u001b[1m0s\u001b[0m 5ms/step - loss: 0.2226 - val_loss: 0.2567\n",
            "Epoch 56/500\n",
            "\u001b[1m29/29\u001b[0m \u001b[32m━━━━━━━━━━━━━━━━━━━━\u001b[0m\u001b[37m\u001b[0m \u001b[1m0s\u001b[0m 4ms/step - loss: 0.2174 - val_loss: 0.2559\n",
            "Epoch 57/500\n",
            "\u001b[1m29/29\u001b[0m \u001b[32m━━━━━━━━━━━━━━━━━━━━\u001b[0m\u001b[37m\u001b[0m \u001b[1m0s\u001b[0m 4ms/step - loss: 0.2325 - val_loss: 0.2569\n",
            "Epoch 58/500\n",
            "\u001b[1m29/29\u001b[0m \u001b[32m━━━━━━━━━━━━━━━━━━━━\u001b[0m\u001b[37m\u001b[0m \u001b[1m0s\u001b[0m 4ms/step - loss: 0.2155 - val_loss: 0.2544\n",
            "Epoch 59/500\n",
            "\u001b[1m29/29\u001b[0m \u001b[32m━━━━━━━━━━━━━━━━━━━━\u001b[0m\u001b[37m\u001b[0m \u001b[1m0s\u001b[0m 4ms/step - loss: 0.2153 - val_loss: 0.2558\n",
            "Epoch 60/500\n",
            "\u001b[1m29/29\u001b[0m \u001b[32m━━━━━━━━━━━━━━━━━━━━\u001b[0m\u001b[37m\u001b[0m \u001b[1m0s\u001b[0m 4ms/step - loss: 0.2259 - val_loss: 0.2537\n",
            "Epoch 61/500\n",
            "\u001b[1m29/29\u001b[0m \u001b[32m━━━━━━━━━━━━━━━━━━━━\u001b[0m\u001b[37m\u001b[0m \u001b[1m0s\u001b[0m 5ms/step - loss: 0.2304 - val_loss: 0.2512\n",
            "Epoch 62/500\n",
            "\u001b[1m29/29\u001b[0m \u001b[32m━━━━━━━━━━━━━━━━━━━━\u001b[0m\u001b[37m\u001b[0m \u001b[1m0s\u001b[0m 4ms/step - loss: 0.2180 - val_loss: 0.2491\n",
            "Epoch 63/500\n",
            "\u001b[1m29/29\u001b[0m \u001b[32m━━━━━━━━━━━━━━━━━━━━\u001b[0m\u001b[37m\u001b[0m \u001b[1m0s\u001b[0m 4ms/step - loss: 0.2243 - val_loss: 0.2496\n",
            "Epoch 64/500\n",
            "\u001b[1m29/29\u001b[0m \u001b[32m━━━━━━━━━━━━━━━━━━━━\u001b[0m\u001b[37m\u001b[0m \u001b[1m0s\u001b[0m 4ms/step - loss: 0.2139 - val_loss: 0.2471\n",
            "Epoch 65/500\n",
            "\u001b[1m29/29\u001b[0m \u001b[32m━━━━━━━━━━━━━━━━━━━━\u001b[0m\u001b[37m\u001b[0m \u001b[1m0s\u001b[0m 6ms/step - loss: 0.2142 - val_loss: 0.2477\n",
            "Epoch 66/500\n",
            "\u001b[1m29/29\u001b[0m \u001b[32m━━━━━━━━━━━━━━━━━━━━\u001b[0m\u001b[37m\u001b[0m \u001b[1m0s\u001b[0m 5ms/step - loss: 0.2133 - val_loss: 0.2486\n",
            "Epoch 67/500\n",
            "\u001b[1m29/29\u001b[0m \u001b[32m━━━━━━━━━━━━━━━━━━━━\u001b[0m\u001b[37m\u001b[0m \u001b[1m0s\u001b[0m 4ms/step - loss: 0.2196 - val_loss: 0.2463\n",
            "Epoch 68/500\n",
            "\u001b[1m29/29\u001b[0m \u001b[32m━━━━━━━━━━━━━━━━━━━━\u001b[0m\u001b[37m\u001b[0m \u001b[1m0s\u001b[0m 4ms/step - loss: 0.2017 - val_loss: 0.2445\n",
            "Epoch 69/500\n",
            "\u001b[1m29/29\u001b[0m \u001b[32m━━━━━━━━━━━━━━━━━━━━\u001b[0m\u001b[37m\u001b[0m \u001b[1m0s\u001b[0m 4ms/step - loss: 0.2086 - val_loss: 0.2445\n",
            "Epoch 70/500\n",
            "\u001b[1m29/29\u001b[0m \u001b[32m━━━━━━━━━━━━━━━━━━━━\u001b[0m\u001b[37m\u001b[0m \u001b[1m0s\u001b[0m 4ms/step - loss: 0.2104 - val_loss: 0.2454\n",
            "Epoch 71/500\n",
            "\u001b[1m29/29\u001b[0m \u001b[32m━━━━━━━━━━━━━━━━━━━━\u001b[0m\u001b[37m\u001b[0m \u001b[1m0s\u001b[0m 4ms/step - loss: 0.2051 - val_loss: 0.2438\n",
            "Epoch 72/500\n",
            "\u001b[1m29/29\u001b[0m \u001b[32m━━━━━━━━━━━━━━━━━━━━\u001b[0m\u001b[37m\u001b[0m \u001b[1m0s\u001b[0m 4ms/step - loss: 0.2089 - val_loss: 0.2422\n",
            "Epoch 73/500\n",
            "\u001b[1m29/29\u001b[0m \u001b[32m━━━━━━━━━━━━━━━━━━━━\u001b[0m\u001b[37m\u001b[0m \u001b[1m0s\u001b[0m 4ms/step - loss: 0.2045 - val_loss: 0.2416\n",
            "Epoch 74/500\n",
            "\u001b[1m29/29\u001b[0m \u001b[32m━━━━━━━━━━━━━━━━━━━━\u001b[0m\u001b[37m\u001b[0m \u001b[1m0s\u001b[0m 4ms/step - loss: 0.2087 - val_loss: 0.2400\n",
            "Epoch 75/500\n",
            "\u001b[1m29/29\u001b[0m \u001b[32m━━━━━━━━━━━━━━━━━━━━\u001b[0m\u001b[37m\u001b[0m \u001b[1m0s\u001b[0m 5ms/step - loss: 0.2042 - val_loss: 0.2409\n",
            "Epoch 76/500\n",
            "\u001b[1m29/29\u001b[0m \u001b[32m━━━━━━━━━━━━━━━━━━━━\u001b[0m\u001b[37m\u001b[0m \u001b[1m0s\u001b[0m 4ms/step - loss: 0.2080 - val_loss: 0.2418\n",
            "Epoch 77/500\n",
            "\u001b[1m29/29\u001b[0m \u001b[32m━━━━━━━━━━━━━━━━━━━━\u001b[0m\u001b[37m\u001b[0m \u001b[1m0s\u001b[0m 5ms/step - loss: 0.2073 - val_loss: 0.2392\n",
            "Epoch 78/500\n",
            "\u001b[1m29/29\u001b[0m \u001b[32m━━━━━━━━━━━━━━━━━━━━\u001b[0m\u001b[37m\u001b[0m \u001b[1m0s\u001b[0m 4ms/step - loss: 0.1954 - val_loss: 0.2367\n",
            "Epoch 79/500\n",
            "\u001b[1m29/29\u001b[0m \u001b[32m━━━━━━━━━━━━━━━━━━━━\u001b[0m\u001b[37m\u001b[0m \u001b[1m0s\u001b[0m 6ms/step - loss: 0.1954 - val_loss: 0.2386\n",
            "Epoch 80/500\n",
            "\u001b[1m29/29\u001b[0m \u001b[32m━━━━━━━━━━━━━━━━━━━━\u001b[0m\u001b[37m\u001b[0m \u001b[1m0s\u001b[0m 7ms/step - loss: 0.1963 - val_loss: 0.2351\n",
            "Epoch 81/500\n",
            "\u001b[1m29/29\u001b[0m \u001b[32m━━━━━━━━━━━━━━━━━━━━\u001b[0m\u001b[37m\u001b[0m \u001b[1m0s\u001b[0m 7ms/step - loss: 0.2014 - val_loss: 0.2346\n",
            "Epoch 82/500\n",
            "\u001b[1m29/29\u001b[0m \u001b[32m━━━━━━━━━━━━━━━━━━━━\u001b[0m\u001b[37m\u001b[0m \u001b[1m0s\u001b[0m 6ms/step - loss: 0.1996 - val_loss: 0.2338\n",
            "Epoch 83/500\n",
            "\u001b[1m29/29\u001b[0m \u001b[32m━━━━━━━━━━━━━━━━━━━━\u001b[0m\u001b[37m\u001b[0m \u001b[1m0s\u001b[0m 7ms/step - loss: 0.1982 - val_loss: 0.2323\n",
            "Epoch 84/500\n",
            "\u001b[1m29/29\u001b[0m \u001b[32m━━━━━━━━━━━━━━━━━━━━\u001b[0m\u001b[37m\u001b[0m \u001b[1m0s\u001b[0m 7ms/step - loss: 0.2049 - val_loss: 0.2330\n",
            "Epoch 85/500\n",
            "\u001b[1m29/29\u001b[0m \u001b[32m━━━━━━━━━━━━━━━━━━━━\u001b[0m\u001b[37m\u001b[0m \u001b[1m0s\u001b[0m 7ms/step - loss: 0.2120 - val_loss: 0.2325\n",
            "Epoch 86/500\n",
            "\u001b[1m29/29\u001b[0m \u001b[32m━━━━━━━━━━━━━━━━━━━━\u001b[0m\u001b[37m\u001b[0m \u001b[1m0s\u001b[0m 4ms/step - loss: 0.2024 - val_loss: 0.2308\n",
            "Epoch 87/500\n",
            "\u001b[1m29/29\u001b[0m \u001b[32m━━━━━━━━━━━━━━━━━━━━\u001b[0m\u001b[37m\u001b[0m \u001b[1m0s\u001b[0m 4ms/step - loss: 0.1964 - val_loss: 0.2297\n",
            "Epoch 88/500\n",
            "\u001b[1m29/29\u001b[0m \u001b[32m━━━━━━━━━━━━━━━━━━━━\u001b[0m\u001b[37m\u001b[0m \u001b[1m0s\u001b[0m 4ms/step - loss: 0.1981 - val_loss: 0.2300\n",
            "Epoch 89/500\n",
            "\u001b[1m29/29\u001b[0m \u001b[32m━━━━━━━━━━━━━━━━━━━━\u001b[0m\u001b[37m\u001b[0m \u001b[1m0s\u001b[0m 4ms/step - loss: 0.1872 - val_loss: 0.2291\n",
            "Epoch 90/500\n",
            "\u001b[1m29/29\u001b[0m \u001b[32m━━━━━━━━━━━━━━━━━━━━\u001b[0m\u001b[37m\u001b[0m \u001b[1m0s\u001b[0m 4ms/step - loss: 0.1999 - val_loss: 0.2290\n",
            "Epoch 91/500\n",
            "\u001b[1m29/29\u001b[0m \u001b[32m━━━━━━━━━━━━━━━━━━━━\u001b[0m\u001b[37m\u001b[0m \u001b[1m0s\u001b[0m 4ms/step - loss: 0.1965 - val_loss: 0.2303\n",
            "Epoch 92/500\n",
            "\u001b[1m29/29\u001b[0m \u001b[32m━━━━━━━━━━━━━━━━━━━━\u001b[0m\u001b[37m\u001b[0m \u001b[1m0s\u001b[0m 4ms/step - loss: 0.1950 - val_loss: 0.2291\n",
            "Epoch 93/500\n",
            "\u001b[1m29/29\u001b[0m \u001b[32m━━━━━━━━━━━━━━━━━━━━\u001b[0m\u001b[37m\u001b[0m \u001b[1m0s\u001b[0m 4ms/step - loss: 0.1875 - val_loss: 0.2270\n",
            "Epoch 94/500\n",
            "\u001b[1m29/29\u001b[0m \u001b[32m━━━━━━━━━━━━━━━━━━━━\u001b[0m\u001b[37m\u001b[0m \u001b[1m0s\u001b[0m 4ms/step - loss: 0.1813 - val_loss: 0.2273\n",
            "Epoch 95/500\n",
            "\u001b[1m29/29\u001b[0m \u001b[32m━━━━━━━━━━━━━━━━━━━━\u001b[0m\u001b[37m\u001b[0m \u001b[1m0s\u001b[0m 4ms/step - loss: 0.1905 - val_loss: 0.2261\n",
            "Epoch 96/500\n",
            "\u001b[1m29/29\u001b[0m \u001b[32m━━━━━━━━━━━━━━━━━━━━\u001b[0m\u001b[37m\u001b[0m \u001b[1m0s\u001b[0m 4ms/step - loss: 0.1898 - val_loss: 0.2258\n",
            "Epoch 97/500\n",
            "\u001b[1m29/29\u001b[0m \u001b[32m━━━━━━━━━━━━━━━━━━━━\u001b[0m\u001b[37m\u001b[0m \u001b[1m0s\u001b[0m 4ms/step - loss: 0.1909 - val_loss: 0.2246\n",
            "Epoch 98/500\n",
            "\u001b[1m29/29\u001b[0m \u001b[32m━━━━━━━━━━━━━━━━━━━━\u001b[0m\u001b[37m\u001b[0m \u001b[1m0s\u001b[0m 4ms/step - loss: 0.1916 - val_loss: 0.2246\n",
            "Epoch 99/500\n",
            "\u001b[1m29/29\u001b[0m \u001b[32m━━━━━━━━━━━━━━━━━━━━\u001b[0m\u001b[37m\u001b[0m \u001b[1m0s\u001b[0m 4ms/step - loss: 0.1982 - val_loss: 0.2235\n",
            "Epoch 100/500\n",
            "\u001b[1m29/29\u001b[0m \u001b[32m━━━━━━━━━━━━━━━━━━━━\u001b[0m\u001b[37m\u001b[0m \u001b[1m0s\u001b[0m 4ms/step - loss: 0.1895 - val_loss: 0.2253\n",
            "Epoch 101/500\n",
            "\u001b[1m29/29\u001b[0m \u001b[32m━━━━━━━━━━━━━━━━━━━━\u001b[0m\u001b[37m\u001b[0m \u001b[1m0s\u001b[0m 4ms/step - loss: 0.1958 - val_loss: 0.2231\n",
            "Epoch 102/500\n",
            "\u001b[1m29/29\u001b[0m \u001b[32m━━━━━━━━━━━━━━━━━━━━\u001b[0m\u001b[37m\u001b[0m \u001b[1m0s\u001b[0m 4ms/step - loss: 0.1865 - val_loss: 0.2217\n",
            "Epoch 103/500\n",
            "\u001b[1m29/29\u001b[0m \u001b[32m━━━━━━━━━━━━━━━━━━━━\u001b[0m\u001b[37m\u001b[0m \u001b[1m0s\u001b[0m 4ms/step - loss: 0.1870 - val_loss: 0.2210\n",
            "Epoch 104/500\n",
            "\u001b[1m29/29\u001b[0m \u001b[32m━━━━━━━━━━━━━━━━━━━━\u001b[0m\u001b[37m\u001b[0m \u001b[1m0s\u001b[0m 4ms/step - loss: 0.1904 - val_loss: 0.2220\n",
            "Epoch 105/500\n",
            "\u001b[1m29/29\u001b[0m \u001b[32m━━━━━━━━━━━━━━━━━━━━\u001b[0m\u001b[37m\u001b[0m \u001b[1m0s\u001b[0m 4ms/step - loss: 0.1886 - val_loss: 0.2223\n",
            "Epoch 106/500\n",
            "\u001b[1m29/29\u001b[0m \u001b[32m━━━━━━━━━━━━━━━━━━━━\u001b[0m\u001b[37m\u001b[0m \u001b[1m0s\u001b[0m 4ms/step - loss: 0.1861 - val_loss: 0.2210\n",
            "Epoch 107/500\n",
            "\u001b[1m29/29\u001b[0m \u001b[32m━━━━━━━━━━━━━━━━━━━━\u001b[0m\u001b[37m\u001b[0m \u001b[1m0s\u001b[0m 5ms/step - loss: 0.1877 - val_loss: 0.2193\n",
            "Epoch 108/500\n",
            "\u001b[1m29/29\u001b[0m \u001b[32m━━━━━━━━━━━━━━━━━━━━\u001b[0m\u001b[37m\u001b[0m \u001b[1m0s\u001b[0m 4ms/step - loss: 0.1864 - val_loss: 0.2189\n",
            "Epoch 109/500\n",
            "\u001b[1m29/29\u001b[0m \u001b[32m━━━━━━━━━━━━━━━━━━━━\u001b[0m\u001b[37m\u001b[0m \u001b[1m0s\u001b[0m 5ms/step - loss: 0.1979 - val_loss: 0.2197\n",
            "Epoch 110/500\n",
            "\u001b[1m29/29\u001b[0m \u001b[32m━━━━━━━━━━━━━━━━━━━━\u001b[0m\u001b[37m\u001b[0m \u001b[1m0s\u001b[0m 4ms/step - loss: 0.1969 - val_loss: 0.2186\n",
            "Epoch 111/500\n",
            "\u001b[1m29/29\u001b[0m \u001b[32m━━━━━━━━━━━━━━━━━━━━\u001b[0m\u001b[37m\u001b[0m \u001b[1m0s\u001b[0m 5ms/step - loss: 0.1839 - val_loss: 0.2203\n",
            "Epoch 112/500\n",
            "\u001b[1m29/29\u001b[0m \u001b[32m━━━━━━━━━━━━━━━━━━━━\u001b[0m\u001b[37m\u001b[0m \u001b[1m0s\u001b[0m 4ms/step - loss: 0.1904 - val_loss: 0.2177\n",
            "Epoch 113/500\n",
            "\u001b[1m29/29\u001b[0m \u001b[32m━━━━━━━━━━━━━━━━━━━━\u001b[0m\u001b[37m\u001b[0m \u001b[1m0s\u001b[0m 4ms/step - loss: 0.1859 - val_loss: 0.2181\n",
            "Epoch 114/500\n",
            "\u001b[1m29/29\u001b[0m \u001b[32m━━━━━━━━━━━━━━━━━━━━\u001b[0m\u001b[37m\u001b[0m \u001b[1m0s\u001b[0m 4ms/step - loss: 0.1840 - val_loss: 0.2169\n",
            "Epoch 115/500\n",
            "\u001b[1m29/29\u001b[0m \u001b[32m━━━━━━━━━━━━━━━━━━━━\u001b[0m\u001b[37m\u001b[0m \u001b[1m0s\u001b[0m 4ms/step - loss: 0.1888 - val_loss: 0.2169\n",
            "Epoch 116/500\n",
            "\u001b[1m29/29\u001b[0m \u001b[32m━━━━━━━━━━━━━━━━━━━━\u001b[0m\u001b[37m\u001b[0m \u001b[1m0s\u001b[0m 5ms/step - loss: 0.1811 - val_loss: 0.2161\n",
            "Epoch 117/500\n",
            "\u001b[1m29/29\u001b[0m \u001b[32m━━━━━━━━━━━━━━━━━━━━\u001b[0m\u001b[37m\u001b[0m \u001b[1m0s\u001b[0m 5ms/step - loss: 0.1857 - val_loss: 0.2165\n",
            "Epoch 118/500\n",
            "\u001b[1m29/29\u001b[0m \u001b[32m━━━━━━━━━━━━━━━━━━━━\u001b[0m\u001b[37m\u001b[0m \u001b[1m0s\u001b[0m 4ms/step - loss: 0.1863 - val_loss: 0.2152\n",
            "Epoch 119/500\n",
            "\u001b[1m29/29\u001b[0m \u001b[32m━━━━━━━━━━━━━━━━━━━━\u001b[0m\u001b[37m\u001b[0m \u001b[1m0s\u001b[0m 5ms/step - loss: 0.1885 - val_loss: 0.2149\n",
            "Epoch 120/500\n",
            "\u001b[1m29/29\u001b[0m \u001b[32m━━━━━━━━━━━━━━━━━━━━\u001b[0m\u001b[37m\u001b[0m \u001b[1m0s\u001b[0m 5ms/step - loss: 0.1865 - val_loss: 0.2161\n",
            "Epoch 121/500\n",
            "\u001b[1m29/29\u001b[0m \u001b[32m━━━━━━━━━━━━━━━━━━━━\u001b[0m\u001b[37m\u001b[0m \u001b[1m0s\u001b[0m 5ms/step - loss: 0.1897 - val_loss: 0.2146\n",
            "Epoch 122/500\n",
            "\u001b[1m29/29\u001b[0m \u001b[32m━━━━━━━━━━━━━━━━━━━━\u001b[0m\u001b[37m\u001b[0m \u001b[1m0s\u001b[0m 5ms/step - loss: 0.1857 - val_loss: 0.2142\n",
            "Epoch 123/500\n",
            "\u001b[1m29/29\u001b[0m \u001b[32m━━━━━━━━━━━━━━━━━━━━\u001b[0m\u001b[37m\u001b[0m \u001b[1m0s\u001b[0m 4ms/step - loss: 0.1866 - val_loss: 0.2140\n",
            "Epoch 124/500\n",
            "\u001b[1m29/29\u001b[0m \u001b[32m━━━━━━━━━━━━━━━━━━━━\u001b[0m\u001b[37m\u001b[0m \u001b[1m0s\u001b[0m 4ms/step - loss: 0.1889 - val_loss: 0.2138\n",
            "Epoch 125/500\n",
            "\u001b[1m29/29\u001b[0m \u001b[32m━━━━━━━━━━━━━━━━━━━━\u001b[0m\u001b[37m\u001b[0m \u001b[1m0s\u001b[0m 4ms/step - loss: 0.1814 - val_loss: 0.2129\n",
            "Epoch 126/500\n",
            "\u001b[1m29/29\u001b[0m \u001b[32m━━━━━━━━━━━━━━━━━━━━\u001b[0m\u001b[37m\u001b[0m \u001b[1m0s\u001b[0m 5ms/step - loss: 0.1688 - val_loss: 0.2131\n",
            "Epoch 127/500\n",
            "\u001b[1m29/29\u001b[0m \u001b[32m━━━━━━━━━━━━━━━━━━━━\u001b[0m\u001b[37m\u001b[0m \u001b[1m0s\u001b[0m 4ms/step - loss: 0.1867 - val_loss: 0.2132\n",
            "Epoch 128/500\n",
            "\u001b[1m29/29\u001b[0m \u001b[32m━━━━━━━━━━━━━━━━━━━━\u001b[0m\u001b[37m\u001b[0m \u001b[1m0s\u001b[0m 4ms/step - loss: 0.1895 - val_loss: 0.2130\n",
            "Epoch 129/500\n",
            "\u001b[1m29/29\u001b[0m \u001b[32m━━━━━━━━━━━━━━━━━━━━\u001b[0m\u001b[37m\u001b[0m \u001b[1m0s\u001b[0m 5ms/step - loss: 0.1942 - val_loss: 0.2116\n",
            "Epoch 130/500\n",
            "\u001b[1m29/29\u001b[0m \u001b[32m━━━━━━━━━━━━━━━━━━━━\u001b[0m\u001b[37m\u001b[0m \u001b[1m0s\u001b[0m 4ms/step - loss: 0.1904 - val_loss: 0.2114\n",
            "Epoch 131/500\n",
            "\u001b[1m29/29\u001b[0m \u001b[32m━━━━━━━━━━━━━━━━━━━━\u001b[0m\u001b[37m\u001b[0m \u001b[1m0s\u001b[0m 4ms/step - loss: 0.1938 - val_loss: 0.2119\n",
            "Epoch 132/500\n",
            "\u001b[1m29/29\u001b[0m \u001b[32m━━━━━━━━━━━━━━━━━━━━\u001b[0m\u001b[37m\u001b[0m \u001b[1m0s\u001b[0m 4ms/step - loss: 0.1942 - val_loss: 0.2120\n",
            "Epoch 133/500\n",
            "\u001b[1m29/29\u001b[0m \u001b[32m━━━━━━━━━━━━━━━━━━━━\u001b[0m\u001b[37m\u001b[0m \u001b[1m0s\u001b[0m 4ms/step - loss: 0.1786 - val_loss: 0.2108\n",
            "Epoch 134/500\n",
            "\u001b[1m29/29\u001b[0m \u001b[32m━━━━━━━━━━━━━━━━━━━━\u001b[0m\u001b[37m\u001b[0m \u001b[1m0s\u001b[0m 5ms/step - loss: 0.1791 - val_loss: 0.2112\n",
            "Epoch 135/500\n",
            "\u001b[1m29/29\u001b[0m \u001b[32m━━━━━━━━━━━━━━━━━━━━\u001b[0m\u001b[37m\u001b[0m \u001b[1m0s\u001b[0m 5ms/step - loss: 0.1845 - val_loss: 0.2102\n",
            "Epoch 136/500\n",
            "\u001b[1m29/29\u001b[0m \u001b[32m━━━━━━━━━━━━━━━━━━━━\u001b[0m\u001b[37m\u001b[0m \u001b[1m0s\u001b[0m 4ms/step - loss: 0.1923 - val_loss: 0.2102\n",
            "Epoch 137/500\n",
            "\u001b[1m29/29\u001b[0m \u001b[32m━━━━━━━━━━━━━━━━━━━━\u001b[0m\u001b[37m\u001b[0m \u001b[1m0s\u001b[0m 4ms/step - loss: 0.1821 - val_loss: 0.2102\n",
            "Epoch 138/500\n",
            "\u001b[1m29/29\u001b[0m \u001b[32m━━━━━━━━━━━━━━━━━━━━\u001b[0m\u001b[37m\u001b[0m \u001b[1m0s\u001b[0m 4ms/step - loss: 0.1852 - val_loss: 0.2099\n",
            "Epoch 139/500\n",
            "\u001b[1m29/29\u001b[0m \u001b[32m━━━━━━━━━━━━━━━━━━━━\u001b[0m\u001b[37m\u001b[0m \u001b[1m0s\u001b[0m 5ms/step - loss: 0.1852 - val_loss: 0.2098\n",
            "Epoch 140/500\n",
            "\u001b[1m29/29\u001b[0m \u001b[32m━━━━━━━━━━━━━━━━━━━━\u001b[0m\u001b[37m\u001b[0m \u001b[1m0s\u001b[0m 4ms/step - loss: 0.1809 - val_loss: 0.2101\n",
            "Epoch 141/500\n",
            "\u001b[1m29/29\u001b[0m \u001b[32m━━━━━━━━━━━━━━━━━━━━\u001b[0m\u001b[37m\u001b[0m \u001b[1m0s\u001b[0m 4ms/step - loss: 0.1862 - val_loss: 0.2077\n",
            "Epoch 142/500\n",
            "\u001b[1m29/29\u001b[0m \u001b[32m━━━━━━━━━━━━━━━━━━━━\u001b[0m\u001b[37m\u001b[0m \u001b[1m0s\u001b[0m 4ms/step - loss: 0.1785 - val_loss: 0.2084\n",
            "Epoch 143/500\n",
            "\u001b[1m29/29\u001b[0m \u001b[32m━━━━━━━━━━━━━━━━━━━━\u001b[0m\u001b[37m\u001b[0m \u001b[1m0s\u001b[0m 5ms/step - loss: 0.1740 - val_loss: 0.2081\n",
            "Epoch 144/500\n",
            "\u001b[1m29/29\u001b[0m \u001b[32m━━━━━━━━━━━━━━━━━━━━\u001b[0m\u001b[37m\u001b[0m \u001b[1m0s\u001b[0m 4ms/step - loss: 0.1767 - val_loss: 0.2077\n",
            "Epoch 145/500\n",
            "\u001b[1m29/29\u001b[0m \u001b[32m━━━━━━━━━━━━━━━━━━━━\u001b[0m\u001b[37m\u001b[0m \u001b[1m0s\u001b[0m 5ms/step - loss: 0.1806 - val_loss: 0.2089\n",
            "Epoch 146/500\n",
            "\u001b[1m29/29\u001b[0m \u001b[32m━━━━━━━━━━━━━━━━━━━━\u001b[0m\u001b[37m\u001b[0m \u001b[1m0s\u001b[0m 5ms/step - loss: 0.1842 - val_loss: 0.2085\n",
            "Epoch 147/500\n",
            "\u001b[1m29/29\u001b[0m \u001b[32m━━━━━━━━━━━━━━━━━━━━\u001b[0m\u001b[37m\u001b[0m \u001b[1m0s\u001b[0m 8ms/step - loss: 0.1716 - val_loss: 0.2076\n",
            "Epoch 148/500\n",
            "\u001b[1m29/29\u001b[0m \u001b[32m━━━━━━━━━━━━━━━━━━━━\u001b[0m\u001b[37m\u001b[0m \u001b[1m0s\u001b[0m 7ms/step - loss: 0.1782 - val_loss: 0.2072\n",
            "Epoch 149/500\n",
            "\u001b[1m29/29\u001b[0m \u001b[32m━━━━━━━━━━━━━━━━━━━━\u001b[0m\u001b[37m\u001b[0m \u001b[1m0s\u001b[0m 6ms/step - loss: 0.1693 - val_loss: 0.2066\n",
            "Epoch 150/500\n",
            "\u001b[1m29/29\u001b[0m \u001b[32m━━━━━━━━━━━━━━━━━━━━\u001b[0m\u001b[37m\u001b[0m \u001b[1m0s\u001b[0m 7ms/step - loss: 0.1735 - val_loss: 0.2071\n",
            "Epoch 151/500\n",
            "\u001b[1m29/29\u001b[0m \u001b[32m━━━━━━━━━━━━━━━━━━━━\u001b[0m\u001b[37m\u001b[0m \u001b[1m0s\u001b[0m 7ms/step - loss: 0.1772 - val_loss: 0.2066\n",
            "Epoch 152/500\n",
            "\u001b[1m29/29\u001b[0m \u001b[32m━━━━━━━━━━━━━━━━━━━━\u001b[0m\u001b[37m\u001b[0m \u001b[1m0s\u001b[0m 7ms/step - loss: 0.1756 - val_loss: 0.2066\n",
            "Epoch 153/500\n",
            "\u001b[1m29/29\u001b[0m \u001b[32m━━━━━━━━━━━━━━━━━━━━\u001b[0m\u001b[37m\u001b[0m \u001b[1m0s\u001b[0m 4ms/step - loss: 0.1753 - val_loss: 0.2059\n",
            "Epoch 154/500\n",
            "\u001b[1m29/29\u001b[0m \u001b[32m━━━━━━━━━━━━━━━━━━━━\u001b[0m\u001b[37m\u001b[0m \u001b[1m0s\u001b[0m 6ms/step - loss: 0.1744 - val_loss: 0.2063\n",
            "Epoch 155/500\n",
            "\u001b[1m29/29\u001b[0m \u001b[32m━━━━━━━━━━━━━━━━━━━━\u001b[0m\u001b[37m\u001b[0m \u001b[1m0s\u001b[0m 4ms/step - loss: 0.1751 - val_loss: 0.2059\n",
            "Epoch 156/500\n",
            "\u001b[1m29/29\u001b[0m \u001b[32m━━━━━━━━━━━━━━━━━━━━\u001b[0m\u001b[37m\u001b[0m \u001b[1m0s\u001b[0m 6ms/step - loss: 0.1777 - val_loss: 0.2053\n",
            "Epoch 157/500\n",
            "\u001b[1m29/29\u001b[0m \u001b[32m━━━━━━━━━━━━━━━━━━━━\u001b[0m\u001b[37m\u001b[0m \u001b[1m0s\u001b[0m 4ms/step - loss: 0.1745 - val_loss: 0.2087\n",
            "Epoch 158/500\n",
            "\u001b[1m29/29\u001b[0m \u001b[32m━━━━━━━━━━━━━━━━━━━━\u001b[0m\u001b[37m\u001b[0m \u001b[1m0s\u001b[0m 4ms/step - loss: 0.1750 - val_loss: 0.2052\n",
            "Epoch 159/500\n",
            "\u001b[1m29/29\u001b[0m \u001b[32m━━━━━━━━━━━━━━━━━━━━\u001b[0m\u001b[37m\u001b[0m \u001b[1m0s\u001b[0m 4ms/step - loss: 0.1825 - val_loss: 0.2050\n",
            "Epoch 160/500\n",
            "\u001b[1m29/29\u001b[0m \u001b[32m━━━━━━━━━━━━━━━━━━━━\u001b[0m\u001b[37m\u001b[0m \u001b[1m0s\u001b[0m 4ms/step - loss: 0.1702 - val_loss: 0.2051\n",
            "Epoch 161/500\n",
            "\u001b[1m29/29\u001b[0m \u001b[32m━━━━━━━━━━━━━━━━━━━━\u001b[0m\u001b[37m\u001b[0m \u001b[1m0s\u001b[0m 4ms/step - loss: 0.1745 - val_loss: 0.2050\n",
            "Epoch 162/500\n",
            "\u001b[1m29/29\u001b[0m \u001b[32m━━━━━━━━━━━━━━━━━━━━\u001b[0m\u001b[37m\u001b[0m \u001b[1m0s\u001b[0m 5ms/step - loss: 0.1778 - val_loss: 0.2041\n",
            "Epoch 163/500\n",
            "\u001b[1m29/29\u001b[0m \u001b[32m━━━━━━━━━━━━━━━━━━━━\u001b[0m\u001b[37m\u001b[0m \u001b[1m0s\u001b[0m 5ms/step - loss: 0.1718 - val_loss: 0.2054\n",
            "Epoch 164/500\n",
            "\u001b[1m29/29\u001b[0m \u001b[32m━━━━━━━━━━━━━━━━━━━━\u001b[0m\u001b[37m\u001b[0m \u001b[1m0s\u001b[0m 4ms/step - loss: 0.1707 - val_loss: 0.2042\n",
            "Epoch 165/500\n",
            "\u001b[1m29/29\u001b[0m \u001b[32m━━━━━━━━━━━━━━━━━━━━\u001b[0m\u001b[37m\u001b[0m \u001b[1m0s\u001b[0m 4ms/step - loss: 0.1701 - val_loss: 0.2039\n",
            "Epoch 166/500\n",
            "\u001b[1m29/29\u001b[0m \u001b[32m━━━━━━━━━━━━━━━━━━━━\u001b[0m\u001b[37m\u001b[0m \u001b[1m0s\u001b[0m 5ms/step - loss: 0.1745 - val_loss: 0.2035\n",
            "Epoch 167/500\n",
            "\u001b[1m29/29\u001b[0m \u001b[32m━━━━━━━━━━━━━━━━━━━━\u001b[0m\u001b[37m\u001b[0m \u001b[1m0s\u001b[0m 5ms/step - loss: 0.1668 - val_loss: 0.2035\n",
            "Epoch 168/500\n",
            "\u001b[1m29/29\u001b[0m \u001b[32m━━━━━━━━━━━━━━━━━━━━\u001b[0m\u001b[37m\u001b[0m \u001b[1m0s\u001b[0m 4ms/step - loss: 0.1671 - val_loss: 0.2041\n",
            "Epoch 169/500\n",
            "\u001b[1m29/29\u001b[0m \u001b[32m━━━━━━━━━━━━━━━━━━━━\u001b[0m\u001b[37m\u001b[0m \u001b[1m0s\u001b[0m 5ms/step - loss: 0.1717 - val_loss: 0.2025\n",
            "Epoch 170/500\n",
            "\u001b[1m29/29\u001b[0m \u001b[32m━━━━━━━━━━━━━━━━━━━━\u001b[0m\u001b[37m\u001b[0m \u001b[1m0s\u001b[0m 4ms/step - loss: 0.1689 - val_loss: 0.2028\n",
            "Epoch 171/500\n",
            "\u001b[1m29/29\u001b[0m \u001b[32m━━━━━━━━━━━━━━━━━━━━\u001b[0m\u001b[37m\u001b[0m \u001b[1m0s\u001b[0m 5ms/step - loss: 0.1740 - val_loss: 0.2025\n",
            "Epoch 172/500\n",
            "\u001b[1m29/29\u001b[0m \u001b[32m━━━━━━━━━━━━━━━━━━━━\u001b[0m\u001b[37m\u001b[0m \u001b[1m0s\u001b[0m 4ms/step - loss: 0.1758 - val_loss: 0.2023\n",
            "Epoch 173/500\n",
            "\u001b[1m29/29\u001b[0m \u001b[32m━━━━━━━━━━━━━━━━━━━━\u001b[0m\u001b[37m\u001b[0m \u001b[1m0s\u001b[0m 6ms/step - loss: 0.1744 - val_loss: 0.2024\n",
            "Epoch 174/500\n",
            "\u001b[1m29/29\u001b[0m \u001b[32m━━━━━━━━━━━━━━━━━━━━\u001b[0m\u001b[37m\u001b[0m \u001b[1m0s\u001b[0m 4ms/step - loss: 0.1678 - val_loss: 0.2022\n",
            "Epoch 175/500\n",
            "\u001b[1m29/29\u001b[0m \u001b[32m━━━━━━━━━━━━━━━━━━━━\u001b[0m\u001b[37m\u001b[0m \u001b[1m0s\u001b[0m 4ms/step - loss: 0.1824 - val_loss: 0.2021\n",
            "Epoch 176/500\n",
            "\u001b[1m29/29\u001b[0m \u001b[32m━━━━━━━━━━━━━━━━━━━━\u001b[0m\u001b[37m\u001b[0m \u001b[1m0s\u001b[0m 4ms/step - loss: 0.1678 - val_loss: 0.2023\n",
            "Epoch 177/500\n",
            "\u001b[1m29/29\u001b[0m \u001b[32m━━━━━━━━━━━━━━━━━━━━\u001b[0m\u001b[37m\u001b[0m \u001b[1m0s\u001b[0m 4ms/step - loss: 0.1605 - val_loss: 0.2019\n",
            "Epoch 178/500\n",
            "\u001b[1m29/29\u001b[0m \u001b[32m━━━━━━━━━━━━━━━━━━━━\u001b[0m\u001b[37m\u001b[0m \u001b[1m0s\u001b[0m 4ms/step - loss: 0.1809 - val_loss: 0.2017\n",
            "Epoch 179/500\n",
            "\u001b[1m29/29\u001b[0m \u001b[32m━━━━━━━━━━━━━━━━━━━━\u001b[0m\u001b[37m\u001b[0m \u001b[1m0s\u001b[0m 5ms/step - loss: 0.1694 - val_loss: 0.2010\n",
            "Epoch 180/500\n",
            "\u001b[1m29/29\u001b[0m \u001b[32m━━━━━━━━━━━━━━━━━━━━\u001b[0m\u001b[37m\u001b[0m \u001b[1m0s\u001b[0m 4ms/step - loss: 0.1673 - val_loss: 0.2008\n",
            "Epoch 181/500\n",
            "\u001b[1m29/29\u001b[0m \u001b[32m━━━━━━━━━━━━━━━━━━━━\u001b[0m\u001b[37m\u001b[0m \u001b[1m0s\u001b[0m 4ms/step - loss: 0.1720 - val_loss: 0.2008\n",
            "Epoch 182/500\n",
            "\u001b[1m29/29\u001b[0m \u001b[32m━━━━━━━━━━━━━━━━━━━━\u001b[0m\u001b[37m\u001b[0m \u001b[1m0s\u001b[0m 4ms/step - loss: 0.1738 - val_loss: 0.2021\n",
            "Epoch 183/500\n",
            "\u001b[1m29/29\u001b[0m \u001b[32m━━━━━━━━━━━━━━━━━━━━\u001b[0m\u001b[37m\u001b[0m \u001b[1m0s\u001b[0m 4ms/step - loss: 0.1705 - val_loss: 0.2011\n",
            "Epoch 184/500\n",
            "\u001b[1m29/29\u001b[0m \u001b[32m━━━━━━━━━━━━━━━━━━━━\u001b[0m\u001b[37m\u001b[0m \u001b[1m0s\u001b[0m 5ms/step - loss: 0.1756 - val_loss: 0.2009\n",
            "Epoch 185/500\n",
            "\u001b[1m29/29\u001b[0m \u001b[32m━━━━━━━━━━━━━━━━━━━━\u001b[0m\u001b[37m\u001b[0m \u001b[1m0s\u001b[0m 5ms/step - loss: 0.1679 - val_loss: 0.2009\n",
            "Epoch 186/500\n",
            "\u001b[1m29/29\u001b[0m \u001b[32m━━━━━━━━━━━━━━━━━━━━\u001b[0m\u001b[37m\u001b[0m \u001b[1m0s\u001b[0m 4ms/step - loss: 0.1667 - val_loss: 0.2008\n",
            "Epoch 187/500\n",
            "\u001b[1m29/29\u001b[0m \u001b[32m━━━━━━━━━━━━━━━━━━━━\u001b[0m\u001b[37m\u001b[0m \u001b[1m0s\u001b[0m 5ms/step - loss: 0.1755 - val_loss: 0.2011\n",
            "Epoch 188/500\n",
            "\u001b[1m29/29\u001b[0m \u001b[32m━━━━━━━━━━━━━━━━━━━━\u001b[0m\u001b[37m\u001b[0m \u001b[1m0s\u001b[0m 4ms/step - loss: 0.1651 - val_loss: 0.2006\n",
            "Epoch 189/500\n",
            "\u001b[1m29/29\u001b[0m \u001b[32m━━━━━━━━━━━━━━━━━━━━\u001b[0m\u001b[37m\u001b[0m \u001b[1m0s\u001b[0m 4ms/step - loss: 0.1672 - val_loss: 0.2012\n",
            "Epoch 190/500\n",
            "\u001b[1m29/29\u001b[0m \u001b[32m━━━━━━━━━━━━━━━━━━━━\u001b[0m\u001b[37m\u001b[0m \u001b[1m0s\u001b[0m 4ms/step - loss: 0.1580 - val_loss: 0.1997\n",
            "Epoch 191/500\n",
            "\u001b[1m29/29\u001b[0m \u001b[32m━━━━━━━━━━━━━━━━━━━━\u001b[0m\u001b[37m\u001b[0m \u001b[1m0s\u001b[0m 4ms/step - loss: 0.1702 - val_loss: 0.2001\n",
            "Epoch 192/500\n",
            "\u001b[1m29/29\u001b[0m \u001b[32m━━━━━━━━━━━━━━━━━━━━\u001b[0m\u001b[37m\u001b[0m \u001b[1m0s\u001b[0m 4ms/step - loss: 0.1618 - val_loss: 0.2000\n",
            "Epoch 193/500\n",
            "\u001b[1m29/29\u001b[0m \u001b[32m━━━━━━━━━━━━━━━━━━━━\u001b[0m\u001b[37m\u001b[0m \u001b[1m0s\u001b[0m 4ms/step - loss: 0.1760 - val_loss: 0.2003\n",
            "Epoch 194/500\n",
            "\u001b[1m29/29\u001b[0m \u001b[32m━━━━━━━━━━━━━━━━━━━━\u001b[0m\u001b[37m\u001b[0m \u001b[1m0s\u001b[0m 5ms/step - loss: 0.1703 - val_loss: 0.1995\n",
            "Epoch 195/500\n",
            "\u001b[1m29/29\u001b[0m \u001b[32m━━━━━━━━━━━━━━━━━━━━\u001b[0m\u001b[37m\u001b[0m \u001b[1m0s\u001b[0m 4ms/step - loss: 0.1652 - val_loss: 0.1991\n",
            "Epoch 196/500\n",
            "\u001b[1m29/29\u001b[0m \u001b[32m━━━━━━━━━━━━━━━━━━━━\u001b[0m\u001b[37m\u001b[0m \u001b[1m0s\u001b[0m 4ms/step - loss: 0.1701 - val_loss: 0.1993\n",
            "Epoch 197/500\n",
            "\u001b[1m29/29\u001b[0m \u001b[32m━━━━━━━━━━━━━━━━━━━━\u001b[0m\u001b[37m\u001b[0m \u001b[1m0s\u001b[0m 4ms/step - loss: 0.1685 - val_loss: 0.1990\n",
            "Epoch 198/500\n",
            "\u001b[1m29/29\u001b[0m \u001b[32m━━━━━━━━━━━━━━━━━━━━\u001b[0m\u001b[37m\u001b[0m \u001b[1m0s\u001b[0m 4ms/step - loss: 0.1677 - val_loss: 0.1991\n",
            "Epoch 199/500\n",
            "\u001b[1m29/29\u001b[0m \u001b[32m━━━━━━━━━━━━━━━━━━━━\u001b[0m\u001b[37m\u001b[0m \u001b[1m0s\u001b[0m 6ms/step - loss: 0.1669 - val_loss: 0.1992\n",
            "Epoch 200/500\n",
            "\u001b[1m29/29\u001b[0m \u001b[32m━━━━━━━━━━━━━━━━━━━━\u001b[0m\u001b[37m\u001b[0m \u001b[1m0s\u001b[0m 6ms/step - loss: 0.1683 - val_loss: 0.1981\n",
            "Epoch 201/500\n",
            "\u001b[1m29/29\u001b[0m \u001b[32m━━━━━━━━━━━━━━━━━━━━\u001b[0m\u001b[37m\u001b[0m \u001b[1m0s\u001b[0m 4ms/step - loss: 0.1726 - val_loss: 0.1984\n",
            "Epoch 202/500\n",
            "\u001b[1m29/29\u001b[0m \u001b[32m━━━━━━━━━━━━━━━━━━━━\u001b[0m\u001b[37m\u001b[0m \u001b[1m0s\u001b[0m 4ms/step - loss: 0.1688 - val_loss: 0.1992\n",
            "Epoch 203/500\n",
            "\u001b[1m29/29\u001b[0m \u001b[32m━━━━━━━━━━━━━━━━━━━━\u001b[0m\u001b[37m\u001b[0m \u001b[1m0s\u001b[0m 4ms/step - loss: 0.1736 - val_loss: 0.1995\n",
            "Epoch 204/500\n",
            "\u001b[1m29/29\u001b[0m \u001b[32m━━━━━━━━━━━━━━━━━━━━\u001b[0m\u001b[37m\u001b[0m \u001b[1m0s\u001b[0m 4ms/step - loss: 0.1674 - val_loss: 0.1991\n",
            "Epoch 205/500\n",
            "\u001b[1m29/29\u001b[0m \u001b[32m━━━━━━━━━━━━━━━━━━━━\u001b[0m\u001b[37m\u001b[0m \u001b[1m0s\u001b[0m 5ms/step - loss: 0.1786 - val_loss: 0.1987\n",
            "Epoch 206/500\n",
            "\u001b[1m29/29\u001b[0m \u001b[32m━━━━━━━━━━━━━━━━━━━━\u001b[0m\u001b[37m\u001b[0m \u001b[1m0s\u001b[0m 4ms/step - loss: 0.1695 - val_loss: 0.1990\n",
            "Epoch 207/500\n",
            "\u001b[1m29/29\u001b[0m \u001b[32m━━━━━━━━━━━━━━━━━━━━\u001b[0m\u001b[37m\u001b[0m \u001b[1m0s\u001b[0m 4ms/step - loss: 0.1785 - val_loss: 0.1987\n",
            "Epoch 208/500\n",
            "\u001b[1m29/29\u001b[0m \u001b[32m━━━━━━━━━━━━━━━━━━━━\u001b[0m\u001b[37m\u001b[0m \u001b[1m0s\u001b[0m 4ms/step - loss: 0.1642 - val_loss: 0.1989\n",
            "Epoch 209/500\n",
            "\u001b[1m29/29\u001b[0m \u001b[32m━━━━━━━━━━━━━━━━━━━━\u001b[0m\u001b[37m\u001b[0m \u001b[1m0s\u001b[0m 4ms/step - loss: 0.1707 - val_loss: 0.1987\n",
            "Epoch 210/500\n",
            "\u001b[1m29/29\u001b[0m \u001b[32m━━━━━━━━━━━━━━━━━━━━\u001b[0m\u001b[37m\u001b[0m \u001b[1m0s\u001b[0m 4ms/step - loss: 0.1614 - val_loss: 0.1982\n"
          ]
        },
        {
          "data": {
            "image/png": "[encoded data removed]",
            "text/plain": [
              "<Figure size 1000x700 with 1 Axes>"
            ]
          },
          "metadata": {},
          "output_type": "display_data"
        },
        {
          "name": "stdout",
          "output_type": "stream",
          "text": [
            "Wartość funkcji straty na zbiorze treningowym: 0.17045310139656067\n",
            "CPU times: user 32.1 s, sys: 2.19 s, total: 34.3 s\n",
            "Wall time: 39.1 s\n"
          ]
        }
      ],
      "source": [
        "%%time\n",
        "\n",
        "import matplotlib.pyplot as plt\n",
        "\n",
        "def trainModel(model, nEpochs):\n",
        "    \"\"\"Trenuje model sieci neuronowej.\n",
        "\n",
        "    Args:\n",
        "        model: Model sieci neuronowej do trenowania.\n",
        "        nEpochs: Liczba epok treningu.\n",
        "    \"\"\"\n",
        "\n",
        "    # Definiowanie harmonogramu zmiany współczynnika uczenia\n",
        "    lr_schedule = tf.keras.optimizers.schedules.ExponentialDecay(\n",
        "        initial_learning_rate=1e-3,\n",
        "        decay_steps=10000,\n",
        "        decay_rate=0.9)\n",
        "\n",
        "    # Kompilacja modelu\n",
        "    model.compile(optimizer=tf.keras.optimizers.Adam(learning_rate=lr_schedule),\n",
        "                  loss='binary_crossentropy')\n",
        "\n",
        "    # Definiowanie wczesnego zatrzymania\n",
        "    early_stopping = tf.keras.callbacks.EarlyStopping(monitor='val_loss', patience=10)\n",
        "\n",
        "    # Trenowanie modelu\n",
        "    history = model.fit(features, labels, epochs=nEpochs, batch_size=32,\n",
        "                        validation_split=0.1, callbacks=[early_stopping])\n",
        "\n",
        "    # Rysowanie historii funkcji straty\n",
        "    plt.plot(history.history['loss'], label='training')\n",
        "    plt.plot(history.history['val_loss'], label='validation')\n",
        "    plt.title('Funkcja straty')\n",
        "    plt.ylabel('Strata')\n",
        "    plt.xlabel('Epoka')\n",
        "    plt.legend()\n",
        "    plt.show()\n",
        "\n",
        "    # Wypisanie wartości funkcji straty na zbiorze treningowym\n",
        "    loss = model.evaluate(features, labels, verbose=0)\n",
        "    print(f\"Wartość funkcji straty na zbiorze treningowym: {loss}\")\n",
        "\n",
        "# Wywołanie funkcji trainModel() dla modelu model_fc\n",
        "nEpochs = 500\n",
        "trainModel(model_fc, nEpochs)"
      ]
    },
    {
      "cell_type": "markdown",
      "metadata": {
        "editable": true,
        "id": "FdEiKKtOEJiQ",
        "tags": []
      },
      "source": [
        "**Proszę:**\n",
        "\n",
        "* napisać funkcję `plotGenerated(model, params)`, która rysuje panel z czterema obrazy wygenerowanymi przez sieć\n",
        "  dla zadanego parametrów\n",
        "* rysunki powinny zawierać okręgi narysowane z nominalnymi wartościami parametrów\n",
        "* wywołać funkcję `plotGenerated(model, params)` dla modelu `model_fc` i parametrów:\n",
        "\n",
        "$$\n",
        "\\Large{(x, y, R)} = (0,0,10), (16,0,10), (8,8,5), (8,8,1)\n",
        "$$"
      ]
    },
    {
      "cell_type": "code",
      "execution_count": 48,
      "metadata": {
        "colab": {
          "base_uri": "https://localhost:8080/",
          "height": 823
        },
        "editable": true,
        "id": "oUZV-DlmEJiR",
        "outputId": "165630aa-a00a-4185-cfdd-106dab8965de",
        "tags": []
      },
      "outputs": [
        {
          "name": "stdout",
          "output_type": "stream",
          "text": [
            "\u001b[1m1/1\u001b[0m \u001b[32m━━━━━━━━━━━━━━━━━━━━\u001b[0m\u001b[37m\u001b[0m \u001b[1m0s\u001b[0m 29ms/step\n"
          ]
        },
        {
          "data": {
            "image/png": "[encoded data removed]",
            "text/plain": [
              "<Figure size 800x800 with 4 Axes>"
            ]
          },
          "metadata": {},
          "output_type": "display_data"
        }
      ],
      "source": [
        "\n",
        "from skimage.draw import disk\n",
        "\n",
        "def plotGenerated(model, params):\n",
        "  \"\"\"Rysuje panel z czterema obrazami wygenerowanymi przez sieć.\n",
        "\n",
        "  Args:\n",
        "      model: Model sieci neuronowej.\n",
        "      params: Macierz parametrów okręgów (x, y, R).\n",
        "  \"\"\"\n",
        "\n",
        "  res = 16  # Rozmiar obrazu\n",
        "\n",
        "  # Generowanie obrazów\n",
        "  generated_images = model.predict(params)\n",
        "\n",
        "  # Rysowanie obrazów\n",
        "  fig, axes = plt.subplots(2, 2, figsize=(8, 8))\n",
        "  for i, ax in enumerate(axes.flatten()):\n",
        "    # Wyświetlanie wygenerowanego obrazu\n",
        "    ax.imshow(generated_images[i, :, :, 0], cmap='gray')\n",
        "\n",
        "    # Rysowanie okręgu z nominalnymi wartościami parametrów\n",
        "    x, y, R = params[i]\n",
        "    rr, cc = disk((x, y), R, shape=(res, res))\n",
        "    ax.scatter(cc, rr, s=1, c='r')  # Czerwone punkty\n",
        "  # Czerwony okrąg\n",
        "\n",
        "    ax.set_title(f\"x={x:.1f}, y={y:.1f}, R={R:.1f}\")\n",
        "    ax.axis('off')\n",
        "\n",
        "  plt.tight_layout()\n",
        "  plt.show()\n",
        "\n",
        "# Wywołanie funkcji plotGenerated() dla modelu model_fc i parametrów\n",
        "params = np.array([(0, 0, 10), (16, 0, 10), (8, 8, 5), (8, 8, 1)])\n",
        "plotGenerated(model_fc, params)"
      ]
    },
    {
      "cell_type": "markdown",
      "metadata": {
        "editable": true,
        "id": "kgrfdDWHEJiR",
        "tags": []
      },
      "source": [
        "**Proszę:**\n",
        "\n",
        "* przeprowadzić trening sieci `model_cnn` z tymi samymi ustawieniami co dla sieci `model_dnn`\n",
        "* narysować wygenerowane obrazy dla tych samych parametrów, co w przypadku sieci w pełni połączonej\n"
      ]
    },
    {
      "cell_type": "code",
      "execution_count": null,
      "metadata": {
        "editable": true,
        "id": "pItAEfk4EJiR",
        "tags": []
      },
      "outputs": [],
      "source": [
        "%%time\n",
        "...rozwiązanie...\n",
        "pass"
      ]
    },
    {
      "cell_type": "markdown",
      "metadata": {
        "editable": true,
        "id": "f4HDZcZMEJiS",
        "tags": []
      },
      "source": [
        "# Architektura autokodera\n",
        "\n",
        "Sieć ze splotem nie trenuje się zbyt dobrze. Powodem może być niewłaściwa reprezentacja okręgu przez trzy liczby: `(x,y,R)`.\n",
        "Może istnieje jakaś reprezentacja, która będzie szybciej prowadziła do uzyskania dobrego modelu?\n",
        "\n",
        "Zamiast samodzielnie eksperymentować z różnymi reprezentacjami skonstruujemy sieć, która sama znajdzie reprezentację- **autokoder**, ang. `autoencoder, AE`.\n",
        "\n",
        "Architektura AE składa się z dwu części:\n",
        "\n",
        "**sieci kodującej** - sieci która z danych wejściowych tworzy reprezentację o zadanym rozmiarze. Przestrzeń do której prowadzi sieć kodująca jest nazywana przestrzenią ukrytą, ang. `hidden space` lub `bottleneck` - ponieważ to jest miejsce gdzie liczba parametrów opisujących zagadnienie jest zwykle najmniejsza.\n",
        "\n",
        "**sieci dekodującej** - sieci która z reprezentacji w przestrzeni ukrytej odtwarza oryginalną postać danych wejściowych\n",
        "\n",
        "W czasie treningu obrazy z dekodera są porównywane z danymi wejściowymi. Wagi są zmieniane tak, by minimalizować różnicę między nimi."
      ]
    },
    {
      "cell_type": "markdown",
      "metadata": {
        "editable": true,
        "id": "n_pA58L4EJiS",
        "tags": []
      },
      "source": [
        "![image.png](attachment:137ea920-9e45-4daf-a448-29a4fd15ca49.png)"
      ]
    },
    {
      "cell_type": "markdown",
      "metadata": {
        "editable": true,
        "id": "OAJCcNnqEJiT",
        "tags": []
      },
      "source": [
        "**Proszę:**\n",
        "\n",
        "* stworzyć model `encoder` - konwolucyjną sieć kodującą wykonującą operację kodowana, czyli zmiany kształtu danych\n",
        "$$\n",
        "\\Large{    \n",
        "(16,16,1) \\rightarrow (2,2,1)\n",
        "}\n",
        "$$\n",
        "* proszę użyć klasy `tf.keras.Sequential`\n",
        "* proszę wypisać na ekran podsumowanie modelu"
      ]
    },
    {
      "cell_type": "code",
      "execution_count": null,
      "metadata": {
        "editable": true,
        "id": "C9FQIrU5EJiT",
        "tags": []
      },
      "outputs": [],
      "source": [
        "...rozwiązanie...\n",
        "pass"
      ]
    },
    {
      "cell_type": "markdown",
      "metadata": {
        "editable": true,
        "id": "2Sf3UDEaEJiT",
        "tags": []
      },
      "source": [
        "**Proszę:**\n",
        "\n",
        "* stworzyć model `decoder` - sieć dekodującą wykonującą operację odkodowana, czyli zmiany kształtu danych\n",
        "$$\n",
        "\\Large{    \n",
        "(2,2,1) \\rightarrow (16,16,1)\n",
        "}\n",
        "$$\n",
        "* proszę użyć klasy `tf.keras.Sequential`\n",
        "* proszę użyć transponowanych splotowych warstw z tymi samymi ustawieniami jak w sieci kodującej\n",
        "* proszę wypisać na ekran podsumowanie modelu"
      ]
    },
    {
      "cell_type": "code",
      "execution_count": null,
      "metadata": {
        "editable": true,
        "id": "ebXHQblYEJiU",
        "tags": []
      },
      "outputs": [],
      "source": [
        "...rozwiązanie...\n",
        "pass"
      ]
    },
    {
      "cell_type": "markdown",
      "metadata": {
        "editable": true,
        "id": "aMVrlraUEJiU",
        "tags": []
      },
      "source": [
        "**Proszę:**\n",
        "\n",
        "* utworzyć  `model_cnn_ae` - autokoder -  sieć sekwencyjną która składa się z sieci kodującej, i dekodującej:\n",
        "```Python\n",
        "\n",
        "[encoder, decoder]\n",
        "\n",
        "```\n",
        "* wywołać model na jednym przykładzie korzystając z funkcji `predict`\n",
        "```Python\n",
        "\n",
        "model_cnn_ae.predict(...)\n",
        "```\n",
        "* wypisać na ekran podsumowanie modelu\n",
        "\n",
        "**Uwaga:**\n",
        "* model przyjmuje paczki, więc dane wejściowe muszą mieć odpowiedni wymiar, nawet jeśli podajemy pojedynczy przykład\n",
        "* co jest teraz danymi wejściowymi do modelu?"
      ]
    },
    {
      "cell_type": "code",
      "execution_count": null,
      "metadata": {
        "editable": true,
        "id": "QPf7Fbt8EJiU",
        "tags": []
      },
      "outputs": [],
      "source": [
        "...rozwiązanie...\n",
        "pass"
      ]
    },
    {
      "cell_type": "markdown",
      "metadata": {
        "editable": true,
        "id": "HH-Zv5LnEJiU",
        "tags": []
      },
      "source": [
        "**Proszę:**\n",
        "\n",
        "* przeprowadzić trening autokodera\n",
        "* użyć ustawień treningu jak dla poprzednich modeli"
      ]
    },
    {
      "cell_type": "code",
      "execution_count": null,
      "metadata": {
        "editable": true,
        "id": "Fnn4c_deEJia",
        "tags": []
      },
      "outputs": [],
      "source": [
        "%%time\n",
        "...rozwiązanie...\n",
        "pass"
      ]
    },
    {
      "cell_type": "markdown",
      "metadata": {
        "editable": true,
        "id": "aF1_A3hVEJib",
        "tags": []
      },
      "source": [
        "**Proszę:**\n",
        "\n",
        "* wypisać na ekran parametry pierwszego przykładu ze zbioru danych\n",
        "* uruchomić koder na obrazie z pierwszego przykładu\n",
        "* wypisać na ekran zakodowaną postać obrazu"
      ]
    },
    {
      "cell_type": "code",
      "execution_count": null,
      "metadata": {
        "editable": true,
        "id": "BRRIdqvJEJib",
        "tags": []
      },
      "outputs": [],
      "source": [
        "...rozwiązanie...\n",
        "pass"
      ]
    },
    {
      "cell_type": "markdown",
      "metadata": {
        "editable": true,
        "id": "wUOPVJYNEJib",
        "tags": []
      },
      "source": [
        "**Proszę:**\n",
        "\n",
        "* napisać funkcję `plotDecoded(model)` która rysuje rysunki uzyskane z modelu `model_cnn_ae` dla czterech losowych przykładów z danych treningowych:\n",
        "    * parametry z przykładów treningowych są kodowane przez `encoder`\n",
        "    * zakodowane parametry są odkodowywane przez `decoder`\n",
        "* rysunki powinny być podpisane wartościami parametrów\n",
        "* rysunki powinny zawierać okręgi narysowane z nominalnymi wartościami parametrów"
      ]
    },
    {
      "cell_type": "code",
      "execution_count": null,
      "metadata": {
        "editable": true,
        "id": "-8hB-6CvEJic",
        "tags": []
      },
      "outputs": [],
      "source": [
        "...rozwiązanie...\n",
        "plotDecoded(model_cnn_ae)"
      ]
    },
    {
      "cell_type": "markdown",
      "metadata": {
        "editable": true,
        "id": "6s625FVVEJic",
        "tags": []
      },
      "source": [
        "# Zadanie domowe\n",
        "\n",
        "Skonstruować sieć, która będzie generowała obrazy okręgów o rozdzielczości `(256, 256)`.\n",
        "\n",
        "\n",
        "**Proszę:**\n",
        "\n",
        "* wygenerować 1024 przykłady obrazów okręgów o rozdzielczości `(256,256)` o losowych parametrach:\n",
        "    * współrzędne środka w zakresie [0,N]\n",
        "    * promień w zakresie [0,N/2]\n",
        "     \n",
        "* skonstruować **sieć w pełni połączoną** generującą obrazy z trójki:\n",
        "$$\n",
        "\\Large{(x, y, R)}\n",
        "$$\n",
        "\n",
        "* skonstruować **sieć autokodującą** z wymiarem ukrytym o kształcie `(4,4,1)`\n",
        "* przeprowadzić trening obu sieci\n",
        "* narysować obrazy dla czterepch pierwszych przykładów ze zbioru treningowego\n",
        "* zwrócić uwagę na rozmiar modeli"
      ]
    },
    {
      "cell_type": "code",
      "execution_count": null,
      "metadata": {
        "editable": true,
        "id": "NusQmKuTEJic",
        "tags": []
      },
      "outputs": [],
      "source": [
        "##Data generation\n",
        "...rozwiązanie...\n",
        "print(colored(\"Features shape:\",\"blue\"),features.shape)\n",
        "print(colored(\"Labels shape:\",\"blue\"),labels.shape)"
      ]
    },
    {
      "cell_type": "code",
      "execution_count": null,
      "metadata": {
        "editable": true,
        "id": "M0yJaV1xEJic",
        "tags": []
      },
      "outputs": [],
      "source": [
        "%%time\n",
        "## autoencoder model\n",
        "...rozwiązanie...\n",
        "#Evaluation\n",
        "plotDecoded(model_cnn_ae)"
      ]
    },
    {
      "cell_type": "code",
      "execution_count": null,
      "metadata": {
        "editable": true,
        "id": "ASLUBplHEJic",
        "tags": []
      },
      "outputs": [],
      "source": [
        "%%time\n",
        "##fully connected model\n",
        "...rozwiązanie...\n",
        "#model evaluation\n",
        "params = features[0:4]\n",
        "plotGenerated(model_fc, params)"
      ]
    }
  ],
  "metadata": {
    "accelerator": "GPU",
    "colab": {
      "gpuType": "T4",
      "provenance": []
    },
    "kernelspec": {
      "display_name": "Python 3 (ipykernel)",
      "language": "python",
      "name": "python3"
    },
    "rise": {
      "center": false,
      "controls": false,
      "footer": "<h3>Letnia Szkoła<br>Fizyki 2023</h3>",
      "header": "<h1>Hello</h1>",
      "progress": "true",
      "slideNumber": "c/t",
      "transition": "none"
    }
  },
  "nbformat": 4,
  "nbformat_minor": 0
}
