{
 "cells": [
  {
   "cell_type": "markdown",
   "id": "eddba1c3",
   "metadata": {},
   "source": [
    "Definicja projektu zaliczeniowego - Bartosz Kasza. Celem projektu jest napisanie możliwie najrozsądniejszej jak na moje możliwości autofittera do danych doświadczalnych. Pracuję w grupie Michała Parniaka, gdzie zajmujemy się atomami Rydbergowskimi. Podstawową metodą analizy oddziaływania jest zebranie skanu absorbcji lasera próbkującego pierwsze wzbudzenie atomowe. Taki skan odpowiada w przybliżeniu części urojonej elementu $\\rho_{01}$ macierzy gęstości. Moim zadaniem w grupie jest budowanie technologii optymalizacji obliczeń macierzy gęstości stanów stacjonarnych oraz dopasowywanie ich do danych doświadczalnych. To drugie jest znacząco trudniejsze i męczące ze względu na wiele minimów lokalnych oraz czynniki fizyczne nieuwzględnione, lub niemożliwe do uwzględnienia w symulacji. Celem autoffitera byłoby uproszczenie drugiej części. Załozeniem jest nauczenie modelu generowania właściwych zgadnień początkowych, które byłyby następnie korygowane przez scipy.optimize. \n"
   ]
  },
  {
   "cell_type": "markdown",
   "id": "3cecad86",
   "metadata": {},
   "source": [
    "Dane doświadczalne: zmierzone w labolatorium skany dla atomu trójpoziomowego\n",
    "\n",
    "Dane symulacyjne: wygenerowany zestaw treningowy i testowy dla atomu trójpoziomowego.\n",
    "\n",
    "Lokalizacja danych: generowane przy treningu, dane doświadczalne docelowo wstawione na repozytorium projektu\n",
    "\n",
    "Architektura modelu: wielowarstwowa sieć neuronowa z obecnie 4 warstwami, liczbą neuronów początkowych oraz końcowych równą liczbie parametrom modelu. Model ma 2 częstości Rabiego $\\Omega_{L01}, \\Omega_{L12}$ łączące poziomy $\\ket{0} \\rightarrow \\ket{1}$ oraz $\\ket{1} \\rightarrow \\ket{2}$, poszerzenie przez czas tranzytu $\\Gamma_{tr}$ oraz odstrojenie poziomów od laserów $\\Delta_{01}, \\Delta_{12}$, gdzie pierwszy parametr jest stały i zadany ściśle przez warunki eksperymentalne, gdyż odpowiada on zakresowi skanu lasera. W implementacji będziemy wektoryzować ten parametr. "
   ]
  }
 ],
 "metadata": {
  "kernelspec": {
   "display_name": "Python 3 (ipykernel)",
   "language": "python",
   "name": "python3"
  }
 },
 "nbformat": 4,
 "nbformat_minor": 5
}
