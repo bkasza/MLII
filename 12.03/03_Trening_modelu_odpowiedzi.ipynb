{
  "cells": [
    {
      "cell_type": "markdown",
      "metadata": {
        "editable": true,
        "id": "ElqaAG7j9eDK",
        "tags": []
      },
      "source": [
        "## Inicjalizacja środowiska programistycznego"
      ]
    },
    {
      "cell_type": "code",
      "execution_count": 14,
      "metadata": {
        "editable": true,
        "id": "wwgBt0lf9eDV",
        "tags": []
      },
      "outputs": [],
      "source": [
        "#Color printing\n",
        "from termcolor import colored\n",
        "\n",
        "#General data operations library\n",
        "import math\n",
        "import numpy as np\n",
        "\n",
        "#The tensorflow library\n",
        "import tensorflow  as tf\n",
        "\n",
        "#Plotting libraries\n",
        "import matplotlib.pyplot as plt\n",
        "\n",
        "#Increase plots font size\n",
        "params = {'legend.fontsize': 'xx-large',\n",
        "          'figure.figsize': (10, 7),\n",
        "         'axes.labelsize': 'xx-large',\n",
        "         'axes.titlesize':'xx-large',\n",
        "         'xtick.labelsize':'xx-large',\n",
        "         'ytick.labelsize':'xx-large'}\n",
        "plt.rcParams.update(params)"
      ]
    },
    {
      "cell_type": "markdown",
      "metadata": {
        "editable": true,
        "id": "rrQRIECE9eDZ",
        "tags": []
      },
      "source": [
        "<br/><br/>\n",
        "<br/><br/>\n",
        "\n",
        "<h1 align=\"center\">\n",
        " Uczenie maszynowe II\n",
        "</h1>\n",
        "\n",
        "<br/><br/>\n",
        "<br/><br/>\n",
        "<br/><br/>\n",
        "<br/><br/>\n",
        "\n",
        "<h1 align=\"right\">\n",
        "Artur Kalinowski <br>\n",
        "Uniwersytet Warszawski <br>\n",
        "Wydział Fizyki <br>    \n",
        "</h1>"
      ]
    },
    {
      "cell_type": "markdown",
      "metadata": {
        "editable": true,
        "id": "h4UKfiLV9eDb",
        "tags": []
      },
      "source": [
        "<div>\n",
        "<img src=\"attachment:e5f5b879-541b-4444-911b-568210a7d171.png\" align=\"left\" width=\"800\"/>\n",
        "</div>\n",
        "\n",
        "Rozwinięcie Taylora:\n",
        "$$\n",
        "\\huge{\n",
        "\\begin{matrix*}[l]\n",
        "f(x, a_{n}) = \\\\\n",
        "\\sum_{n=0}^{\\infty} a_{n}x^{n} = \\\\\n",
        "a_{0} + a_{1}x + a_{2}x^{2} +...\n",
        "\\end{matrix*}\n",
        "}\n",
        "$$\n",
        "<br><br><br><br>\n",
        "można przedstawić w postaci architektury łączącej wejście z wyjściem:\n",
        "\n",
        "* wszystkie dane są podawane jednocześnie na wejście różnych funkcji bazowych: w tym przypadku $x^{n}$\n",
        "* funkcje bazowe zwracają nowe liczby, które są sumowane z wagami: $a_{i}$\n",
        "* suma jest zwracana jako wynik działania modelu"
      ]
    },
    {
      "cell_type": "markdown",
      "metadata": {
        "editable": true,
        "id": "NHVsLQbQ9eDc",
        "tags": []
      },
      "source": [
        "Wielomiany stopnia n nie są jednak zbyt dobrymi funkcjami bazy:\n",
        "\n",
        "* uzyskanie dużej precyzji wymaga użycia wysokiego stopnia, a to generuje problemy ze stabilnością numeryczną\n",
        "* dane wielowymiarowe powodują dodatkowe komplikacje - pojawiają się mieszane potęgi składowych danych:\n",
        "\n",
        "$$\n",
        "\\huge{\n",
        "x_{0}x_{1},~x_{0}^{3}x_{1}^{58},~\\text{etc.}\n",
        "}\n",
        "$$"
      ]
    },
    {
      "cell_type": "markdown",
      "metadata": {
        "editable": true,
        "id": "V3UyKaYr9eDd",
        "tags": []
      },
      "source": [
        "Rozwiązanie tego problemu wygląda następująco:\n",
        "\n",
        "* wielowymiarowe dane redukujemy do jednej liczby, obliczając sumę ważoną z dodatkowym członem przesuwającym wartość sumy (ang. `bias`)\n",
        "\n",
        "$$\n",
        "\\huge{\n",
        "\\sum_{i} w_{i}x_{i} + b\n",
        "}\n",
        "$$\n",
        "\n",
        "* wynik sumy podajemy na wejściu do względnie prostej funkcji, która zwraca jedną wartość - **funkcji aktywacji** (ang. `activation function`):\n",
        "\n",
        "$$\n",
        "\\huge{\n",
        "A(\\sum_{i} w_{i}x_{i} + b)\n",
        "}\n",
        "$$   "
      ]
    },
    {
      "cell_type": "markdown",
      "metadata": {
        "editable": true,
        "id": "XmOy0c-m9eDe",
        "tags": []
      },
      "source": [
        "* funkcje aktywacji pełnią rolę bazy - różnią się między sobą. Różnica jest zwykle sparametryzowana.\n",
        "\n",
        "$$\n",
        "\\huge{\n",
        "A(x,  \\mathbf{\\theta} = \\{w_{i}, b\\})\n",
        "}\n",
        "$$\n",
        "\n",
        "* wyjście może być traktowane jako wejście do kolejnej \"rundy\" - innych funkcji aktywacji\n",
        "\n",
        "* **funkcje bazy w której rozwijamy nieznaną funkcję opisującą dane są zadane przez strukturę przepływu danych - połączenia\n",
        "  między funkcjami aktywacji.** Nie znamy analitycznej postaci funkcji bazy."
      ]
    },
    {
      "cell_type": "markdown",
      "metadata": {
        "editable": true,
        "id": "X8J_QlKD9eDf",
        "tags": []
      },
      "source": [
        "<div>\n",
        "<img src=\"attachment:e76ce2ec-504a-4ee7-9f9c-b253318e4dbf.png\" align=\"center\", width=1000/>\n",
        "</div>"
      ]
    },
    {
      "cell_type": "markdown",
      "metadata": {
        "editable": true,
        "id": "2G3HZN5l9eDg",
        "tags": []
      },
      "source": [
        "## Dlaczego architektura w pełni połączona działa?\n",
        "\n",
        "# Twierdzenie o uniwersalnym aproksymatorze [Cybenko, 1989](https://link.springer.com/article/10.1007/BF02551274):\n",
        "\n",
        "Zdefiniujmy ``neuron``, funkcję $R^{n} \\rightarrow R$:\n",
        "$$\n",
        "\\huge{\n",
        " f(\\theta, x) = A(\\sum_{i=1}^{N} \\theta_{i} x_{i} + \\theta_{0})\n",
        "}\n",
        "$$\n",
        "\n",
        "gdzie `A` - to funkcja aktywacji - dowolna, nie będąca wielomianem, funkcja która spełnia warunki:\n",
        "\n",
        "$$\n",
        "\\huge{\n",
        " \\lim_{x\\rightarrow -\\infty} f(x) \\rightarrow 0 \\\\\n",
        " \\lim_{x\\rightarrow +\\infty} f(x) \\rightarrow 1 \\\\\n",
        "}\n",
        "$$"
      ]
    },
    {
      "cell_type": "markdown",
      "metadata": {
        "editable": true,
        "id": "z1RmelCA9eDh",
        "tags": []
      },
      "source": [
        "**Twierdzenie:** Każda ciągła funkcja $R^{n} \\rightarrow R$ może być przybliżona w bazie `neuronów` (= jedna warstwa neuronów).\n",
        "\n",
        "$$\n",
        "\\huge{\n",
        "y(x) \\simeq \\sum_{k} w_{k} f_{k}(\\theta_{k}, x)\n",
        "}\n",
        "$$"
      ]
    },
    {
      "cell_type": "markdown",
      "metadata": {
        "editable": true,
        "id": "n-OlltRB9eDi",
        "tags": []
      },
      "source": [
        "Od 1989 roku udowodniono wiele wariantów twierdzenia o uniwersalnym aproksymatorze, w tym twierdzenia z innymi warunkami na funkcję aktywacji.\n",
        "\n",
        "* w warstwach ukrytych najbardziej popularną funkcją aktywacji jest **ReLU**\n",
        "* w warstwie wyjściowej zwracającej prawdopodobieństwo jest używana funkcja **sigmoid** lub **softmax** - jej znormalizowany wariant dla n>2 kategorii:\n",
        "$$\n",
        "  \\huge{\n",
        "    \\sigma(\\mathbf{x})_{k} = \\frac{e^{\\mathbf{w}_{k}\\mathbf{x} + b_{k}}}{\\sum_{i=0}^{n-1} e^{\\mathbf{w}_{i}\\mathbf{x} + b_{i}}}\n",
        "  }\n",
        "$$\n",
        "gdzie $\\mathbf{w}_{i}$, $\\mathbf{b}_{i}$ to wagi odpowiadające i-tej kategorii"
      ]
    },
    {
      "cell_type": "markdown",
      "metadata": {
        "editable": true,
        "id": "GMCdpqtV9eDi",
        "tags": []
      },
      "source": [
        "**Proszę:**\n",
        "\n",
        "* stworzyć rysunek z trzema panelami w rzędzie\n",
        "* na kolejnych panelach narysować wykresy funkcji aktywacji: `sigmoid`, `tanh`, `relu`\n",
        "* proszę zadbać o tę samą skalę na wszystkich panelach\n",
        "* wartości funkcji proszę obliczyć korzystając z funkcji w module `tf.keras.activations`:\n",
        "  ```Python\n",
        "  \n",
        "  sigmoid = tf.keras.activations.sigmoid(x)\n",
        "  tanh = tf.keras.activations.tanh(x)\n",
        "  relu = tf.keras.activations.relu(x)\n",
        "  ```"
      ]
    },
    {
      "cell_type": "code",
      "execution_count": 2,
      "metadata": {
        "editable": true,
        "id": "chnPxI4b9eDj",
        "tags": []
      },
      "outputs": [
        {
          "name": "stderr",
          "output_type": "stream",
          "text": [
            "2025-03-19 10:33:45.668612: E external/local_xla/xla/stream_executor/cuda/cuda_driver.cc:274] failed call to cuInit: UNKNOWN ERROR (34)\n"
          ]
        },
        {
          "data": {
            "image/png": "[encoded data removed]",
            "text/plain": [
              "<Figure size 1200x400 with 3 Axes>"
            ]
          },
          "metadata": {},
          "output_type": "display_data"
        }
      ],
      "source": [
        "#BEGIN_SOLUTION\n",
        "fig, axes = plt.subplots(1,3, figsize=(12, 4))\n",
        "\n",
        "x = np.linspace(-3,3,100)\n",
        "\n",
        "sigmoid = tf.keras.activations.sigmoid(x)\n",
        "tanh = tf.keras.activations.tanh(x)\n",
        "relu = tf.keras.activations.relu(x)\n",
        "\n",
        "axes[0].plot(x, sigmoid, label=\"sigmoid\")\n",
        "axes[0].set_xlabel(\"x\")\n",
        "axes[0].set_ylabel(\"\")\n",
        "axes[0].set_ylim([0,1.1])\n",
        "axes[0].legend()\n",
        "\n",
        "axes[1].plot(x, tanh, label=\"tanh\")\n",
        "axes[1].set_xlabel(\"x\")\n",
        "axes[1].set_ylabel(\"\")\n",
        "axes[1].set_ylim([-1.0,1.1])\n",
        "axes[1].legend()\n",
        "\n",
        "axes[2].plot(x, relu, label=\"ReLu\")\n",
        "axes[2].set_xlabel(\"x\")\n",
        "axes[2].set_ylabel(\"\")\n",
        "axes[2].set_ylim([0,1.1])\n",
        "axes[2].legend();\n",
        "plt.subplots_adjust(bottom=0.15, left=0.05, right=0.95, wspace=0.3)\n",
        "#END_SOLUTION\n",
        "pass"
      ]
    },
    {
      "cell_type": "markdown",
      "metadata": {
        "editable": true,
        "id": "NkUy2DO29eDk",
        "tags": []
      },
      "source": [
        "Uczenie maszynowe generalnie składa się z następujących etapów:\n",
        "\n",
        "* **definicja** - wyrażenie zagadnienia w kontekście poszukiwania funkcji opisującej dane. Np. GPT (ten z chatGPT) określa prawdopodobieństwo następnego słowa w ciągu tekstu\n",
        "* **definicja architektury** - określenie sposobu przepływu danych między wejściem a wyjściem.\n",
        "  Standardowe architektury składają się z **warstw** ang. `layers`:\n",
        "    * **wejściowej** - ang. `input layer`\n",
        "    * **ukrytych** - ang. `hidden layers`\n",
        "    * **wyjściowej** - ang. `output layer`\n",
        "* **trening** - znajdowanie wartości parametrów funkcji aktywacji i wag w procesie wstecznej propagacji gradientu funkcji straty\n",
        "* **testowanie** - ang. `testing, evaluation, validation` - oszacowania stopnia **generalizacji** modelu, czyli jak dobrze model się sprawuje w przypadku danych, które nie były używane do znajdowania parametrów modelu, czyli treningu"
      ]
    },
    {
      "cell_type": "markdown",
      "metadata": {
        "editable": true,
        "id": "RqZ0QpKD9eDl",
        "tags": []
      },
      "source": [
        "Na rynku jest wiele pakietów, które dostarczają narzędzi potrzebnych do tworzenia, trenowania i testowania modeli uczenia maszynowego. Dominujące to:\n",
        "\n",
        "<br></br>\n",
        "\n",
        "<a href=\"https://www.tensorflow.org\">\n",
        "<img border=\"0\" alt=\"TensorFlow\"\n",
        "    src=\"attachment:a7092520-0e00-4f5d-83a2-4eb6b4fca438.png\"    \n",
        "    width=\"400\" height=\"400\" align=\"left\">\n",
        "</a>\n",
        "\n",
        "zaawansowany pakiet do uczenia maszynowego rozwijany przez firmę Google. Definicja i trening modeli mogą być wykonane za pomocą interfejsu (Application Programming Interface, API) [Keras](https://keras.io/).\n",
        "**Uwaga**: API Keras pozwala na użycie różnych środowisk wykonawczych: TensorFlow, PyTorch, JAX\n",
        "\n",
        "<br></br>\n",
        "\n",
        "<a href=\"https://pytorch.org/\">\n",
        "<img border=\"0\" alt=\"PyTorch\"\n",
        "    src=\"attachment:9a6b4c13-fd50-4303-a4cf-7c572fe77fcb.png\"\n",
        "    width=\"400\" height=\"400\" align=\"left\">\n",
        "</a>\n",
        "\n",
        "zaawansowany pakiet do uczenia maszynowego stworzony przez MetaAI, obecnie pod kuratelą Linux Foundation\n",
        "\n",
        "<br></br>\n",
        "\n",
        "<a href=\"https://scikit-learn.org/stable/\">\n",
        "<img border=\"0\" alt=\"scikit-learn\"\n",
        "    src=\"attachment:114c20c2-2b0a-4cab-a0cd-cad08dc59aff.png\"\n",
        "    width=\"400\" height=\"400\" align=\"left\">\n",
        "</a>\n",
        "\n",
        "pakiet do uczenia maszynowego rozwijany przez niezależny zespół. Zawiera wiele gotowych rozwiązań i przykładów z zakresu uczenia maszynowego i analizy danych\n"
      ]
    },
    {
      "cell_type": "markdown",
      "metadata": {
        "editable": true,
        "id": "Fb2sTfZs9eDl",
        "tags": []
      },
      "source": [
        "<img border=\"0\" alt=\"ML frameworks usage\"\n",
        "    src=\"attachment:91d25b17-f0aa-4343-8f1e-ffe870fbfdd8.png\">\n",
        "<br>\n",
        "<a href=\"https://www.kaggle.com/kaggle-survey-2022\">\n",
        "    Źródło: https://www.kaggle.com/kaggle-survey-2022\n",
        "</a>"
      ]
    },
    {
      "cell_type": "markdown",
      "metadata": {
        "editable": true,
        "id": "o3l55Tze9eDm",
        "tags": []
      },
      "source": [
        "W trakcje zajęć będziemy głównie korzystali z biblioteki TensorFlow z interfejsem Keras.\n",
        "Zacznijmy od stworzenia modelu, który będzie zawierał podstawowe warstwy:\n",
        "\n",
        "**wejściową:**\n",
        "\n",
        "```Python\n",
        "input = tf.keras.Input(shape=(inputShape,), name=\"features\")\n",
        "```\n",
        "\n",
        "**ukrytą:**,\n",
        "\n",
        "```Python\n",
        "layer = tf.keras.layers.Dense(nHiddenNeurons, activation=activation, name=\"layer_{}\".format(iLayer))(x)\n",
        "```\n",
        "\n",
        "**wyjściową:**\n",
        "\n",
        "```Python\n",
        "outputs = tf.keras.layers.Dense(nOutputNeurons, activation=activation, name=\"outputs\")(x)\n",
        "```"
      ]
    },
    {
      "cell_type": "markdown",
      "metadata": {
        "editable": true,
        "id": "agNr9z5y9eDm",
        "tags": []
      },
      "source": [
        "Wejście z wyjściem jest połączone wewnątrz klasy `tf.keras.model`:\n",
        "```Python\n",
        "\n",
        "model = tf.keras.Model(inputs=inputs, outputs=outputs, name=\"DNN\")\n",
        "```\n",
        "\n",
        "Wagi warstwy są dostępne poprzez pole `weights`:\n",
        "```Python\n",
        "layer.weights\n",
        "```\n",
        "\n",
        "**Uwaga:** obciążenie, `bias` jest podawane jako osobny element listy zwracanej przez pole `weights`"
      ]
    },
    {
      "cell_type": "code",
      "execution_count": 4,
      "metadata": {
        "editable": true,
        "id": "uPHr4yp69eDn",
        "tags": []
      },
      "outputs": [
        {
          "name": "stdout",
          "output_type": "stream",
          "text": [
            "Model: \"DNN\"\n",
            "_________________________________________________________________\n",
            " Layer (type)                Output Shape              Param #   \n",
            "=================================================================\n",
            " features (InputLayer)       [(None, 4)]               0         \n",
            "                                                                 \n",
            " layer_1 (Dense)             (None, 3)                 15        \n",
            "                                                                 \n",
            " output (Dense)              (None, 1)                 4         \n",
            "                                                                 \n",
            "=================================================================\n",
            "Total params: 19 (76.00 Byte)\n",
            "Trainable params: 19 (76.00 Byte)\n",
            "Non-trainable params: 0 (0.00 Byte)\n",
            "_________________________________________________________________\n",
            "\u001b[34mModel weights:\u001b[0m [<tf.Variable 'layer_1/kernel:0' shape=(4, 3) dtype=float32, numpy=\n",
            "array([[-0.85520923,  0.5878457 ,  0.01315874],\n",
            "       [-0.07316297, -0.6276537 ,  0.3911357 ],\n",
            "       [-0.1523698 ,  0.4178263 ,  0.47720003],\n",
            "       [ 0.25161433, -0.5816128 , -0.7948329 ]], dtype=float32)>, <tf.Variable 'layer_1/bias:0' shape=(3,) dtype=float32, numpy=array([0., 0., 0.], dtype=float32)>]\n"
          ]
        }
      ],
      "source": [
        "nInputs = 4\n",
        "nHidenNeurons = 3\n",
        "nOutputNeurons = 1\n",
        "\n",
        "inputs = tf.keras.Input(shape=(nInputs,), name=\"features\")\n",
        "\n",
        "iLayer = 1\n",
        "layer = tf.keras.layers.Dense(nHidenNeurons,\n",
        "                              name=\"layer_{}\".format(iLayer))(inputs)\n",
        "\n",
        "outputs = tf.keras.layers.Dense(nOutputNeurons, name = \"output\")(layer)\n",
        "\n",
        "model = tf.keras.Model(inputs=inputs, outputs=outputs, name=\"DNN\")\n",
        "\n",
        "model.summary()\n",
        "\n",
        "print(colored(\"Model weights:\",\"blue\"),model.get_layer('layer_1').weights)"
      ]
    },
    {
      "cell_type": "markdown",
      "metadata": {
        "editable": true,
        "id": "bRGm6TJ89eDo",
        "tags": []
      },
      "source": [
        "**Proszę:**\n",
        "\n",
        "* obliczyć samodzielnie liczbę parametrów warstwy ukrytej\n",
        "\n",
        "**Wskazówka:** każdy neuron ma oddzielną wagę dla każdej zmiennej wejściowej oraz dodatkową wagę, `bias`."
      ]
    },
    {
      "cell_type": "code",
      "execution_count": 5,
      "metadata": {
        "editable": true,
        "id": "zbQuZuWl9eDo",
        "tags": []
      },
      "outputs": [
        {
          "name": "stdout",
          "output_type": "stream",
          "text": [
            "\u001b[34mNumber of weights in hidden layer:\u001b[0m 15\n"
          ]
        }
      ],
      "source": [
        "#BEGIN_SOLUTION\n",
        "nWeights = nHidenNeurons*(nInputs +1)\n",
        "print(colored(\"Number of weights in hidden layer:\",\"blue\"),nWeights)\n",
        "#END_SOLUTION\n",
        "pass"
      ]
    },
    {
      "cell_type": "markdown",
      "metadata": {
        "editable": true,
        "id": "rf0VSoV49eDp",
        "tags": []
      },
      "source": [
        "Małe modele można wizualizować korzystając z funkcji biblioteki Keras:"
      ]
    },
    {
      "cell_type": "code",
      "execution_count": 13,
      "metadata": {
        "editable": true,
        "id": "S0-w0v619eDp",
        "tags": []
      },
      "outputs": [
        {
          "data": {
            "image/png": "[encoded data removed]",
            "text/plain": [
              "<IPython.core.display.Image object>"
            ]
          },
          "execution_count": 13,
          "metadata": {},
          "output_type": "execute_result"
        }
      ],
      "source": [
        "tf.keras.utils.plot_model(model, r'/scratch/ML_model.png', show_shapes=True)"
      ]
    },
    {
      "cell_type": "markdown",
      "metadata": {
        "editable": true,
        "id": "gluyj0OK9eDp",
        "tags": []
      },
      "source": [
        "Funkcje używane w czasie treningu:\n",
        "\n",
        "* algorytm minimalizacyjny - `optimizer`\n",
        "* funkcja straty - `loss`\n",
        "* lista metryk śledzonych w czasie treningu - `metrics`\n",
        "\n",
        "są określane przy wywołaniu metody `tf.keras.model.compile`:"
      ]
    },
    {
      "cell_type": "code",
      "execution_count": null,
      "metadata": {
        "editable": true,
        "id": "FYwWXKx39eDq",
        "tags": []
      },
      "outputs": [],
      "source": [
        "lr = 0.001\n",
        "\n",
        "model.compile(optimizer=tf.keras.optimizers.Adam(learning_rate=lr),\n",
        "              loss=tf.keras.losses.MeanSquaredError(),\n",
        "              metrics=['MeanAbsolutePercentageError','RootMeanSquaredError'])"
      ]
    },
    {
      "cell_type": "markdown",
      "metadata": {
        "editable": true,
        "id": "CW1tUULa9eDq",
        "tags": []
      },
      "source": [
        "Pętla ucząca jest wywołana przez metodę `tf.keras.fit`, która przyjmuje wiele parametrów sterujących procesem treningu.\n",
        "Konieczne są dwa:\n",
        "\n",
        "* cechy i etykiety zbioru uczącego - `x, y`\n",
        "* liczba epok - `epochs`\n",
        "\n",
        "Metoda `fit` zwraca obiekt zawierający dane na temat historii uczenia - wartości metryk i funkcji straty w kolejnych epokach:\n",
        "```Python\n",
        "history = model.fit(x=x, y=y,  epochs=nEpochs, verbose=2)\n",
        "print(history.history)\n",
        "```"
      ]
    },
    {
      "cell_type": "markdown",
      "metadata": {
        "editable": true,
        "id": "I3_L0vLK9eDr",
        "tags": []
      },
      "source": [
        "**Proszę:**\n",
        "\n",
        "Skonstruować model uczenia maszynowego, który będzie obliczał kwadrat długości wektora w metryce Minkowskiego o sygnaturze `(+,-,-,-)`\n",
        "\n",
        "* model powinien być tak zbudowany by można było interpretować jego wagi\n",
        "* model przyjmuje kwadraty współrzędnych\n",
        "* jako danych uczących proszę użyć danych syntetycznych na czterowymiarowej kostce o boku `[0,1]`\n",
        "* kod powinien być podzielony na funkcje:\n",
        "    * `getFeatures(nPoints)` generacja cech\n",
        "    * `getModel(nHidenNeurons, nOutputNeurons, lr)` - tworzenie modelu\n",
        "    * `plotTrainHistory(history)` - rysowanie funkcji straty w kolejnych epokach"
      ]
    },
    {
      "cell_type": "code",
      "execution_count": 15,
      "metadata": {
        "editable": true,
        "id": "LfavW6wL9eDr",
        "tags": []
      },
      "outputs": [],
      "source": [
        "#BEGIN_SOLUTION\n",
        "def getFeatures(nPoints):\n",
        "    return tf.random.uniform((nPoints,4), 0,1)\n",
        "######################################################################\n",
        "######################################################################\n",
        "def getModel(nInputs, nHidenNeurons, nOutputNeurons, lr):\n",
        "    inputs = tf.keras.Input(shape=(nInputs,), name=\"features\")\n",
        "\n",
        "    iLayer = 1\n",
        "    layer = tf.keras.layers.Dense(nHidenNeurons,\n",
        "                                  name=\"layer_{}\".format(iLayer))(inputs)\n",
        "\n",
        "    outputs = tf.keras.layers.Dense(nOutputNeurons, name = \"output\")(layer)\n",
        "\n",
        "    model = tf.keras.Model(inputs=inputs, outputs=outputs, name=\"DNN\")\n",
        "\n",
        "    model.compile(optimizer=tf.keras.optimizers.Adam(learning_rate=lr),\n",
        "                  loss=tf.keras.losses.MeanSquaredError(),\n",
        "                  metrics=['MeanAbsolutePercentageError','RootMeanSquaredError'])\n",
        "    return model\n",
        "######################################################################\n",
        "######################################################################\n",
        "def plotTrainHistory(history):\n",
        "\n",
        "    fig, axes = plt.subplots(1,2, figsize=(7,3))\n",
        "    axes[0].plot(history.history['loss'], label = 'train')\n",
        "    axes[0].set_xlabel('Epoch')\n",
        "    axes[0].set_ylabel('Loss function')\n",
        "    axes[0].legend(loc='upper right')\n",
        "\n",
        "    axes[1].plot(history.history['loss'], label = 'train')\n",
        "    axes[1].set_xlabel('Epoch')\n",
        "    axes[1].set_ylabel('Loss function')\n",
        "    axes[1].legend(loc='upper right')\n",
        "    axes[1].set_yscale('log')\n",
        "\n",
        "    plt.subplots_adjust(bottom=0.02, left=0.02, right=0.98, wspace=0.6)\n",
        "    plt.savefig(\"fig_png/training_history.png\", bbox_inches=\"tight\")\n",
        "######################################################################\n",
        "######################################################################\n",
        "#END_SOLUTION\n",
        "pass"
      ]
    },
    {
      "cell_type": "markdown",
      "metadata": {
        "editable": true,
        "id": "Fu_s5BjN9eDs",
        "tags": []
      },
      "source": [
        "**Proszę:**\n",
        "\n",
        "* przeprowadzić trening modelu\n",
        "* wypisać na ekran wartości funkcji straty i metryk dla zadanego zbioru:\n",
        "  <br></br>\n",
        "  ```Python\n",
        "  model.evaluate(x,y)\n",
        "  ```\n",
        "  <br></br>\n",
        "* wypisać na ekran wynik działania modelu dla pojedynczego przykładu:\n",
        "  <br></br>\n",
        "  ```Python\n",
        "  model.predict([[125**2,0,0,0]])\n",
        "  ```\n",
        "  <br></br>\n",
        "* narysować ewolucję funkcji straty w skalach liniowej i logarytmicznej\n",
        "* wypisać na ekran i zinterpretować wagi modelu"
      ]
    },
    {
      "cell_type": "code",
      "execution_count": null,
      "metadata": {
        "editable": true,
        "id": "6IqucWUw9eDs",
        "tags": []
      },
      "outputs": [
        {
          "name": "stdout",
          "output_type": "stream",
          "text": [
            "313/313 [==============================] - 2s 4ms/step - loss: 4.5584e-11 - mean_absolute_percentage_error: 0.0022 - root_mean_squared_error: 6.7516e-06\n",
            "1/1 [==============================] - 0s 139ms/step\n",
            "\u001b[34mModel response for:\u001b[0m [[15625     0     0     0]] [[15625.031]]\n"
          ]
        },
        {
          "ename": "FileNotFoundError",
          "evalue": "[Errno 2] No such file or directory: 'fig_png/training_history.png'",
          "output_type": "error",
          "traceback": [
            "\u001b[0;31m---------------------------------------------------------------------------\u001b[0m",
            "\u001b[0;31mFileNotFoundError\u001b[0m                         Traceback (most recent call last)",
            "Cell \u001b[0;32mIn[16], line 24\u001b[0m\n\u001b[1;32m     21\u001b[0m x_test \u001b[38;5;241m=\u001b[39m np\u001b[38;5;241m.\u001b[39marray([[\u001b[38;5;241m125\u001b[39m\u001b[38;5;241m*\u001b[39m\u001b[38;5;241m*\u001b[39m\u001b[38;5;241m2\u001b[39m,\u001b[38;5;241m0\u001b[39m,\u001b[38;5;241m0\u001b[39m,\u001b[38;5;241m0\u001b[39m]])\n\u001b[1;32m     22\u001b[0m \u001b[38;5;28mprint\u001b[39m(colored(\u001b[38;5;124m\"\u001b[39m\u001b[38;5;124mModel response for:\u001b[39m\u001b[38;5;124m\"\u001b[39m,\u001b[38;5;124m\"\u001b[39m\u001b[38;5;124mblue\u001b[39m\u001b[38;5;124m\"\u001b[39m),x_test,model\u001b[38;5;241m.\u001b[39mpredict(x_test))\n\u001b[0;32m---> 24\u001b[0m \u001b[43mplotTrainHistory\u001b[49m\u001b[43m(\u001b[49m\u001b[43mhistory\u001b[49m\u001b[43m)\u001b[49m\n\u001b[1;32m     26\u001b[0m \u001b[38;5;28mprint\u001b[39m(colored(\u001b[38;5;124m\"\u001b[39m\u001b[38;5;124mModel weights:\u001b[39m\u001b[38;5;124m\"\u001b[39m,\u001b[38;5;124m\"\u001b[39m\u001b[38;5;124mblue\u001b[39m\u001b[38;5;124m\"\u001b[39m))\n\u001b[1;32m     27\u001b[0m \u001b[38;5;28mprint\u001b[39m(colored(\u001b[38;5;124m\"\u001b[39m\u001b[38;5;124mlayer_0:\u001b[39m\u001b[38;5;124m\"\u001b[39m,\u001b[38;5;124m\"\u001b[39m\u001b[38;5;124mblue\u001b[39m\u001b[38;5;124m\"\u001b[39m), model\u001b[38;5;241m.\u001b[39mget_layer(\u001b[38;5;124m'\u001b[39m\u001b[38;5;124mlayer_1\u001b[39m\u001b[38;5;124m'\u001b[39m)\u001b[38;5;241m.\u001b[39mweights[\u001b[38;5;241m0\u001b[39m]\u001b[38;5;241m.\u001b[39mnumpy()[:,\u001b[38;5;241m0\u001b[39m])\n",
            "Cell \u001b[0;32mIn[15], line 38\u001b[0m, in \u001b[0;36mplotTrainHistory\u001b[0;34m(history)\u001b[0m\n\u001b[1;32m     35\u001b[0m axes[\u001b[38;5;241m1\u001b[39m]\u001b[38;5;241m.\u001b[39mset_yscale(\u001b[38;5;124m'\u001b[39m\u001b[38;5;124mlog\u001b[39m\u001b[38;5;124m'\u001b[39m)\n\u001b[1;32m     37\u001b[0m plt\u001b[38;5;241m.\u001b[39msubplots_adjust(bottom\u001b[38;5;241m=\u001b[39m\u001b[38;5;241m0.02\u001b[39m, left\u001b[38;5;241m=\u001b[39m\u001b[38;5;241m0.02\u001b[39m, right\u001b[38;5;241m=\u001b[39m\u001b[38;5;241m0.98\u001b[39m, wspace\u001b[38;5;241m=\u001b[39m\u001b[38;5;241m0.6\u001b[39m)\n\u001b[0;32m---> 38\u001b[0m \u001b[43mplt\u001b[49m\u001b[38;5;241;43m.\u001b[39;49m\u001b[43msavefig\u001b[49m\u001b[43m(\u001b[49m\u001b[38;5;124;43m\"\u001b[39;49m\u001b[38;5;124;43mfig_png/training_history.png\u001b[39;49m\u001b[38;5;124;43m\"\u001b[39;49m\u001b[43m,\u001b[49m\u001b[43m \u001b[49m\u001b[43mbbox_inches\u001b[49m\u001b[38;5;241;43m=\u001b[39;49m\u001b[38;5;124;43m\"\u001b[39;49m\u001b[38;5;124;43mtight\u001b[39;49m\u001b[38;5;124;43m\"\u001b[39;49m\u001b[43m)\u001b[49m\n",
            "File \u001b[0;32m/usr/local/lib/python3.11/dist-packages/matplotlib/pyplot.py:1134\u001b[0m, in \u001b[0;36msavefig\u001b[0;34m(*args, **kwargs)\u001b[0m\n\u001b[1;32m   1131\u001b[0m fig \u001b[38;5;241m=\u001b[39m gcf()\n\u001b[1;32m   1132\u001b[0m \u001b[38;5;66;03m# savefig default implementation has no return, so mypy is unhappy\u001b[39;00m\n\u001b[1;32m   1133\u001b[0m \u001b[38;5;66;03m# presumably this is here because subclasses can return?\u001b[39;00m\n\u001b[0;32m-> 1134\u001b[0m res \u001b[38;5;241m=\u001b[39m \u001b[43mfig\u001b[49m\u001b[38;5;241;43m.\u001b[39;49m\u001b[43msavefig\u001b[49m\u001b[43m(\u001b[49m\u001b[38;5;241;43m*\u001b[39;49m\u001b[43margs\u001b[49m\u001b[43m,\u001b[49m\u001b[43m \u001b[49m\u001b[38;5;241;43m*\u001b[39;49m\u001b[38;5;241;43m*\u001b[39;49m\u001b[43mkwargs\u001b[49m\u001b[43m)\u001b[49m  \u001b[38;5;66;03m# type: ignore[func-returns-value]\u001b[39;00m\n\u001b[1;32m   1135\u001b[0m fig\u001b[38;5;241m.\u001b[39mcanvas\u001b[38;5;241m.\u001b[39mdraw_idle()  \u001b[38;5;66;03m# Need this if 'transparent=True', to reset colors.\u001b[39;00m\n\u001b[1;32m   1136\u001b[0m \u001b[38;5;28;01mreturn\u001b[39;00m res\n",
            "File \u001b[0;32m/usr/local/lib/python3.11/dist-packages/matplotlib/figure.py:3390\u001b[0m, in \u001b[0;36mFigure.savefig\u001b[0;34m(self, fname, transparent, **kwargs)\u001b[0m\n\u001b[1;32m   3388\u001b[0m     \u001b[38;5;28;01mfor\u001b[39;00m ax \u001b[38;5;129;01min\u001b[39;00m \u001b[38;5;28mself\u001b[39m\u001b[38;5;241m.\u001b[39maxes:\n\u001b[1;32m   3389\u001b[0m         _recursively_make_axes_transparent(stack, ax)\n\u001b[0;32m-> 3390\u001b[0m \u001b[38;5;28;43mself\u001b[39;49m\u001b[38;5;241;43m.\u001b[39;49m\u001b[43mcanvas\u001b[49m\u001b[38;5;241;43m.\u001b[39;49m\u001b[43mprint_figure\u001b[49m\u001b[43m(\u001b[49m\u001b[43mfname\u001b[49m\u001b[43m,\u001b[49m\u001b[43m \u001b[49m\u001b[38;5;241;43m*\u001b[39;49m\u001b[38;5;241;43m*\u001b[39;49m\u001b[43mkwargs\u001b[49m\u001b[43m)\u001b[49m\n",
            "File \u001b[0;32m/usr/local/lib/python3.11/dist-packages/matplotlib/backend_bases.py:2193\u001b[0m, in \u001b[0;36mFigureCanvasBase.print_figure\u001b[0;34m(self, filename, dpi, facecolor, edgecolor, orientation, format, bbox_inches, pad_inches, bbox_extra_artists, backend, **kwargs)\u001b[0m\n\u001b[1;32m   2189\u001b[0m \u001b[38;5;28;01mtry\u001b[39;00m:\n\u001b[1;32m   2190\u001b[0m     \u001b[38;5;66;03m# _get_renderer may change the figure dpi (as vector formats\u001b[39;00m\n\u001b[1;32m   2191\u001b[0m     \u001b[38;5;66;03m# force the figure dpi to 72), so we need to set it again here.\u001b[39;00m\n\u001b[1;32m   2192\u001b[0m     \u001b[38;5;28;01mwith\u001b[39;00m cbook\u001b[38;5;241m.\u001b[39m_setattr_cm(\u001b[38;5;28mself\u001b[39m\u001b[38;5;241m.\u001b[39mfigure, dpi\u001b[38;5;241m=\u001b[39mdpi):\n\u001b[0;32m-> 2193\u001b[0m         result \u001b[38;5;241m=\u001b[39m \u001b[43mprint_method\u001b[49m\u001b[43m(\u001b[49m\n\u001b[1;32m   2194\u001b[0m \u001b[43m            \u001b[49m\u001b[43mfilename\u001b[49m\u001b[43m,\u001b[49m\n\u001b[1;32m   2195\u001b[0m \u001b[43m            \u001b[49m\u001b[43mfacecolor\u001b[49m\u001b[38;5;241;43m=\u001b[39;49m\u001b[43mfacecolor\u001b[49m\u001b[43m,\u001b[49m\n\u001b[1;32m   2196\u001b[0m \u001b[43m            \u001b[49m\u001b[43medgecolor\u001b[49m\u001b[38;5;241;43m=\u001b[39;49m\u001b[43medgecolor\u001b[49m\u001b[43m,\u001b[49m\n\u001b[1;32m   2197\u001b[0m \u001b[43m            \u001b[49m\u001b[43morientation\u001b[49m\u001b[38;5;241;43m=\u001b[39;49m\u001b[43morientation\u001b[49m\u001b[43m,\u001b[49m\n\u001b[1;32m   2198\u001b[0m \u001b[43m            \u001b[49m\u001b[43mbbox_inches_restore\u001b[49m\u001b[38;5;241;43m=\u001b[39;49m\u001b[43m_bbox_inches_restore\u001b[49m\u001b[43m,\u001b[49m\n\u001b[1;32m   2199\u001b[0m \u001b[43m            \u001b[49m\u001b[38;5;241;43m*\u001b[39;49m\u001b[38;5;241;43m*\u001b[39;49m\u001b[43mkwargs\u001b[49m\u001b[43m)\u001b[49m\n\u001b[1;32m   2200\u001b[0m \u001b[38;5;28;01mfinally\u001b[39;00m:\n\u001b[1;32m   2201\u001b[0m     \u001b[38;5;28;01mif\u001b[39;00m bbox_inches \u001b[38;5;129;01mand\u001b[39;00m restore_bbox:\n",
            "File \u001b[0;32m/usr/local/lib/python3.11/dist-packages/matplotlib/backend_bases.py:2043\u001b[0m, in \u001b[0;36mFigureCanvasBase._switch_canvas_and_return_print_method.<locals>.<lambda>\u001b[0;34m(*args, **kwargs)\u001b[0m\n\u001b[1;32m   2039\u001b[0m     optional_kws \u001b[38;5;241m=\u001b[39m {  \u001b[38;5;66;03m# Passed by print_figure for other renderers.\u001b[39;00m\n\u001b[1;32m   2040\u001b[0m         \u001b[38;5;124m\"\u001b[39m\u001b[38;5;124mdpi\u001b[39m\u001b[38;5;124m\"\u001b[39m, \u001b[38;5;124m\"\u001b[39m\u001b[38;5;124mfacecolor\u001b[39m\u001b[38;5;124m\"\u001b[39m, \u001b[38;5;124m\"\u001b[39m\u001b[38;5;124medgecolor\u001b[39m\u001b[38;5;124m\"\u001b[39m, \u001b[38;5;124m\"\u001b[39m\u001b[38;5;124morientation\u001b[39m\u001b[38;5;124m\"\u001b[39m,\n\u001b[1;32m   2041\u001b[0m         \u001b[38;5;124m\"\u001b[39m\u001b[38;5;124mbbox_inches_restore\u001b[39m\u001b[38;5;124m\"\u001b[39m}\n\u001b[1;32m   2042\u001b[0m     skip \u001b[38;5;241m=\u001b[39m optional_kws \u001b[38;5;241m-\u001b[39m {\u001b[38;5;241m*\u001b[39minspect\u001b[38;5;241m.\u001b[39msignature(meth)\u001b[38;5;241m.\u001b[39mparameters}\n\u001b[0;32m-> 2043\u001b[0m     print_method \u001b[38;5;241m=\u001b[39m functools\u001b[38;5;241m.\u001b[39mwraps(meth)(\u001b[38;5;28;01mlambda\u001b[39;00m \u001b[38;5;241m*\u001b[39margs, \u001b[38;5;241m*\u001b[39m\u001b[38;5;241m*\u001b[39mkwargs: \u001b[43mmeth\u001b[49m\u001b[43m(\u001b[49m\n\u001b[1;32m   2044\u001b[0m \u001b[43m        \u001b[49m\u001b[38;5;241;43m*\u001b[39;49m\u001b[43margs\u001b[49m\u001b[43m,\u001b[49m\u001b[43m \u001b[49m\u001b[38;5;241;43m*\u001b[39;49m\u001b[38;5;241;43m*\u001b[39;49m\u001b[43m{\u001b[49m\u001b[43mk\u001b[49m\u001b[43m:\u001b[49m\u001b[43m \u001b[49m\u001b[43mv\u001b[49m\u001b[43m \u001b[49m\u001b[38;5;28;43;01mfor\u001b[39;49;00m\u001b[43m \u001b[49m\u001b[43mk\u001b[49m\u001b[43m,\u001b[49m\u001b[43m \u001b[49m\u001b[43mv\u001b[49m\u001b[43m \u001b[49m\u001b[38;5;129;43;01min\u001b[39;49;00m\u001b[43m \u001b[49m\u001b[43mkwargs\u001b[49m\u001b[38;5;241;43m.\u001b[39;49m\u001b[43mitems\u001b[49m\u001b[43m(\u001b[49m\u001b[43m)\u001b[49m\u001b[43m \u001b[49m\u001b[38;5;28;43;01mif\u001b[39;49;00m\u001b[43m \u001b[49m\u001b[43mk\u001b[49m\u001b[43m \u001b[49m\u001b[38;5;129;43;01mnot\u001b[39;49;00m\u001b[43m \u001b[49m\u001b[38;5;129;43;01min\u001b[39;49;00m\u001b[43m \u001b[49m\u001b[43mskip\u001b[49m\u001b[43m}\u001b[49m\u001b[43m)\u001b[49m)\n\u001b[1;32m   2045\u001b[0m \u001b[38;5;28;01melse\u001b[39;00m:  \u001b[38;5;66;03m# Let third-parties do as they see fit.\u001b[39;00m\n\u001b[1;32m   2046\u001b[0m     print_method \u001b[38;5;241m=\u001b[39m meth\n",
            "File \u001b[0;32m/usr/local/lib/python3.11/dist-packages/matplotlib/backends/backend_agg.py:497\u001b[0m, in \u001b[0;36mFigureCanvasAgg.print_png\u001b[0;34m(self, filename_or_obj, metadata, pil_kwargs)\u001b[0m\n\u001b[1;32m    450\u001b[0m \u001b[38;5;28;01mdef\u001b[39;00m \u001b[38;5;21mprint_png\u001b[39m(\u001b[38;5;28mself\u001b[39m, filename_or_obj, \u001b[38;5;241m*\u001b[39m, metadata\u001b[38;5;241m=\u001b[39m\u001b[38;5;28;01mNone\u001b[39;00m, pil_kwargs\u001b[38;5;241m=\u001b[39m\u001b[38;5;28;01mNone\u001b[39;00m):\n\u001b[1;32m    451\u001b[0m \u001b[38;5;250m    \u001b[39m\u001b[38;5;124;03m\"\"\"\u001b[39;00m\n\u001b[1;32m    452\u001b[0m \u001b[38;5;124;03m    Write the figure to a PNG file.\u001b[39;00m\n\u001b[1;32m    453\u001b[0m \n\u001b[0;32m   (...)\u001b[0m\n\u001b[1;32m    495\u001b[0m \u001b[38;5;124;03m        *metadata*, including the default 'Software' key.\u001b[39;00m\n\u001b[1;32m    496\u001b[0m \u001b[38;5;124;03m    \"\"\"\u001b[39;00m\n\u001b[0;32m--> 497\u001b[0m     \u001b[38;5;28;43mself\u001b[39;49m\u001b[38;5;241;43m.\u001b[39;49m\u001b[43m_print_pil\u001b[49m\u001b[43m(\u001b[49m\u001b[43mfilename_or_obj\u001b[49m\u001b[43m,\u001b[49m\u001b[43m \u001b[49m\u001b[38;5;124;43m\"\u001b[39;49m\u001b[38;5;124;43mpng\u001b[39;49m\u001b[38;5;124;43m\"\u001b[39;49m\u001b[43m,\u001b[49m\u001b[43m \u001b[49m\u001b[43mpil_kwargs\u001b[49m\u001b[43m,\u001b[49m\u001b[43m \u001b[49m\u001b[43mmetadata\u001b[49m\u001b[43m)\u001b[49m\n",
            "File \u001b[0;32m/usr/local/lib/python3.11/dist-packages/matplotlib/backends/backend_agg.py:446\u001b[0m, in \u001b[0;36mFigureCanvasAgg._print_pil\u001b[0;34m(self, filename_or_obj, fmt, pil_kwargs, metadata)\u001b[0m\n\u001b[1;32m    441\u001b[0m \u001b[38;5;250m\u001b[39m\u001b[38;5;124;03m\"\"\"\u001b[39;00m\n\u001b[1;32m    442\u001b[0m \u001b[38;5;124;03mDraw the canvas, then save it using `.image.imsave` (to which\u001b[39;00m\n\u001b[1;32m    443\u001b[0m \u001b[38;5;124;03m*pil_kwargs* and *metadata* are forwarded).\u001b[39;00m\n\u001b[1;32m    444\u001b[0m \u001b[38;5;124;03m\"\"\"\u001b[39;00m\n\u001b[1;32m    445\u001b[0m FigureCanvasAgg\u001b[38;5;241m.\u001b[39mdraw(\u001b[38;5;28mself\u001b[39m)\n\u001b[0;32m--> 446\u001b[0m \u001b[43mmpl\u001b[49m\u001b[38;5;241;43m.\u001b[39;49m\u001b[43mimage\u001b[49m\u001b[38;5;241;43m.\u001b[39;49m\u001b[43mimsave\u001b[49m\u001b[43m(\u001b[49m\n\u001b[1;32m    447\u001b[0m \u001b[43m    \u001b[49m\u001b[43mfilename_or_obj\u001b[49m\u001b[43m,\u001b[49m\u001b[43m \u001b[49m\u001b[38;5;28;43mself\u001b[39;49m\u001b[38;5;241;43m.\u001b[39;49m\u001b[43mbuffer_rgba\u001b[49m\u001b[43m(\u001b[49m\u001b[43m)\u001b[49m\u001b[43m,\u001b[49m\u001b[43m \u001b[49m\u001b[38;5;28;43mformat\u001b[39;49m\u001b[38;5;241;43m=\u001b[39;49m\u001b[43mfmt\u001b[49m\u001b[43m,\u001b[49m\u001b[43m \u001b[49m\u001b[43morigin\u001b[49m\u001b[38;5;241;43m=\u001b[39;49m\u001b[38;5;124;43m\"\u001b[39;49m\u001b[38;5;124;43mupper\u001b[39;49m\u001b[38;5;124;43m\"\u001b[39;49m\u001b[43m,\u001b[49m\n\u001b[1;32m    448\u001b[0m \u001b[43m    \u001b[49m\u001b[43mdpi\u001b[49m\u001b[38;5;241;43m=\u001b[39;49m\u001b[38;5;28;43mself\u001b[39;49m\u001b[38;5;241;43m.\u001b[39;49m\u001b[43mfigure\u001b[49m\u001b[38;5;241;43m.\u001b[39;49m\u001b[43mdpi\u001b[49m\u001b[43m,\u001b[49m\u001b[43m \u001b[49m\u001b[43mmetadata\u001b[49m\u001b[38;5;241;43m=\u001b[39;49m\u001b[43mmetadata\u001b[49m\u001b[43m,\u001b[49m\u001b[43m \u001b[49m\u001b[43mpil_kwargs\u001b[49m\u001b[38;5;241;43m=\u001b[39;49m\u001b[43mpil_kwargs\u001b[49m\u001b[43m)\u001b[49m\n",
            "File \u001b[0;32m/usr/local/lib/python3.11/dist-packages/matplotlib/image.py:1656\u001b[0m, in \u001b[0;36mimsave\u001b[0;34m(fname, arr, vmin, vmax, cmap, format, origin, dpi, metadata, pil_kwargs)\u001b[0m\n\u001b[1;32m   1654\u001b[0m pil_kwargs\u001b[38;5;241m.\u001b[39msetdefault(\u001b[38;5;124m\"\u001b[39m\u001b[38;5;124mformat\u001b[39m\u001b[38;5;124m\"\u001b[39m, \u001b[38;5;28mformat\u001b[39m)\n\u001b[1;32m   1655\u001b[0m pil_kwargs\u001b[38;5;241m.\u001b[39msetdefault(\u001b[38;5;124m\"\u001b[39m\u001b[38;5;124mdpi\u001b[39m\u001b[38;5;124m\"\u001b[39m, (dpi, dpi))\n\u001b[0;32m-> 1656\u001b[0m \u001b[43mimage\u001b[49m\u001b[38;5;241;43m.\u001b[39;49m\u001b[43msave\u001b[49m\u001b[43m(\u001b[49m\u001b[43mfname\u001b[49m\u001b[43m,\u001b[49m\u001b[43m \u001b[49m\u001b[38;5;241;43m*\u001b[39;49m\u001b[38;5;241;43m*\u001b[39;49m\u001b[43mpil_kwargs\u001b[49m\u001b[43m)\u001b[49m\n",
            "File \u001b[0;32m/usr/local/lib/python3.11/dist-packages/PIL/Image.py:2436\u001b[0m, in \u001b[0;36mImage.save\u001b[0;34m(self, fp, format, **params)\u001b[0m\n\u001b[1;32m   2434\u001b[0m         fp \u001b[38;5;241m=\u001b[39m builtins\u001b[38;5;241m.\u001b[39mopen(filename, \u001b[38;5;124m\"\u001b[39m\u001b[38;5;124mr+b\u001b[39m\u001b[38;5;124m\"\u001b[39m)\n\u001b[1;32m   2435\u001b[0m     \u001b[38;5;28;01melse\u001b[39;00m:\n\u001b[0;32m-> 2436\u001b[0m         fp \u001b[38;5;241m=\u001b[39m \u001b[43mbuiltins\u001b[49m\u001b[38;5;241;43m.\u001b[39;49m\u001b[43mopen\u001b[49m\u001b[43m(\u001b[49m\u001b[43mfilename\u001b[49m\u001b[43m,\u001b[49m\u001b[43m \u001b[49m\u001b[38;5;124;43m\"\u001b[39;49m\u001b[38;5;124;43mw+b\u001b[39;49m\u001b[38;5;124;43m\"\u001b[39;49m\u001b[43m)\u001b[49m\n\u001b[1;32m   2438\u001b[0m \u001b[38;5;28;01mtry\u001b[39;00m:\n\u001b[1;32m   2439\u001b[0m     save_handler(\u001b[38;5;28mself\u001b[39m, fp, filename)\n",
            "\u001b[0;31mFileNotFoundError\u001b[0m: [Errno 2] No such file or directory: 'fig_png/training_history.png'"
          ]
        },
        {
          "data": {
            "image/png": "[encoded data removed]",
            "text/plain": [
              "<Figure size 700x300 with 2 Axes>"
            ]
          },
          "metadata": {},
          "output_type": "display_data"
        }
      ],
      "source": [
        "#%%time\n",
        "##BEGIN_SOLUTION\n",
        "nInputs = 4\n",
        "nHidenNeurons = 1\n",
        "nOutputNeurons = 1\n",
        "\n",
        "nPoints = 10000\n",
        "x = getFeatures(nPoints)\n",
        "y = np.sum(x*(1,-1,-1,-1), axis=1)\n",
        "\n",
        "nInputs = 4\n",
        "nHidenNeurons = 1\n",
        "nOutputNeurons = 1\n",
        "lr = 1E-3\n",
        "model = getModel(nInputs, nHidenNeurons, nOutputNeurons, lr)\n",
        "\n",
        "nEpochs = 100\n",
        "history = model.fit(x=x, y=y, epochs=nEpochs, verbose=0)\n",
        "metrics = model.evaluate(x=x, y=y)\n",
        "\n",
        "x_test = np.array([[125**2,0,0,0]])\n",
        "print(colored(\"Model response for:\",\"blue\"),x_test,model.predict(x_test))\n",
        "\n",
        "plotTrainHistory(history)\n",
        "\n",
        "print(colored(\"Model weights:\",\"blue\"))\n",
        "print(colored(\"layer_0:\",\"blue\"), model.get_layer('layer_1').weights[0].numpy()[:,0])\n",
        "print(colored(\"output:\",\"blue\"), model.get_layer('output').weights[0].numpy()[:,0])\n",
        "print(colored(\"layer_0*output:\",\"blue\"), (model.get_layer('layer_1').weights[0]*model.get_layer('output').weights[0]).numpy()[:,0])\n",
        "\n",
        "print(colored(\"Layers bias:\",\"blue\"))\n",
        "print(colored(\"layer_0:\",\"blue\"), model.get_layer('layer_1').weights[1].numpy()[0])\n",
        "print(colored(\"output:\",\"blue\"), model.get_layer('output').weights[1].numpy()[0])\n",
        "\n",
        "#END_SOLUTION\n",
        "pass"
      ]
    },
    {
      "cell_type": "markdown",
      "metadata": {
        "editable": true,
        "id": "0AUVe-RS9eDs",
        "tags": []
      },
      "source": [
        "Funkcja straty w końcowym etapie treningu wykazuje duże oscylacje - **zejście gradientowe skacze wokół minimum** ponieważ współczynnik uczenia mnożący gradient jest za duży. Zjawisko to można zredukować, zmniejszając współczynnik uczenia w trakcie treningu. Algorytm zmiany `lr` zadaje się w konstruktorze klasy do optymalizacji, podając funkcję zwracającą wartość `lr` dla danego kroku optymalizacyjnego zamiast stałej wartości `lr`."
      ]
    },
    {
      "cell_type": "code",
      "execution_count": null,
      "metadata": {
        "editable": true,
        "id": "fZUYI43G9eDt",
        "tags": []
      },
      "outputs": [],
      "source": [
        "initial_learning_rate = 0.001\n",
        "lr_schedule = tf.keras.optimizers.schedules.ExponentialDecay(initial_learning_rate,\n",
        "                decay_steps=1000,\n",
        "                decay_rate=0.98,\n",
        "                staircase=True)\n",
        "optimizer = tf.keras.optimizers.Adam(learning_rate=lr_schedule)\n",
        "\n",
        "print(colored(\"LR for step 999:\",\"blue\"),lr_schedule(step=999).numpy())\n",
        "print(colored(\"LR for step 1000:\",\"blue\"),lr_schedule(step=1000).numpy())"
      ]
    },
    {
      "cell_type": "markdown",
      "metadata": {
        "editable": true,
        "id": "pF2kj5nM9eDu",
        "tags": []
      },
      "source": [
        "**Proszę:**\n",
        "\n",
        "* powtórzyć trening modelu obliczającego kwadrat długości czterowektora używając zmiennej w czasie wartości współczynnika uczenia\n",
        "* parametry zmiany współczynnika uczenia proszę dobrać tak, by zlikwidować efekt oscylacji funkcji straty"
      ]
    },
    {
      "cell_type": "code",
      "execution_count": null,
      "metadata": {
        "editable": true,
        "id": "inPFGTeq9eDu",
        "tags": []
      },
      "outputs": [],
      "source": [
        "#BEGIN_SOLUTION\n",
        "nInputs = 4\n",
        "nHidenNeurons = 1\n",
        "nOutputNeurons = 1\n",
        "\n",
        "initial_learning_rate = 1E-3\n",
        "lr_schedule = tf.keras.optimizers.schedules.ExponentialDecay(initial_learning_rate,\n",
        "                decay_steps=200,\n",
        "                decay_rate=0.95,\n",
        "                staircase=True)\n",
        "\n",
        "model = getModel(nInputs, nHidenNeurons, nOutputNeurons, lr_schedule)\n",
        "\n",
        "nEpochs = 100\n",
        "history = model.fit(x=x, y=y, epochs=nEpochs, verbose=0)\n",
        "metrics = model.evaluate(x=x, y=y)\n",
        "plotTrainHistory(history)\n",
        "\n",
        "print(colored(\"Model weights:\",\"blue\"))\n",
        "print(colored(\"layer_0:\",\"blue\"), model.get_layer('layer_1').weights[0].numpy()[:,0])\n",
        "print(colored(\"output:\",\"blue\"), model.get_layer('output').weights[0].numpy()[:,0])\n",
        "print(colored(\"layer_0*output:\",\"blue\"), (model.get_layer('layer_1').weights[0]*model.get_layer('output').weights[0]).numpy()[:,0])\n",
        "print(colored(\"Layers bias:\",\"blue\"))\n",
        "print(colored(\"layer_0:\",\"blue\"), model.get_layer('layer_1').weights[1].numpy()[0])\n",
        "print(colored(\"output:\",\"blue\"), model.get_layer('output').weights[1].numpy()[0])\n",
        "#END_SOLUTION\n",
        "pass"
      ]
    },
    {
      "cell_type": "markdown",
      "metadata": {
        "editable": true,
        "id": "mnGU5KB59eDv",
        "tags": []
      },
      "source": [
        "Gradient jest obliczany dla paczek, `batches` przykładów. Domyślna krotność paczki to `32`. Rozmiarem paczki steruje parametr `batch_size`:\n",
        "```Python\n",
        "model.fit(x=x, y=y, epochs=nEpochs, batch_size = 128, verbose=0)\n",
        "```\n",
        "\n",
        "**Proszę:**\n",
        "\n",
        "* przeprowadzić trening przez `100` epok z różnymi rozmiarami paczki\n",
        "* jak rozmiar paczki wpływa na zbieżność treningu?\n",
        "\n",
        "**Uwaga:** model trzeba stworzyć od nowa, inaczej będzie miał wartości wag ustalone w poprzednim treningu."
      ]
    },
    {
      "cell_type": "code",
      "execution_count": null,
      "metadata": {
        "editable": true,
        "id": "p9EXTt5P9eDv",
        "tags": []
      },
      "outputs": [],
      "source": [
        "#BEGIN_SOLUTION\n",
        "model = getModel(nInputs, nHidenNeurons, nOutputNeurons, lr_schedule)\n",
        "\n",
        "nEpochs = 100\n",
        "history = model.fit(x=x, y=y, epochs=nEpochs, batch_size = 128, verbose=0)\n",
        "metrics = model.evaluate(x=x, y=y, batch_size = 128)\n",
        "plotTrainHistory(history)\n",
        "\n",
        "print(colored(\"Model weights:\",\"blue\"))\n",
        "print(colored(\"layer_0:\",\"blue\"), model.get_layer('layer_1').weights[0].numpy()[:,0])\n",
        "print(colored(\"output:\",\"blue\"), model.get_layer('output').weights[0].numpy()[:,0])\n",
        "print(colored(\"layer_0*output:\",\"blue\"), (model.get_layer('layer_1').weights[0]*model.get_layer('output').weights[0]).numpy()[:,0])\n",
        "print(colored(\"Layers bias:\",\"blue\"))\n",
        "print(colored(\"layer_0:\",\"blue\"), model.get_layer('layer_1').weights[1].numpy()[0])\n",
        "print(colored(\"output:\",\"blue\"), model.get_layer('output').weights[1].numpy()[0])\n",
        "#END_SOLUTION\n",
        "pass"
      ]
    },
    {
      "cell_type": "markdown",
      "metadata": {
        "editable": true,
        "id": "Wplv51hC9eDw",
        "tags": []
      },
      "source": [
        "Trening może być automatycznie zakończony wcześniej, jeśli wybrana metryka nie wykazuje poprawy. Wcześniejsze zatrzymanie treningu nosi nazwę `early stopping`.\n",
        "Procedura ta jest kontrolowana przez dodatkowe funkcje, które są wywoływane w czasie treningu: `callbacks`:\n",
        "```Python\n",
        "\n",
        "callback = tf.keras.callbacks.EarlyStopping(monitor='loss', # Nazwa metryki do monitorowania\n",
        "                                            patience=3,     # Liczba epok przez które funkcja nie zwiększa się o więcej niż\n",
        "                                            min_delta=1E-3  # (bezwzględny) próg różnicy\n",
        "                                            verbose=1)\n",
        "\n",
        "model.fit(x=x, y=y, epochs=nEpochs,\n",
        "                    batch_size = 128,\n",
        "                    verbose=0,\n",
        "                    callbacks=[callback]\n",
        "                   )\n",
        "```"
      ]
    },
    {
      "cell_type": "markdown",
      "metadata": {
        "editable": true,
        "id": "NiZ0svZq9eDw",
        "tags": []
      },
      "source": [
        "**Proszę:**\n",
        "\n",
        "* skonfigurować funkcję `tf.keras.callbacks.EarlyStopping` tak by zatrzymała wcześniej trening modelu znajdującego kwadrat długości czterowektora."
      ]
    },
    {
      "cell_type": "code",
      "execution_count": null,
      "metadata": {
        "editable": true,
        "id": "qzK37PAm9eDx",
        "tags": []
      },
      "outputs": [],
      "source": [
        "#BEGIN_SOLUTION\n",
        "model = getModel(nInputs, nHidenNeurons, nOutputNeurons, lr_schedule)\n",
        "\n",
        "callback = tf.keras.callbacks.EarlyStopping(monitor='loss', patience=3, verbose=1, min_delta=1E-3)\n",
        "\n",
        "nEpochs = 100\n",
        "history = model.fit(x=x, y=y, epochs=nEpochs,\n",
        "                    batch_size = 128,\n",
        "                    verbose=0,\n",
        "                    callbacks=[callback]\n",
        "                   )\n",
        "metrics = model.evaluate(x=x, y=y)\n",
        "plotTrainHistory(history)\n",
        "\n",
        "print(colored(\"Model weights:\",\"blue\"))\n",
        "print(colored(\"layer_0:\",\"blue\"), model.get_layer('layer_1').weights[0].numpy()[:,0])\n",
        "print(colored(\"output:\",\"blue\"), model.get_layer('output').weights[0].numpy()[:,0])\n",
        "print(colored(\"layer_0*output:\",\"blue\"), (model.get_layer('layer_1').weights[0]*model.get_layer('output').weights[0]).numpy()[:,0])\n",
        "print(colored(\"Layers bias:\",\"blue\"))\n",
        "print(colored(\"layer_0:\",\"blue\"), model.get_layer('layer_1').weights[1].numpy()[0])\n",
        "print(colored(\"output:\",\"blue\"), model.get_layer('output').weights[1].numpy()[0])\n",
        "#END_SOLUTION\n",
        "pass"
      ]
    },
    {
      "cell_type": "markdown",
      "metadata": {
        "editable": true,
        "id": "-hu209vg9eD7",
        "tags": []
      },
      "source": [
        "# Zadanie domowe\n",
        "\n",
        "Trening modelu z jednym neutronem, z liniową funkcją aktywacji, który odtworzy współczynniki trójmianu:\n",
        "<br></br>\n",
        "$$\n",
        "\\huge{\n",
        "  -2 + 3x + 2x^{2}\n",
        "}\n",
        "$$\n",
        "<br></br>\n",
        "\n",
        "**Proszę:**\n",
        "\n",
        "* wygenerować dane syntetyczne z parami `(x,y)`\n",
        "* na wejście neuronu podawać wartości  `(x, x**2)`\n",
        "* zdefiniować i wytrenować model z jednym neuronem\n",
        "* narysować ewolucję funkcji straty w skalach liniowej i logarytmicznej\n",
        "* narysować dane użyte do treningu oraz wynik działania modelu\n",
        "* narysować histogram różnicy względnej modelu i prawdziwej wartości: `(true-model)/true`\n",
        "* wypisać i zinterpretować wagi modelu porównując je ze współczynnikami dwumianu"
      ]
    },
    {
      "cell_type": "code",
      "execution_count": null,
      "metadata": {
        "editable": true,
        "id": "0VvJPv5u9eD8",
        "tags": []
      },
      "outputs": [],
      "source": [
        "#BEGIN_SOLUTION\n",
        "\n",
        "##data preparation\n",
        "nPoints = 1000\n",
        "x = tf.random.uniform((nPoints,1), -10,10)\n",
        "x = np.hstack([x,x**2])\n",
        "coeffs = np.array([2,3])\n",
        "y = np.sum(coeffs*x, axis=1) - 2\n",
        "\n",
        "##model definition\n",
        "nInputs = 2\n",
        "nHidenNeurons = 1\n",
        "nOutputNeurons = 1\n",
        "\n",
        "initial_learning_rate = 1E-1\n",
        "lr_schedule = tf.keras.optimizers.schedules.ExponentialDecay(initial_learning_rate,\n",
        "                decay_steps=200,\n",
        "                decay_rate=0.95,\n",
        "                staircase=True)\n",
        "\n",
        "model = getModel(nInputs, nHidenNeurons, nOutputNeurons, lr_schedule)\n",
        "\n",
        "#training\n",
        "nEpochs = 200\n",
        "history = model.fit(x=x, y=y, epochs=nEpochs, verbose=0)\n",
        "metrics = model.evaluate(x=x, y=y)\n",
        "y_pred = model.predict(x)\n",
        "plotTrainHistory(history)\n",
        "\n",
        "print(colored(\"Model weights:\",\"blue\"))\n",
        "print(colored(\"layer_0:\",\"blue\"), model.get_layer('layer_1').weights[0].numpy()[:,0])\n",
        "print(colored(\"output:\",\"blue\"), model.get_layer('output').weights[0].numpy()[:,0])\n",
        "finalWeight = (model.get_layer('layer_1').weights[0]*model.get_layer('output').weights[0]).numpy()[:,0]\n",
        "print(colored(\"layer_0*output:\",\"blue\"), finalWeight[:])\n",
        "\n",
        "print(colored(\"Layers bias:\",\"blue\"))\n",
        "l1_bias = model.get_layer('layer_1').weights[1].numpy()\n",
        "output_weight = model.get_layer('output').weights[0].numpy()\n",
        "output_bias = model.get_layer('output').weights[1].numpy()\n",
        "total_bias = l1_bias*output_weight+output_bias\n",
        "\n",
        "print(colored(\"layer_0:\",\"blue\"), model.get_layer('layer_1').weights[1].numpy())\n",
        "print(colored(\"output:\",\"blue\"), model.get_layer('output').weights[1].numpy())\n",
        "print(colored(\"total bias:\",\"blue\"), total_bias)\n",
        "finalWeight = np.append(finalWeight,total_bias)\n",
        "\n",
        "#plotting\n",
        "fig, axes = plt.subplots(1,2, figsize=(10,4))\n",
        "axes[0].plot(x[:,0],y, \"o\",label=\"data\")\n",
        "axes[0].plot(x[:,0],y_pred,\"o\",label=\"model:\\n{:3.2f},{:3.2f},{:3.2f}\".format(finalWeight[0],\n",
        "                                                                              finalWeight[1],\n",
        "                                                                              finalWeight[2]))\n",
        "axes[0].set_xlabel(\"x\")\n",
        "axes[0].legend()\n",
        "\n",
        "delta = (y - y_pred[:,0])/y\n",
        "axes[1].hist(delta, bins=np.linspace(-0.1,0.1,101))\n",
        "axes[1].set_xlabel(\"(true - model)/true\")\n",
        "#END_SOLUTION\n",
        "pass"
      ]
    },
    {
      "cell_type": "code",
      "execution_count": null,
      "metadata": {
        "editable": true,
        "id": "ZTOFaCUy9eD8",
        "tags": []
      },
      "outputs": [],
      "source": []
    }
  ],
  "metadata": {
    "colab": {
      "provenance": []
    },
    "kernelspec": {
      "display_name": "Python 3 (ipykernel)",
      "language": "python",
      "name": "python3"
    },
    "rise": {
      "center": false,
      "controls": false,
      "footer": "<h3>Letnia Szkoła<br>Fizyki 2023</h3>",
      "header": "<h1>Hello</h1>",
      "progress": "true",
      "slideNumber": "c/t",
      "transition": "none"
    }
  },
  "nbformat": 4,
  "nbformat_minor": 0
}
