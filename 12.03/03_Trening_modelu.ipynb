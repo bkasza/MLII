{
  "cells": [
    {
      "cell_type": "markdown",
      "metadata": {
        "editable": true,
        "id": "u1A1YdcH4AJ6",
        "tags": []
      },
      "source": [
        "## Inicjalizacja środowiska programistycznego"
      ]
    },
    {
      "cell_type": "code",
      "execution_count": 1,
      "metadata": {
        "editable": true,
        "id": "Ga8szvt44AKB",
        "tags": []
      },
      "outputs": [
        {
          "name": "stderr",
          "output_type": "stream",
          "text": [
            "2025-03-12 10:23:21.716652: E external/local_xla/xla/stream_executor/cuda/cuda_dnn.cc:9261] Unable to register cuDNN factory: Attempting to register factory for plugin cuDNN when one has already been registered\n",
            "2025-03-12 10:23:21.718449: E external/local_xla/xla/stream_executor/cuda/cuda_fft.cc:607] Unable to register cuFFT factory: Attempting to register factory for plugin cuFFT when one has already been registered\n",
            "2025-03-12 10:23:21.919261: E external/local_xla/xla/stream_executor/cuda/cuda_blas.cc:1515] Unable to register cuBLAS factory: Attempting to register factory for plugin cuBLAS when one has already been registered\n",
            "2025-03-12 10:23:22.446024: I tensorflow/core/platform/cpu_feature_guard.cc:182] This TensorFlow binary is optimized to use available CPU instructions in performance-critical operations.\n",
            "To enable the following instructions: AVX2 FMA, in other operations, rebuild TensorFlow with the appropriate compiler flags.\n"
          ]
        }
      ],
      "source": [
        "#Color printing\n",
        "from termcolor import colored\n",
        "\n",
        "#General data operations library\n",
        "import math\n",
        "import numpy as np\n",
        "\n",
        "#The tensorflow library\n",
        "import tensorflow  as tf\n",
        "\n",
        "#Plotting libraries\n",
        "import matplotlib.pyplot as plt\n",
        "\n",
        "#Increase plots font size\n",
        "params = {'legend.fontsize': 'xx-large',\n",
        "          'figure.figsize': (10, 7),\n",
        "         'axes.labelsize': 'xx-large',\n",
        "         'axes.titlesize':'xx-large',\n",
        "         'xtick.labelsize':'xx-large',\n",
        "         'ytick.labelsize':'xx-large'}\n",
        "plt.rcParams.update(params)"
      ]
    },
    {
      "cell_type": "markdown",
      "metadata": {
        "editable": true,
        "id": "mHpQ7QPE4AKE",
        "tags": []
      },
      "source": [
        "<br/><br/>\n",
        "<br/><br/>\n",
        "\n",
        "<h1 align=\"center\">\n",
        " Uczenie maszynowe II\n",
        "</h1>\n",
        "\n",
        "<br/><br/>\n",
        "<br/><br/>\n",
        "<br/><br/>\n",
        "<br/><br/>\n",
        "\n",
        "<h1 align=\"right\">\n",
        "Artur Kalinowski <br>\n",
        "Uniwersytet Warszawski <br>\n",
        "Wydział Fizyki <br>    \n",
        "</h1>"
      ]
    },
    {
      "cell_type": "markdown",
      "metadata": {
        "editable": true,
        "id": "P7t_vYvF4AKF",
        "tags": []
      },
      "source": [
        "<div>\n",
        "<img src=\"attachment:e5f5b879-541b-4444-911b-568210a7d171.png\" align=\"left\" width=\"800\"/>\n",
        "</div>\n",
        "\n",
        "Rozwinięcie Taylora:\n",
        "$$\n",
        "\\huge{\n",
        "\\begin{matrix*}[l]\n",
        "f(x, a_{n}) = \\\\\n",
        "\\sum_{n=0}^{\\infty} a_{n}x^{n} = \\\\\n",
        "a_{0} + a_{1}x + a_{2}x^{2} +...\n",
        "\\end{matrix*}\n",
        "}\n",
        "$$\n",
        "<br><br><br><br>\n",
        "można przedstawić w postaci architektury łączącej wejście z wyjściem:\n",
        "\n",
        "* wszystkie dane są podawane jednocześnie na wejście różnych funkcji bazowych: w tym przypadku $x^{n}$\n",
        "* funkcje bazowe zwracają nowe liczby, które są sumowane z wagami: $a_{i}$\n",
        "* suma jest zwracana jako wynik działania modelu"
      ]
    },
    {
      "cell_type": "markdown",
      "metadata": {
        "editable": true,
        "id": "z_T4ly4y4AKF",
        "tags": []
      },
      "source": [
        "Wielomiany stopnia n nie są jednak zbyt dobrymi funkcjami bazy:\n",
        "\n",
        "* uzyskanie dużej precyzji wymaga użycia wysokiego stopnia, a to generuje problemy ze stabilnością numeryczną\n",
        "* dane wielowymiarowe powodują dodatkowe komplikacje - pojawiają się mieszane potęgi składowych danych:\n",
        "\n",
        "$$\n",
        "\\huge{\n",
        "x_{0}x_{1},~x_{0}^{3}x_{1}^{58},~\\text{etc.}\n",
        "}\n",
        "$$"
      ]
    },
    {
      "cell_type": "markdown",
      "metadata": {
        "editable": true,
        "id": "odu2MFwc4AKG",
        "tags": []
      },
      "source": [
        "Rozwiązanie tego problemu wygląda następująco:\n",
        "\n",
        "* wielowymiarowe dane redukujemy do jednej liczby, obliczając sumę ważoną z dodatkowym członem przesuwającym wartość sumy (ang. `bias`)\n",
        "\n",
        "$$\n",
        "\\huge{\n",
        "\\sum_{i} w_{i}x_{i} + b\n",
        "}\n",
        "$$\n",
        "\n",
        "* wynik sumy podajemy na wejściu do względnie prostej funkcji, która zwraca jedną wartość - **funkcji aktywacji** (ang. `activation function`):\n",
        "\n",
        "$$\n",
        "\\huge{\n",
        "A(\\sum_{i} w_{i}x_{i} + b)\n",
        "}\n",
        "$$   "
      ]
    },
    {
      "cell_type": "markdown",
      "metadata": {
        "editable": true,
        "id": "u5cZ8R1i4AKH",
        "tags": []
      },
      "source": [
        "* funkcje aktywacji pełnią rolę bazy - różnią się między sobą. Różnica jest zwykle sparametryzowana.\n",
        "\n",
        "$$\n",
        "\\huge{\n",
        "A(x,  \\mathbf{\\theta} = \\{w_{i}, b\\})\n",
        "}\n",
        "$$\n",
        "\n",
        "* wyjście może być traktowane jako wejście do kolejnej \"rundy\" - innych funkcji aktywacji\n",
        "\n",
        "* **funkcje bazy w której rozwijamy nieznaną funkcję opisującą dane są zadane przez strukturę przepływu danych - połączenia\n",
        "  między funkcjami aktywacji.** Nie znamy analitycznej postaci funkcji bazy."
      ]
    },
    {
      "cell_type": "markdown",
      "metadata": {
        "editable": true,
        "id": "FTmUf1jt4AKI",
        "tags": []
      },
      "source": [
        "<div>\n",
        "<img src=\"attachment:e76ce2ec-504a-4ee7-9f9c-b253318e4dbf.png\" align=\"center\", width=1000/>\n",
        "</div>"
      ]
    },
    {
      "cell_type": "markdown",
      "metadata": {
        "editable": true,
        "id": "IV3WSQoV4AKI",
        "tags": []
      },
      "source": [
        "## Dlaczego architektura w pełni połączona działa?\n",
        "\n",
        "# Twierdzenie o uniwersalnym aproksymatorze [Cybenko, 1989](https://link.springer.com/article/10.1007/BF02551274):\n",
        "\n",
        "Zdefiniujmy ``neuron``, funkcję $R^{n} \\rightarrow R$:\n",
        "$$\n",
        "\\huge{\n",
        " f(\\theta, x) = A(\\sum_{i=1}^{N} \\theta_{i} x_{i} + \\theta_{0})\n",
        "}\n",
        "$$\n",
        "\n",
        "gdzie `A` - to funkcja aktywacji - dowolna, nie będąca wielomianem, funkcja która spełnia warunki:\n",
        "\n",
        "$$\n",
        "\\huge{\n",
        " \\lim_{x\\rightarrow -\\infty} f(x) \\rightarrow 0 \\\\\n",
        " \\lim_{x\\rightarrow +\\infty} f(x) \\rightarrow 1 \\\\\n",
        "}\n",
        "$$"
      ]
    },
    {
      "cell_type": "markdown",
      "metadata": {
        "editable": true,
        "id": "63bMbU744AKJ",
        "tags": []
      },
      "source": [
        "**Twierdzenie:** Każda ciągła funkcja $R^{n} \\rightarrow R$ może być przybliżona w bazie `neuronów` (= jedna warstwa neuronów).\n",
        "\n",
        "$$\n",
        "\\huge{\n",
        "y(x) \\simeq \\sum_{k} w_{k} f_{k}(\\theta_{k}, x)\n",
        "}\n",
        "$$"
      ]
    },
    {
      "cell_type": "markdown",
      "metadata": {
        "editable": true,
        "id": "PTjpmGYW4AKK",
        "tags": []
      },
      "source": [
        "Od 1989 roku udowodniono wiele wariantów twierdzenia o uniwersalnym aproksymatorze, w tym twierdzenia z innymi warunkami na funkcję aktywacji.\n",
        "\n",
        "* w warstwach ukrytych najbardziej popularną funkcją aktywacji jest **ReLU**\n",
        "* w warstwie wyjściowej zwracającej prawdopodobieństwo jest używana funkcja **sigmoid** lub **softmax** - jej znormalizowany wariant dla n>2 kategorii:\n",
        "$$\n",
        "  \\huge{\n",
        "    \\sigma(\\mathbf{x})_{k} = \\frac{e^{\\mathbf{w}_{k}\\mathbf{x} + b_{k}}}{\\sum_{i=0}^{n-1} e^{\\mathbf{w}_{i}\\mathbf{x} + b_{i}}}\n",
        "  }\n",
        "$$\n",
        "gdzie $\\mathbf{w}_{i}$, $\\mathbf{b}_{i}$ to wagi odpowiadające i-tej kategorii"
      ]
    },
    {
      "cell_type": "markdown",
      "metadata": {
        "editable": true,
        "id": "rfnDPhP34AKK",
        "tags": []
      },
      "source": [
        "**Proszę:**\n",
        "\n",
        "* stworzyć rysunek z trzema panelami w rzędzie\n",
        "* na kolejnych panelach narysować wykresy funkcji aktywacji: `sigmoid`, `tanh`, `relu`\n",
        "* proszę zadbać o tę samą skalę na wszystkich panelach\n",
        "* wartości funkcji proszę obliczyć korzystając z funkcji w module `tf.keras.activations`:\n",
        "  ```Python\n",
        "  \n",
        "  sigmoid = tf.keras.activations.sigmoid(x)\n",
        "  tanh = tf.keras.activations.tanh(x)\n",
        "  relu = tf.keras.activations.relu(x)\n",
        "  ```"
      ]
    },
    {
      "cell_type": "code",
      "execution_count": null,
      "metadata": {
        "editable": true,
        "id": "fTkHvnwm4AKL",
        "tags": []
      },
      "outputs": [
        {
          "data": {
            "image/png": "[encoded data removed]",
            "text/plain": [
              "<Figure size 1700x500 with 3 Axes>"
            ]
          },
          "metadata": {},
          "output_type": "display_data"
        }
      ],
      "source": [
        "fig, axes = plt.subplots(1, 3, figsize = (17, 5))\n",
        "x = np.linspace(-10, 10, 1000)\n",
        "sigmoid = tf.keras.activations.sigmoid(x)\n",
        "tanh = tf.keras.activations.tanh(x)\n",
        "relu = tf.keras.activations.relu(x)\n",
        "axes[0].plot(x, sigmoid, label = r\"$\\sigma$\", color = 'cyan')\n",
        "axes[1].plot(x, tanh, label = r\"$\\tanh$\", color = 'cyan')\n",
        "axes[2].plot(x, relu, label = \"ReLu\", color = 'cyan')\n",
        "for ax in axes:\n",
        "    ax.set_xlabel(\"x\")\n",
        "    ax.set_ylabel(\"values\")\n"
      ]
    },
    {
      "cell_type": "markdown",
      "metadata": {
        "editable": true,
        "id": "eEslDaqH4AKM",
        "tags": []
      },
      "source": [
        "Uczenie maszynowe generalnie składa się z następujących etapów:\n",
        "\n",
        "* **definicja** - wyrażenie zagadnienia w kontekście poszukiwania funkcji opisującej dane. Np. GPT (ten z chatGPT) określa prawdopodobieństwo następnego słowa w ciągu tekstu\n",
        "* **definicja architektury** - określienie sposobu przepływu danych między wejściem a wyjściem.\n",
        "  Standardowe architektury składają się z **warstw** ang. `layers`:\n",
        "    * **wejściowej** - ang. `input layer`\n",
        "    * **ukrytych** - ang. `hidden layers`\n",
        "    * **wyjściowej** - ang. `output layer`\n",
        "* **trening** - znajdowanie wartości parametrów funkcji aktywacji i wag w procesie wstecznej propagacji gradientu funkcji straty\n",
        "* **testowanie** - ang. `testing, evaluation, validation` - oszacowania stopnia **generalizacji** modelu, czyli jak dobrze model się sprawuje w przypadku danych, które nie były używane do znajdowania parametrów modelu, czyli treningu"
      ]
    },
    {
      "cell_type": "markdown",
      "metadata": {},
      "source": [
        "tutaj skończyliśmy, pozdrawiam"
      ]
    },
    {
      "cell_type": "markdown",
      "metadata": {
        "editable": true,
        "id": "6GahFuoc4AKM",
        "tags": []
      },
      "source": [
        "Na rynku jest wiele pakietów, które dostarczają narzędzi potrzebnych do tworzenia, trenowania i testowania modeli uczenia maszynowego. Dominujące to:\n",
        "\n",
        "<br></br>\n",
        "\n",
        "<a href=\"https://www.tensorflow.org\">\n",
        "<img border=\"0\" alt=\"TensorFlow\"\n",
        "    src=\"attachment:a7092520-0e00-4f5d-83a2-4eb6b4fca438.png\"    \n",
        "    width=\"400\" height=\"400\" align=\"left\">\n",
        "</a>\n",
        "\n",
        "zaawansowany pakiet do uczenia maszynowego rozwijany przez firmę Google. Definicja i trening modeli mogą być wykonane za pomocą interfejsu (Application Programming Interface, API) [Keras](https://keras.io/).\n",
        "**Uwaga**: API Keras pozwala na użycie różnych środowisk wykonawczych: TensorFlow, PyTorch, JAX\n",
        "\n",
        "<br></br>\n",
        "\n",
        "<a href=\"https://pytorch.org/\">\n",
        "<img border=\"0\" alt=\"PyTorch\"\n",
        "    src=\"attachment:9a6b4c13-fd50-4303-a4cf-7c572fe77fcb.png\"\n",
        "    width=\"400\" height=\"400\" align=\"left\">\n",
        "</a>\n",
        "\n",
        "zaawansowany pakiet do uczenia maszynowego stworzony przez MetaAI, obecnie pod kuratelą Linux Foundation\n",
        "\n",
        "<br></br>\n",
        "\n",
        "<a href=\"https://scikit-learn.org/stable/\">\n",
        "<img border=\"0\" alt=\"scikit-learn\"\n",
        "    src=\"attachment:114c20c2-2b0a-4cab-a0cd-cad08dc59aff.png\"\n",
        "    width=\"400\" height=\"400\" align=\"left\">\n",
        "</a>\n",
        "\n",
        "pakiet do uczenia maszynowego rozwijany przez niezależny zespół. Zawiera wiele gotowych rozwiązań i przykładów z zakresu uczenia maszynowego i analizy danych\n"
      ]
    },
    {
      "cell_type": "markdown",
      "metadata": {
        "editable": true,
        "id": "WphFjKSQ4AKN",
        "tags": []
      },
      "source": [
        "<img border=\"0\" alt=\"ML frameworks usage\"\n",
        "    src=\"attachment:91d25b17-f0aa-4343-8f1e-ffe870fbfdd8.png\">\n",
        "<br>\n",
        "<a href=\"https://www.kaggle.com/kaggle-survey-2022\">\n",
        "    Źródło: https://www.kaggle.com/kaggle-survey-2022\n",
        "</a>"
      ]
    },
    {
      "cell_type": "markdown",
      "metadata": {
        "editable": true,
        "id": "qm7EPsAt4AKO",
        "tags": []
      },
      "source": [
        "W trakcje zajęć będziemy głównie korzystali z biblioteki TensorFlow z interfejsem Keras.\n",
        "Zacznijmy od stworzenia modelu, który będzie zawierał podstawowe warstwy:\n",
        "\n",
        "**wejściową:**\n",
        "\n",
        "```Python\n",
        "input = tf.keras.Input(shape=(inputShape,), name=\"features\")\n",
        "```\n",
        "\n",
        "**ukrytą:**,\n",
        "\n",
        "```Python\n",
        "layer = tf.keras.layers.Dense(nHiddenNeurons, activation=activation, name=\"layer_{}\".format(iLayer))(x)\n",
        "```\n",
        "\n",
        "**wyjściową:**\n",
        "\n",
        "```Python\n",
        "outputs = tf.keras.layers.Dense(nOutputNeurons, activation=activation, name=\"outputs\")(x)\n",
        "```"
      ]
    },
    {
      "cell_type": "markdown",
      "metadata": {
        "editable": true,
        "id": "nIJHhYnU4AKO",
        "tags": []
      },
      "source": [
        "Wejście z wyjściem jest połączone wewnątrz klasy `tf.keras.model`:\n",
        "```Python\n",
        "\n",
        "model = tf.keras.Model(inputs=inputs, outputs=outputs, name=\"DNN\")\n",
        "```\n",
        "\n",
        "Wagi warstwy są dostępne poprzez pole `weights`:\n",
        "```Python\n",
        "layer.weights\n",
        "```\n",
        "\n",
        "**Uwaga:** obciążenie, `bias` jest podawane jako osobny element listy zwracanej przez pole `weights`"
      ]
    },
    {
      "cell_type": "code",
      "execution_count": null,
      "metadata": {
        "editable": true,
        "id": "i_wEvoC04AKO",
        "tags": []
      },
      "outputs": [],
      "source": [
        "nInputs = 4\n",
        "nHidenNeurons = 3\n",
        "nOutputNeurons = 1\n",
        "\n",
        "inputs = tf.keras.Input(shape=(nInputs,), name=\"features\")\n",
        "\n",
        "iLayer = 1\n",
        "layer = tf.keras.layers.Dense(nHidenNeurons,\n",
        "                              name=\"layer_{}\".format(iLayer))(inputs)\n",
        "\n",
        "outputs = tf.keras.layers.Dense(nOutputNeurons, name = \"output\")(layer)\n",
        "\n",
        "model = tf.keras.Model(inputs=inputs, outputs=outputs, name=\"DNN\")\n",
        "\n",
        "model.summary()\n",
        "\n",
        "print(colored(\"Model weights:\",\"blue\"),model.get_layer('layer_1').weights)"
      ]
    },
    {
      "cell_type": "markdown",
      "metadata": {
        "editable": true,
        "id": "A-J3kATX4AKO",
        "tags": []
      },
      "source": [
        "**Proszę:**\n",
        "\n",
        "* obliczyć samodzielnie liczbę parametrów warstwy ukrytej\n",
        "\n",
        "**Wskazówka:** każdy neuron ma oddzielną wagę dla każdej zmiennej wejściowej oraz dodatkową wagę, `bias`."
      ]
    },
    {
      "cell_type": "code",
      "execution_count": null,
      "metadata": {
        "editable": true,
        "id": "DhUILA4u4AKP",
        "tags": []
      },
      "outputs": [],
      "source": [
        "...rozwiązanie...\n",
        "pass"
      ]
    },
    {
      "cell_type": "markdown",
      "metadata": {
        "editable": true,
        "id": "ku3GguSU4AKP",
        "tags": []
      },
      "source": [
        "Małe modele można wizualizować korzystając z funkcji biblioteki Keras:"
      ]
    },
    {
      "cell_type": "code",
      "execution_count": null,
      "metadata": {
        "editable": true,
        "id": "BzEd5cT34AKP",
        "tags": []
      },
      "outputs": [],
      "source": [
        "tf.keras.utils.plot_model(model, 'fig_png/ML_model.png', show_shapes=True)"
      ]
    },
    {
      "cell_type": "markdown",
      "metadata": {
        "editable": true,
        "id": "-y4StkHj4AKQ",
        "tags": []
      },
      "source": [
        "Funkcje używane w czasie treningu:\n",
        "\n",
        "* algorytm minimalizacyjny - `optimizer`\n",
        "* funkcja straty - `loss`\n",
        "* lista metryk śledzonych w czasie treningu - `metrics`\n",
        "\n",
        "są określane przy wywołaniu metody `tf.keras.model.compile`:"
      ]
    },
    {
      "cell_type": "code",
      "execution_count": null,
      "metadata": {
        "editable": true,
        "id": "cAUl6hmU4AKQ",
        "tags": []
      },
      "outputs": [],
      "source": [
        "lr = 0.001\n",
        "\n",
        "model.compile(optimizer=tf.keras.optimizers.Adam(learning_rate=lr),\n",
        "              loss=tf.keras.losses.MeanSquaredError(),\n",
        "              metrics=['MeanAbsolutePercentageError','RootMeanSquaredError'])"
      ]
    },
    {
      "cell_type": "markdown",
      "metadata": {
        "editable": true,
        "id": "unJhkj9F4AKQ",
        "tags": []
      },
      "source": [
        "Pętla ucząca jest wywołana przez metodę `tf.keras.fit`, która przyjmuje wiele parametrów sterujących procesem treningu.\n",
        "Konieczne są dwa:\n",
        "\n",
        "* cechy i etykiety zbioru uczącego - `x, y`\n",
        "* liczba epok - `epochs`\n",
        "\n",
        "Metoda `fit` zwraca obiekt zawierający dane na temat historii uczenia - wartości metryk i funkcji straty w kolejnych epokach:\n",
        "```Python\n",
        "history = model.fit(x=x, y=y,  epochs=nEpochs, verbose=2)\n",
        "print(history.history)\n",
        "```"
      ]
    },
    {
      "cell_type": "markdown",
      "metadata": {
        "editable": true,
        "id": "ml5tkrvG4AKR",
        "tags": []
      },
      "source": [
        "**Proszę:**\n",
        "\n",
        "Skonstruować model uczenia maszynowego, który będzie obliczał kwadrat długości wektora w metryce Minkowskiego o sygnaturze `(+,-,-,-)`\n",
        "\n",
        "* model powinen być tak zbudowany by można było interpretować jego wagi\n",
        "* model przyjmuje kwadratry współrzędnych\n",
        "* jako danych uczących proszę użyć danych syntetycznych na czterowymiarowej kostce o boku `[0,1]`\n",
        "* kod powinien być podzielony na funkcje:\n",
        "    * `getFeatures(nPoints)` generacja ccech\n",
        "    * `getModel(nHidenNeurons, nOutputNeurons, lr)` - tworzenie modelu\n",
        "    * `plotTrainHistory(history)` - rysowanie funkcji straty w kolejnych epokach"
      ]
    },
    {
      "cell_type": "code",
      "execution_count": null,
      "metadata": {
        "editable": true,
        "id": "riMJjurT4AKR",
        "tags": []
      },
      "outputs": [],
      "source": [
        "...rozwiązanie...\n",
        "pass"
      ]
    },
    {
      "cell_type": "markdown",
      "metadata": {
        "editable": true,
        "id": "_5FR7KON4AKR",
        "tags": []
      },
      "source": [
        "**Proszę:**\n",
        "\n",
        "* przeprowadzić trening modelu\n",
        "* wypisać na ekran wartości funkcji straty i metryk dla zadanego zbioru:\n",
        "  <br></br>\n",
        "  ```Python\n",
        "  model.evaluate(x,y)\n",
        "  ```\n",
        "  <br></br>\n",
        "* wypisać na ekran wynik działania modelu dla pojedynczego przykładu:\n",
        "  <br></br>\n",
        "  ```Python\n",
        "  model.predict([[125**2,0,0,0]])\n",
        "  ```\n",
        "  <br></br>\n",
        "* narysować ewolucję funkcji straty w skalach liniowej i logarytmicznej\n",
        "* wypisać na ekran i zinterpretować wagi modelu"
      ]
    },
    {
      "cell_type": "code",
      "execution_count": null,
      "metadata": {
        "editable": true,
        "id": "wF8ZWOBs4AKS",
        "tags": []
      },
      "outputs": [],
      "source": [
        "#%%time\n",
        "...rozwiązanie...\n",
        "pass"
      ]
    },
    {
      "cell_type": "markdown",
      "metadata": {
        "editable": true,
        "id": "MisVnQn_4AKS",
        "tags": []
      },
      "source": [
        "Funkcja straty w końcowym etapie treningu wykazuje duże oscylacje - **zejście gradientowe skacze wokół minimum** ponieważ współczynnik uczenia mnożący gradient jest za duży. Zjawisko to można zredukować, zmniejszając współczynnik uczenia w trakcie treningu. Algorytm zmiany `lr` zadaje się w konstruktorze klasy do optymalizacji, podając funkcję zwracającą wartość `lr` dla danego kroku optymalizacyjnego zamiast stałej wartości `lr`."
      ]
    },
    {
      "cell_type": "code",
      "execution_count": null,
      "metadata": {
        "editable": true,
        "id": "x1YQJOzE4AKS",
        "tags": []
      },
      "outputs": [],
      "source": [
        "initial_learning_rate = 0.001\n",
        "lr_schedule = tf.keras.optimizers.schedules.ExponentialDecay(initial_learning_rate,\n",
        "                decay_steps=1000,\n",
        "                decay_rate=0.98,\n",
        "                staircase=True)\n",
        "optimizer = tf.keras.optimizers.Adam(learning_rate=lr_schedule)\n",
        "\n",
        "print(colored(\"LR for step 999:\",\"blue\"),lr_schedule(step=999).numpy())\n",
        "print(colored(\"LR for step 1000:\",\"blue\"),lr_schedule(step=1000).numpy())"
      ]
    },
    {
      "cell_type": "markdown",
      "metadata": {
        "editable": true,
        "id": "fLQn8zap4AKT",
        "tags": []
      },
      "source": [
        "**Proszę:**\n",
        "\n",
        "* powtórzyć trening modelu obliczającego kwadrat długości czterowektora używając zmiennej w czasie wartości współczynnika uczenia\n",
        "* parametry zmiany współczynnika uczenia proszę dobrać tak, by zlikwidować efekt oscylacji funkcji straty"
      ]
    },
    {
      "cell_type": "code",
      "execution_count": null,
      "metadata": {
        "editable": true,
        "id": "5tVaxrvh4AKT",
        "tags": []
      },
      "outputs": [],
      "source": [
        "...rozwiązanie...\n",
        "pass"
      ]
    },
    {
      "cell_type": "markdown",
      "metadata": {
        "editable": true,
        "id": "aTMu8dk04AKT",
        "tags": []
      },
      "source": [
        "Gradient jest obliczany dla paczek, `batches` przykładów. Domyślna krotność paczki to `32`. Rozmiarem paczki steruje parametr `batch_size`:\n",
        "```Python\n",
        "model.fit(x=x, y=y, epochs=nEpochs, batch_size = 128, verbose=0)\n",
        "```\n",
        "\n",
        "**Proszę:**\n",
        "\n",
        "* przeprowadzić trening przez `100` epok z różnymi rozmiarami paczki\n",
        "* jak rozmiar paczki wpływa na zbieżność treningu?\n",
        "\n",
        "**Uwaga:** model trzeba stworzyć od nowa, inaczej będzie miał wartości wag ustalone w poprzednim treningu."
      ]
    },
    {
      "cell_type": "code",
      "execution_count": null,
      "metadata": {
        "editable": true,
        "id": "_5fX2p9c4AKU",
        "tags": []
      },
      "outputs": [],
      "source": [
        "...rozwiązanie...\n",
        "pass"
      ]
    },
    {
      "cell_type": "markdown",
      "metadata": {
        "editable": true,
        "id": "XrmQbZAK4AKU",
        "tags": []
      },
      "source": [
        "Trening może być automatycznie zakończony wcześniej, jeśli wybrana metryka nie wykazuje poprawy. Wcześniejsze zatrzymanie treningu nosi nazwę `early stopping`.\n",
        "Procedura ta jest kontrolowana przez dodatkowe funkcje, które są wywoływane w czasie treningu: `callbacks`:\n",
        "```Python\n",
        "\n",
        "callback = tf.keras.callbacks.EarlyStopping(monitor='loss', # Nazwa metryki do monitorowania\n",
        "                                            patience=3,     # Liczba epok przez które funkcja nie zwiększa się o więcej niż\n",
        "                                            min_delta=1E-3  # (bezwzględny) próg różnicy\n",
        "                                            verbose=1)\n",
        "\n",
        "model.fit(x=x, y=y, epochs=nEpochs,\n",
        "                    batch_size = 128,\n",
        "                    verbose=0,\n",
        "                    callbacks=[callback]\n",
        "                   )\n",
        "```"
      ]
    },
    {
      "cell_type": "markdown",
      "metadata": {
        "editable": true,
        "id": "eyMc5joH4AKU",
        "tags": []
      },
      "source": [
        "**Proszę:**\n",
        "\n",
        "* skonfigurować funkcję `tf.keras.callbacks.EarlyStopping` tak by zatrzymała wcześniej trening modelu znajdującego kwadrat długości czterowektora."
      ]
    },
    {
      "cell_type": "code",
      "execution_count": null,
      "metadata": {
        "editable": true,
        "id": "rcvFy3Jy4AKV",
        "tags": []
      },
      "outputs": [],
      "source": [
        "...rozwiązanie...\n",
        "pass"
      ]
    },
    {
      "cell_type": "markdown",
      "metadata": {
        "editable": true,
        "id": "-lx6qku24AKa",
        "tags": []
      },
      "source": [
        "# Zadanie domowe\n",
        "\n",
        "Trening modelu z jednym neutronem, z liniową funkcją aktywacji, który odtworzy współczynniki trójmianu:\n",
        "<br></br>\n",
        "$$\n",
        "\\huge{\n",
        "  -2 + 3x + 2x^{2}\n",
        "}\n",
        "$$\n",
        "<br></br>\n",
        "\n",
        "**Proszę:**\n",
        "\n",
        "* wygenerować dane syntetyczne z parami `(x,y)`\n",
        "* na wejście neuronu podawać wartości  `(x, x**2)`\n",
        "* zdefiniować i wytrenować model z jednym neuronem\n",
        "* narysować ewolucję funkcji straty w skalach liniowej i logarytmicznej\n",
        "* narysować dane użyte do treningu oraz wynik działania modelu\n",
        "* narysować histogram różnicy względnej modelu i prawdziwej wartości: `(true-model)/true`\n",
        "* wypisać i zinterpretować wagi modelu porównując je ze współczynnikami dwumianu"
      ]
    },
    {
      "cell_type": "code",
      "execution_count": null,
      "metadata": {
        "editable": true,
        "id": "3uSMiAHO4AKb",
        "tags": []
      },
      "outputs": [],
      "source": [
        "...rozwiązanie...\n",
        "pass"
      ]
    },
    {
      "cell_type": "code",
      "execution_count": null,
      "metadata": {
        "editable": true,
        "id": "hYnWRL8L4AKb",
        "tags": []
      },
      "outputs": [],
      "source": []
    }
  ],
  "metadata": {
    "colab": {
      "provenance": []
    },
    "kernelspec": {
      "display_name": "Python 3 (ipykernel)",
      "language": "python",
      "name": "python3"
    },
    "language_info": {
      "codemirror_mode": {
        "name": "ipython",
        "version": 3
      },
      "file_extension": ".py",
      "mimetype": "text/x-python",
      "name": "python",
      "nbconvert_exporter": "python",
      "pygments_lexer": "ipython3",
      "version": "3.11.0rc1"
    },
    "rise": {
      "center": false,
      "controls": false,
      "footer": "<h3>Letnia Szkoła<br>Fizyki 2023</h3>",
      "header": "<h1>Hello</h1>",
      "progress": "true",
      "slideNumber": "c/t",
      "transition": "none"
    }
  },
  "nbformat": 4,
  "nbformat_minor": 0
}
